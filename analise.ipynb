{
 "cells": [
  {
   "cell_type": "code",
   "execution_count": 737,
   "metadata": {},
   "outputs": [],
   "source": [
    "import requests\n",
    "from datetime import timedelta\n",
    "import json\n",
    "import pandas as pd\n",
    "import plotly.express as px\n",
    "from pandas import json_normalize  \n",
    "\n",
    "url = \"https://rootd4.vercel.app/score/all\"\n",
    "response = requests.get(url)\n",
    "dados = response.json()\n",
    "# Transformar a resposta JSON em DataFrame\n",
    "df = pd.DataFrame(response.json()).copy()\n"
   ]
  },
  {
   "cell_type": "code",
   "execution_count": 738,
   "metadata": {},
   "outputs": [],
   "source": [
    "pd.set_option('display.max_columns', 100)\n",
    "pd.set_option('display.max_rows', 150)\n",
    "pd.set_option('display.max_colwidth', 150)\n",
    "pd.set_option('display.width', 120)\n",
    "pd.set_option('expand_frame_repr', True)"
   ]
  },
  {
   "cell_type": "markdown",
   "metadata": {},
   "source": [
    "## Quantidade de partidas"
   ]
  },
  {
   "cell_type": "code",
   "execution_count": 739,
   "metadata": {},
   "outputs": [
    {
     "data": {
      "text/plain": [
       "165"
      ]
     },
     "execution_count": 739,
     "metadata": {},
     "output_type": "execute_result"
    }
   ],
   "source": [
    "df.shape[0]"
   ]
  },
  {
   "cell_type": "markdown",
   "metadata": {},
   "source": [
    "## ID Pokemon"
   ]
  },
  {
   "cell_type": "code",
   "execution_count": 740,
   "metadata": {},
   "outputs": [],
   "source": [
    "def support_id_nome(id):\n",
    "    support_names = {\n",
    "        0: \"Arcanine\",\n",
    "        1: \"Azumarill\",\n",
    "        2: \"Flareon\",\n",
    "        3: \"Kingler\",\n",
    "        4: \"Leafeon\",\n",
    "        5: \"Glalie\",\n",
    "        6: \"Beedrill\",\n",
    "        7: \"Vaporeon\",\n",
    "        8: \"Electabuzz\",\n",
    "        9: \"Ampharos\",\n",
    "        10: \"Muk\",\n",
    "        11: \"Jolteon\",\n",
    "        12: \"Rhydon\",\n",
    "        13 : \"MrMime\",\n",
    "        14: \"Swampert\",\n",
    "        15: \"Glaceon\",\n",
    "        16: \"Alakazam\",\n",
    "        17: \"Pidgeot\",\n",
    "        18: \"Meganium\",\n",
    "        19: \"Umbreon\",\n",
    "        20: \"Victribell\",\n",
    "        21: \"Espeon\",\n",
    "        22: \"Magneton\"\n",
    "    }\n",
    "    return support_names.get(int(id), \"Unknown Support\")\n",
    "\n",
    "\n",
    "def hero_nome_id(id):\n",
    "    hero_names = {\n",
    "        0: \"Bulbasaur\",\n",
    "        1: \"Charmander\",\n",
    "        2: \"Squirtle\",\n",
    "        3: \"Pikachu\"\n",
    "    }\n",
    "    return hero_names.get(int(id), \"Unknown Hero\")"
   ]
  },
  {
   "cell_type": "code",
   "execution_count": 741,
   "metadata": {},
   "outputs": [],
   "source": [
    "df['info'] = df['info'].apply(json.loads)"
   ]
  },
  {
   "cell_type": "code",
   "execution_count": 742,
   "metadata": {},
   "outputs": [],
   "source": [
    "# Normalizar 'info'\n",
    "info_df = pd.json_normalize(df['info'].tolist())\n",
    "\n",
    "# Adicionar 'name' em info\n",
    "info_df['name'] = df['name']\n",
    "info_df['time'] = pd.to_numeric(df['time'])\n",
    "\n",
    "# Filtrar registros com pokemon diferente de -1\n",
    "stats_df = pd.json_normalize(df['info'].tolist(), 'statistics')\n",
    "stats_df['pokemon'] = stats_df['pokemon'].astype(int)\n",
    "\n",
    "# Adicionar 'name' em stats\n",
    "stats_df['name'] = df['name'].repeat(info_df['statistics'].apply(len).tolist()).reset_index(drop=True)\n",
    "\n",
    "stats_dfo = stats_df\n",
    "stats_df = stats_df.query('pokemon != -1')"
   ]
  },
  {
   "cell_type": "markdown",
   "metadata": {},
   "source": [
    "## TOP 5 Suportes usados por names"
   ]
  },
  {
   "cell_type": "code",
   "execution_count": 743,
   "metadata": {},
   "outputs": [
    {
     "data": {
      "text/html": [
       "<div>\n",
       "<style scoped>\n",
       "    .dataframe tbody tr th:only-of-type {\n",
       "        vertical-align: middle;\n",
       "    }\n",
       "\n",
       "    .dataframe tbody tr th {\n",
       "        vertical-align: top;\n",
       "    }\n",
       "\n",
       "    .dataframe thead th {\n",
       "        text-align: right;\n",
       "    }\n",
       "</style>\n",
       "<table border=\"1\" class=\"dataframe\">\n",
       "  <thead>\n",
       "    <tr style=\"text-align: right;\">\n",
       "      <th></th>\n",
       "      <th>name</th>\n",
       "      <th>Top 5 Suportes</th>\n",
       "    </tr>\n",
       "  </thead>\n",
       "  <tbody>\n",
       "    <tr>\n",
       "      <th>0</th>\n",
       "      <td>Delirio</td>\n",
       "      <td>Arcanine, Muk, Jolteon, MrMime, Glalie</td>\n",
       "    </tr>\n",
       "    <tr>\n",
       "      <th>1</th>\n",
       "      <td>Guiltybr</td>\n",
       "      <td>Arcanine, Kingler, Glalie, Electabuzz, Muk</td>\n",
       "    </tr>\n",
       "    <tr>\n",
       "      <th>2</th>\n",
       "      <td>Jihn</td>\n",
       "      <td>Electabuzz, Umbreon, Magneton, Arcanine, Kingler</td>\n",
       "    </tr>\n",
       "    <tr>\n",
       "      <th>3</th>\n",
       "      <td>Jumbrado</td>\n",
       "      <td>Arcanine, Beedrill, Electabuzz, Kingler, Muk</td>\n",
       "    </tr>\n",
       "    <tr>\n",
       "      <th>4</th>\n",
       "      <td>KNOCK</td>\n",
       "      <td>Arcanine, Kingler, Ampharos, Muk, Jolteon</td>\n",
       "    </tr>\n",
       "    <tr>\n",
       "      <th>5</th>\n",
       "      <td>Ks</td>\n",
       "      <td>Arcanine, Meganium, Kingler, Beedrill, Muk</td>\n",
       "    </tr>\n",
       "    <tr>\n",
       "      <th>6</th>\n",
       "      <td>Lipekill</td>\n",
       "      <td>Arcanine, Magneton, Kingler, Electabuzz, Muk</td>\n",
       "    </tr>\n",
       "    <tr>\n",
       "      <th>7</th>\n",
       "      <td>Lironi</td>\n",
       "      <td>Arcanine, Electabuzz, Kingler, Glaceon, Meganium</td>\n",
       "    </tr>\n",
       "    <tr>\n",
       "      <th>8</th>\n",
       "      <td>Luhmb</td>\n",
       "      <td>Kingler, Beedrill, Electabuzz, Alakazam, Magneton</td>\n",
       "    </tr>\n",
       "    <tr>\n",
       "      <th>9</th>\n",
       "      <td>MatthawsRdC</td>\n",
       "      <td>Jolteon, MrMime, Espeon, Glalie, Vaporeon</td>\n",
       "    </tr>\n",
       "    <tr>\n",
       "      <th>10</th>\n",
       "      <td>Mestre LpK</td>\n",
       "      <td>Arcanine, Jolteon, Meganium, Kingler, Muk</td>\n",
       "    </tr>\n",
       "    <tr>\n",
       "      <th>11</th>\n",
       "      <td>NewJeans</td>\n",
       "      <td>Arcanine, Kingler, Beedrill, Umbreon, Electabuzz</td>\n",
       "    </tr>\n",
       "    <tr>\n",
       "      <th>12</th>\n",
       "      <td>Nico</td>\n",
       "      <td>Arcanine, Kingler, Beedrill, Meganium, Umbreon</td>\n",
       "    </tr>\n",
       "    <tr>\n",
       "      <th>13</th>\n",
       "      <td>Paula</td>\n",
       "      <td>Jolteon, MrMime, Alakazam, Pidgeot, Espeon</td>\n",
       "    </tr>\n",
       "    <tr>\n",
       "      <th>14</th>\n",
       "      <td>Root</td>\n",
       "      <td>Arcanine, Azumarill, Kingler, Electabuzz, Meganium</td>\n",
       "    </tr>\n",
       "    <tr>\n",
       "      <th>15</th>\n",
       "      <td>Royal</td>\n",
       "      <td>Arcanine, Electabuzz, Kingler, Umbreon, Meganium</td>\n",
       "    </tr>\n",
       "    <tr>\n",
       "      <th>16</th>\n",
       "      <td>Weiss</td>\n",
       "      <td>Arcanine, Meganium, Azumarill, Electabuzz, Ampharos</td>\n",
       "    </tr>\n",
       "    <tr>\n",
       "      <th>17</th>\n",
       "      <td>Xanad0</td>\n",
       "      <td>Arcanine, Kingler, Electabuzz, Umbreon, Beedrill</td>\n",
       "    </tr>\n",
       "    <tr>\n",
       "      <th>18</th>\n",
       "      <td>ackloh mito</td>\n",
       "      <td>Alakazam, Azumarill, Flareon, Muk, Jolteon</td>\n",
       "    </tr>\n",
       "    <tr>\n",
       "      <th>19</th>\n",
       "      <td>ftbr</td>\n",
       "      <td>Arcanine, Jolteon, Meganium, Espeon, Azumarill</td>\n",
       "    </tr>\n",
       "    <tr>\n",
       "      <th>20</th>\n",
       "      <td>kawa</td>\n",
       "      <td>Arcanine, Kingler, Electabuzz, Umbreon, Beedrill</td>\n",
       "    </tr>\n",
       "    <tr>\n",
       "      <th>21</th>\n",
       "      <td>zenin</td>\n",
       "      <td>Arcanine, Leafeon, Jolteon, Alakazam, Victribell</td>\n",
       "    </tr>\n",
       "  </tbody>\n",
       "</table>\n",
       "</div>"
      ],
      "text/plain": [
       "           name                                       Top 5 Suportes\n",
       "0       Delirio               Arcanine, Muk, Jolteon, MrMime, Glalie\n",
       "1      Guiltybr           Arcanine, Kingler, Glalie, Electabuzz, Muk\n",
       "2          Jihn     Electabuzz, Umbreon, Magneton, Arcanine, Kingler\n",
       "3      Jumbrado         Arcanine, Beedrill, Electabuzz, Kingler, Muk\n",
       "4         KNOCK            Arcanine, Kingler, Ampharos, Muk, Jolteon\n",
       "5            Ks           Arcanine, Meganium, Kingler, Beedrill, Muk\n",
       "6      Lipekill         Arcanine, Magneton, Kingler, Electabuzz, Muk\n",
       "7        Lironi     Arcanine, Electabuzz, Kingler, Glaceon, Meganium\n",
       "8         Luhmb    Kingler, Beedrill, Electabuzz, Alakazam, Magneton\n",
       "9   MatthawsRdC            Jolteon, MrMime, Espeon, Glalie, Vaporeon\n",
       "10   Mestre LpK            Arcanine, Jolteon, Meganium, Kingler, Muk\n",
       "11     NewJeans     Arcanine, Kingler, Beedrill, Umbreon, Electabuzz\n",
       "12         Nico       Arcanine, Kingler, Beedrill, Meganium, Umbreon\n",
       "13        Paula           Jolteon, MrMime, Alakazam, Pidgeot, Espeon\n",
       "14         Root   Arcanine, Azumarill, Kingler, Electabuzz, Meganium\n",
       "15        Royal     Arcanine, Electabuzz, Kingler, Umbreon, Meganium\n",
       "16        Weiss  Arcanine, Meganium, Azumarill, Electabuzz, Ampharos\n",
       "17       Xanad0     Arcanine, Kingler, Electabuzz, Umbreon, Beedrill\n",
       "18  ackloh mito           Alakazam, Azumarill, Flareon, Muk, Jolteon\n",
       "19         ftbr       Arcanine, Jolteon, Meganium, Espeon, Azumarill\n",
       "20         kawa     Arcanine, Kingler, Electabuzz, Umbreon, Beedrill\n",
       "21        zenin     Arcanine, Leafeon, Jolteon, Alakazam, Victribell"
      ]
     },
     "execution_count": 743,
     "metadata": {},
     "output_type": "execute_result"
    }
   ],
   "source": [
    "top5_suportes_jogadores = info_df\n",
    "\n",
    "stats_df = stats_df.query('pokemon != -1')\n",
    "\n",
    "top5_suportes_jogadores = (\n",
    "    stats_df.groupby(['name', 'pokemon'])\n",
    "    .size()\n",
    "    .reset_index(name='count')\n",
    "    .sort_values(by=['name', 'count'], ascending=[True, False])\n",
    "    .groupby('name', as_index=False)  # Evita a criação de índice adicional\n",
    "    .head(5)\n",
    "    .groupby('name')['pokemon']\n",
    "    .agg(lambda x: ', '.join(map(str, x)))\n",
    "    .reset_index(name='Top 5 Suportes')\n",
    ")\n",
    "\n",
    "# Adicionar nomes de Pokémon usando a função support_id_nome\n",
    "top5_suportes_jogadores['Top 5 Suportes'] = top5_suportes_jogadores['Top 5 Suportes'].apply(lambda x: ', '.join(map(support_id_nome, x.split(','))))\n",
    "\n",
    "\n",
    "# Exibir o DataFrame resultante\n",
    "top5_suportes_jogadores[['name', 'Top 5 Suportes']]\n",
    "\n"
   ]
  },
  {
   "cell_type": "markdown",
   "metadata": {},
   "source": [
    "## Suportes mais utilizados"
   ]
  },
  {
   "cell_type": "code",
   "execution_count": 744,
   "metadata": {},
   "outputs": [
    {
     "data": {
      "text/html": [
       "<div>\n",
       "<style scoped>\n",
       "    .dataframe tbody tr th:only-of-type {\n",
       "        vertical-align: middle;\n",
       "    }\n",
       "\n",
       "    .dataframe tbody tr th {\n",
       "        vertical-align: top;\n",
       "    }\n",
       "\n",
       "    .dataframe thead th {\n",
       "        text-align: right;\n",
       "    }\n",
       "</style>\n",
       "<table border=\"1\" class=\"dataframe\">\n",
       "  <thead>\n",
       "    <tr style=\"text-align: right;\">\n",
       "      <th></th>\n",
       "      <th>Nome</th>\n",
       "      <th>Quant</th>\n",
       "    </tr>\n",
       "  </thead>\n",
       "  <tbody>\n",
       "    <tr>\n",
       "      <th>0</th>\n",
       "      <td>Arcanine</td>\n",
       "      <td>121</td>\n",
       "    </tr>\n",
       "    <tr>\n",
       "      <th>1</th>\n",
       "      <td>Kingler</td>\n",
       "      <td>101</td>\n",
       "    </tr>\n",
       "    <tr>\n",
       "      <th>2</th>\n",
       "      <td>Electabuzz</td>\n",
       "      <td>81</td>\n",
       "    </tr>\n",
       "    <tr>\n",
       "      <th>3</th>\n",
       "      <td>Beedrill</td>\n",
       "      <td>67</td>\n",
       "    </tr>\n",
       "    <tr>\n",
       "      <th>4</th>\n",
       "      <td>Meganium</td>\n",
       "      <td>63</td>\n",
       "    </tr>\n",
       "    <tr>\n",
       "      <th>5</th>\n",
       "      <td>Umbreon</td>\n",
       "      <td>62</td>\n",
       "    </tr>\n",
       "    <tr>\n",
       "      <th>6</th>\n",
       "      <td>Magneton</td>\n",
       "      <td>42</td>\n",
       "    </tr>\n",
       "    <tr>\n",
       "      <th>7</th>\n",
       "      <td>Azumarill</td>\n",
       "      <td>40</td>\n",
       "    </tr>\n",
       "    <tr>\n",
       "      <th>8</th>\n",
       "      <td>Muk</td>\n",
       "      <td>34</td>\n",
       "    </tr>\n",
       "    <tr>\n",
       "      <th>9</th>\n",
       "      <td>Ampharos</td>\n",
       "      <td>33</td>\n",
       "    </tr>\n",
       "    <tr>\n",
       "      <th>10</th>\n",
       "      <td>Jolteon</td>\n",
       "      <td>26</td>\n",
       "    </tr>\n",
       "    <tr>\n",
       "      <th>11</th>\n",
       "      <td>Swampert</td>\n",
       "      <td>23</td>\n",
       "    </tr>\n",
       "    <tr>\n",
       "      <th>12</th>\n",
       "      <td>Flareon</td>\n",
       "      <td>21</td>\n",
       "    </tr>\n",
       "    <tr>\n",
       "      <th>13</th>\n",
       "      <td>Alakazam</td>\n",
       "      <td>17</td>\n",
       "    </tr>\n",
       "    <tr>\n",
       "      <th>14</th>\n",
       "      <td>Leafeon</td>\n",
       "      <td>14</td>\n",
       "    </tr>\n",
       "    <tr>\n",
       "      <th>15</th>\n",
       "      <td>Espeon</td>\n",
       "      <td>14</td>\n",
       "    </tr>\n",
       "    <tr>\n",
       "      <th>16</th>\n",
       "      <td>MrMime</td>\n",
       "      <td>14</td>\n",
       "    </tr>\n",
       "    <tr>\n",
       "      <th>17</th>\n",
       "      <td>Glalie</td>\n",
       "      <td>13</td>\n",
       "    </tr>\n",
       "    <tr>\n",
       "      <th>18</th>\n",
       "      <td>Vaporeon</td>\n",
       "      <td>11</td>\n",
       "    </tr>\n",
       "    <tr>\n",
       "      <th>19</th>\n",
       "      <td>Rhydon</td>\n",
       "      <td>10</td>\n",
       "    </tr>\n",
       "    <tr>\n",
       "      <th>20</th>\n",
       "      <td>Victribell</td>\n",
       "      <td>9</td>\n",
       "    </tr>\n",
       "    <tr>\n",
       "      <th>21</th>\n",
       "      <td>Glaceon</td>\n",
       "      <td>7</td>\n",
       "    </tr>\n",
       "    <tr>\n",
       "      <th>22</th>\n",
       "      <td>Pidgeot</td>\n",
       "      <td>2</td>\n",
       "    </tr>\n",
       "  </tbody>\n",
       "</table>\n",
       "</div>"
      ],
      "text/plain": [
       "          Nome  Quant\n",
       "0     Arcanine    121\n",
       "1      Kingler    101\n",
       "2   Electabuzz     81\n",
       "3     Beedrill     67\n",
       "4     Meganium     63\n",
       "5      Umbreon     62\n",
       "6     Magneton     42\n",
       "7    Azumarill     40\n",
       "8          Muk     34\n",
       "9     Ampharos     33\n",
       "10     Jolteon     26\n",
       "11    Swampert     23\n",
       "12     Flareon     21\n",
       "13    Alakazam     17\n",
       "14     Leafeon     14\n",
       "15      Espeon     14\n",
       "16      MrMime     14\n",
       "17      Glalie     13\n",
       "18    Vaporeon     11\n",
       "19      Rhydon     10\n",
       "20  Victribell      9\n",
       "21     Glaceon      7\n",
       "22     Pidgeot      2"
      ]
     },
     "execution_count": 744,
     "metadata": {},
     "output_type": "execute_result"
    }
   ],
   "source": [
    "# Contar a ocorrência de cada Pokémon\n",
    "suportes_mais_usados = stats_df['pokemon'].value_counts().reset_index(name='count')\n",
    "\n",
    "#Remover o heroi -1\n",
    "suportes_mais_usados = suportes_mais_usados.query('pokemon != -1').reset_index(drop=True)\n",
    "\n",
    "# Adicionar nomes de Pokémon usando a função support_id_nome\n",
    "suportes_mais_usados['pokemon'] = suportes_mais_usados['pokemon'].apply(support_id_nome)\n",
    "\n",
    "# Criar o gráfico de barras com o Plotly\n",
    "fig = px.bar(suportes_mais_usados, x='pokemon', y='count', title='Pokémons de Suporte Mais Usados')\n",
    "fig.update_layout(xaxis=dict(tickangle=45))  # Ajustar a rotação dos rótulos para melhor legibilidade\n",
    "\n",
    "# Exibir o gráfico\n",
    "#fig.show()\n",
    "\n",
    "suportes_mais_usados = suportes_mais_usados.rename(columns={'pokemon': 'Nome', 'count':'Quant'})\n",
    "suportes_mais_usados\n"
   ]
  },
  {
   "cell_type": "markdown",
   "metadata": {},
   "source": [
    "## Maior tempo de jogo"
   ]
  },
  {
   "cell_type": "code",
   "execution_count": 745,
   "metadata": {},
   "outputs": [
    {
     "data": {
      "application/vnd.plotly.v1+json": {
       "config": {
        "plotlyServerURL": "https://plot.ly"
       },
       "data": [
        {
         "alignmentgroup": "True",
         "hovertemplate": "name=%{x}<br>tempo_total_horas=%{y}<extra></extra>",
         "legendgroup": "",
         "marker": {
          "color": "#636efa",
          "pattern": {
           "shape": ""
          }
         },
         "name": "",
         "offsetgroup": "",
         "orientation": "v",
         "showlegend": false,
         "textposition": "auto",
         "type": "bar",
         "x": [
          "Delirio",
          "Guiltybr",
          "Jihn",
          "Jumbrado",
          "KNOCK",
          "Ks",
          "Lipekill",
          "Lironi",
          "Luhmb",
          "MatthawsRdC",
          "Mestre LpK",
          "NewJeans",
          "Nico",
          "Paula",
          "Root",
          "Royal",
          "Weiss",
          "Xanad0",
          "ackloh mito",
          "ftbr",
          "kawa",
          "zenin"
         ],
         "xaxis": "x",
         "y": [
          "01:08:14",
          "00:56:45",
          "00:49:02",
          "03:13:25",
          "01:48:36",
          "02:39:28",
          "00:58:01",
          "01:40:30",
          "00:26:12",
          "01:03:56",
          "03:42:45",
          "03:36:59",
          "11:47:27",
          "00:41:37",
          "01:11:54",
          "07:14:30",
          "03:12:31",
          "11:08:01",
          "01:09:29",
          "02:11:39",
          "08:19:30",
          "00:32:54"
         ],
         "yaxis": "y"
        }
       ],
       "layout": {
        "barmode": "relative",
        "legend": {
         "tracegroupgap": 0
        },
        "template": {
         "data": {
          "bar": [
           {
            "error_x": {
             "color": "#2a3f5f"
            },
            "error_y": {
             "color": "#2a3f5f"
            },
            "marker": {
             "line": {
              "color": "#E5ECF6",
              "width": 0.5
             },
             "pattern": {
              "fillmode": "overlay",
              "size": 10,
              "solidity": 0.2
             }
            },
            "type": "bar"
           }
          ],
          "barpolar": [
           {
            "marker": {
             "line": {
              "color": "#E5ECF6",
              "width": 0.5
             },
             "pattern": {
              "fillmode": "overlay",
              "size": 10,
              "solidity": 0.2
             }
            },
            "type": "barpolar"
           }
          ],
          "carpet": [
           {
            "aaxis": {
             "endlinecolor": "#2a3f5f",
             "gridcolor": "white",
             "linecolor": "white",
             "minorgridcolor": "white",
             "startlinecolor": "#2a3f5f"
            },
            "baxis": {
             "endlinecolor": "#2a3f5f",
             "gridcolor": "white",
             "linecolor": "white",
             "minorgridcolor": "white",
             "startlinecolor": "#2a3f5f"
            },
            "type": "carpet"
           }
          ],
          "choropleth": [
           {
            "colorbar": {
             "outlinewidth": 0,
             "ticks": ""
            },
            "type": "choropleth"
           }
          ],
          "contour": [
           {
            "colorbar": {
             "outlinewidth": 0,
             "ticks": ""
            },
            "colorscale": [
             [
              0,
              "#0d0887"
             ],
             [
              0.1111111111111111,
              "#46039f"
             ],
             [
              0.2222222222222222,
              "#7201a8"
             ],
             [
              0.3333333333333333,
              "#9c179e"
             ],
             [
              0.4444444444444444,
              "#bd3786"
             ],
             [
              0.5555555555555556,
              "#d8576b"
             ],
             [
              0.6666666666666666,
              "#ed7953"
             ],
             [
              0.7777777777777778,
              "#fb9f3a"
             ],
             [
              0.8888888888888888,
              "#fdca26"
             ],
             [
              1,
              "#f0f921"
             ]
            ],
            "type": "contour"
           }
          ],
          "contourcarpet": [
           {
            "colorbar": {
             "outlinewidth": 0,
             "ticks": ""
            },
            "type": "contourcarpet"
           }
          ],
          "heatmap": [
           {
            "colorbar": {
             "outlinewidth": 0,
             "ticks": ""
            },
            "colorscale": [
             [
              0,
              "#0d0887"
             ],
             [
              0.1111111111111111,
              "#46039f"
             ],
             [
              0.2222222222222222,
              "#7201a8"
             ],
             [
              0.3333333333333333,
              "#9c179e"
             ],
             [
              0.4444444444444444,
              "#bd3786"
             ],
             [
              0.5555555555555556,
              "#d8576b"
             ],
             [
              0.6666666666666666,
              "#ed7953"
             ],
             [
              0.7777777777777778,
              "#fb9f3a"
             ],
             [
              0.8888888888888888,
              "#fdca26"
             ],
             [
              1,
              "#f0f921"
             ]
            ],
            "type": "heatmap"
           }
          ],
          "heatmapgl": [
           {
            "colorbar": {
             "outlinewidth": 0,
             "ticks": ""
            },
            "colorscale": [
             [
              0,
              "#0d0887"
             ],
             [
              0.1111111111111111,
              "#46039f"
             ],
             [
              0.2222222222222222,
              "#7201a8"
             ],
             [
              0.3333333333333333,
              "#9c179e"
             ],
             [
              0.4444444444444444,
              "#bd3786"
             ],
             [
              0.5555555555555556,
              "#d8576b"
             ],
             [
              0.6666666666666666,
              "#ed7953"
             ],
             [
              0.7777777777777778,
              "#fb9f3a"
             ],
             [
              0.8888888888888888,
              "#fdca26"
             ],
             [
              1,
              "#f0f921"
             ]
            ],
            "type": "heatmapgl"
           }
          ],
          "histogram": [
           {
            "marker": {
             "pattern": {
              "fillmode": "overlay",
              "size": 10,
              "solidity": 0.2
             }
            },
            "type": "histogram"
           }
          ],
          "histogram2d": [
           {
            "colorbar": {
             "outlinewidth": 0,
             "ticks": ""
            },
            "colorscale": [
             [
              0,
              "#0d0887"
             ],
             [
              0.1111111111111111,
              "#46039f"
             ],
             [
              0.2222222222222222,
              "#7201a8"
             ],
             [
              0.3333333333333333,
              "#9c179e"
             ],
             [
              0.4444444444444444,
              "#bd3786"
             ],
             [
              0.5555555555555556,
              "#d8576b"
             ],
             [
              0.6666666666666666,
              "#ed7953"
             ],
             [
              0.7777777777777778,
              "#fb9f3a"
             ],
             [
              0.8888888888888888,
              "#fdca26"
             ],
             [
              1,
              "#f0f921"
             ]
            ],
            "type": "histogram2d"
           }
          ],
          "histogram2dcontour": [
           {
            "colorbar": {
             "outlinewidth": 0,
             "ticks": ""
            },
            "colorscale": [
             [
              0,
              "#0d0887"
             ],
             [
              0.1111111111111111,
              "#46039f"
             ],
             [
              0.2222222222222222,
              "#7201a8"
             ],
             [
              0.3333333333333333,
              "#9c179e"
             ],
             [
              0.4444444444444444,
              "#bd3786"
             ],
             [
              0.5555555555555556,
              "#d8576b"
             ],
             [
              0.6666666666666666,
              "#ed7953"
             ],
             [
              0.7777777777777778,
              "#fb9f3a"
             ],
             [
              0.8888888888888888,
              "#fdca26"
             ],
             [
              1,
              "#f0f921"
             ]
            ],
            "type": "histogram2dcontour"
           }
          ],
          "mesh3d": [
           {
            "colorbar": {
             "outlinewidth": 0,
             "ticks": ""
            },
            "type": "mesh3d"
           }
          ],
          "parcoords": [
           {
            "line": {
             "colorbar": {
              "outlinewidth": 0,
              "ticks": ""
             }
            },
            "type": "parcoords"
           }
          ],
          "pie": [
           {
            "automargin": true,
            "type": "pie"
           }
          ],
          "scatter": [
           {
            "fillpattern": {
             "fillmode": "overlay",
             "size": 10,
             "solidity": 0.2
            },
            "type": "scatter"
           }
          ],
          "scatter3d": [
           {
            "line": {
             "colorbar": {
              "outlinewidth": 0,
              "ticks": ""
             }
            },
            "marker": {
             "colorbar": {
              "outlinewidth": 0,
              "ticks": ""
             }
            },
            "type": "scatter3d"
           }
          ],
          "scattercarpet": [
           {
            "marker": {
             "colorbar": {
              "outlinewidth": 0,
              "ticks": ""
             }
            },
            "type": "scattercarpet"
           }
          ],
          "scattergeo": [
           {
            "marker": {
             "colorbar": {
              "outlinewidth": 0,
              "ticks": ""
             }
            },
            "type": "scattergeo"
           }
          ],
          "scattergl": [
           {
            "marker": {
             "colorbar": {
              "outlinewidth": 0,
              "ticks": ""
             }
            },
            "type": "scattergl"
           }
          ],
          "scattermapbox": [
           {
            "marker": {
             "colorbar": {
              "outlinewidth": 0,
              "ticks": ""
             }
            },
            "type": "scattermapbox"
           }
          ],
          "scatterpolar": [
           {
            "marker": {
             "colorbar": {
              "outlinewidth": 0,
              "ticks": ""
             }
            },
            "type": "scatterpolar"
           }
          ],
          "scatterpolargl": [
           {
            "marker": {
             "colorbar": {
              "outlinewidth": 0,
              "ticks": ""
             }
            },
            "type": "scatterpolargl"
           }
          ],
          "scatterternary": [
           {
            "marker": {
             "colorbar": {
              "outlinewidth": 0,
              "ticks": ""
             }
            },
            "type": "scatterternary"
           }
          ],
          "surface": [
           {
            "colorbar": {
             "outlinewidth": 0,
             "ticks": ""
            },
            "colorscale": [
             [
              0,
              "#0d0887"
             ],
             [
              0.1111111111111111,
              "#46039f"
             ],
             [
              0.2222222222222222,
              "#7201a8"
             ],
             [
              0.3333333333333333,
              "#9c179e"
             ],
             [
              0.4444444444444444,
              "#bd3786"
             ],
             [
              0.5555555555555556,
              "#d8576b"
             ],
             [
              0.6666666666666666,
              "#ed7953"
             ],
             [
              0.7777777777777778,
              "#fb9f3a"
             ],
             [
              0.8888888888888888,
              "#fdca26"
             ],
             [
              1,
              "#f0f921"
             ]
            ],
            "type": "surface"
           }
          ],
          "table": [
           {
            "cells": {
             "fill": {
              "color": "#EBF0F8"
             },
             "line": {
              "color": "white"
             }
            },
            "header": {
             "fill": {
              "color": "#C8D4E3"
             },
             "line": {
              "color": "white"
             }
            },
            "type": "table"
           }
          ]
         },
         "layout": {
          "annotationdefaults": {
           "arrowcolor": "#2a3f5f",
           "arrowhead": 0,
           "arrowwidth": 1
          },
          "autotypenumbers": "strict",
          "coloraxis": {
           "colorbar": {
            "outlinewidth": 0,
            "ticks": ""
           }
          },
          "colorscale": {
           "diverging": [
            [
             0,
             "#8e0152"
            ],
            [
             0.1,
             "#c51b7d"
            ],
            [
             0.2,
             "#de77ae"
            ],
            [
             0.3,
             "#f1b6da"
            ],
            [
             0.4,
             "#fde0ef"
            ],
            [
             0.5,
             "#f7f7f7"
            ],
            [
             0.6,
             "#e6f5d0"
            ],
            [
             0.7,
             "#b8e186"
            ],
            [
             0.8,
             "#7fbc41"
            ],
            [
             0.9,
             "#4d9221"
            ],
            [
             1,
             "#276419"
            ]
           ],
           "sequential": [
            [
             0,
             "#0d0887"
            ],
            [
             0.1111111111111111,
             "#46039f"
            ],
            [
             0.2222222222222222,
             "#7201a8"
            ],
            [
             0.3333333333333333,
             "#9c179e"
            ],
            [
             0.4444444444444444,
             "#bd3786"
            ],
            [
             0.5555555555555556,
             "#d8576b"
            ],
            [
             0.6666666666666666,
             "#ed7953"
            ],
            [
             0.7777777777777778,
             "#fb9f3a"
            ],
            [
             0.8888888888888888,
             "#fdca26"
            ],
            [
             1,
             "#f0f921"
            ]
           ],
           "sequentialminus": [
            [
             0,
             "#0d0887"
            ],
            [
             0.1111111111111111,
             "#46039f"
            ],
            [
             0.2222222222222222,
             "#7201a8"
            ],
            [
             0.3333333333333333,
             "#9c179e"
            ],
            [
             0.4444444444444444,
             "#bd3786"
            ],
            [
             0.5555555555555556,
             "#d8576b"
            ],
            [
             0.6666666666666666,
             "#ed7953"
            ],
            [
             0.7777777777777778,
             "#fb9f3a"
            ],
            [
             0.8888888888888888,
             "#fdca26"
            ],
            [
             1,
             "#f0f921"
            ]
           ]
          },
          "colorway": [
           "#636efa",
           "#EF553B",
           "#00cc96",
           "#ab63fa",
           "#FFA15A",
           "#19d3f3",
           "#FF6692",
           "#B6E880",
           "#FF97FF",
           "#FECB52"
          ],
          "font": {
           "color": "#2a3f5f"
          },
          "geo": {
           "bgcolor": "white",
           "lakecolor": "white",
           "landcolor": "#E5ECF6",
           "showlakes": true,
           "showland": true,
           "subunitcolor": "white"
          },
          "hoverlabel": {
           "align": "left"
          },
          "hovermode": "closest",
          "mapbox": {
           "style": "light"
          },
          "paper_bgcolor": "white",
          "plot_bgcolor": "#E5ECF6",
          "polar": {
           "angularaxis": {
            "gridcolor": "white",
            "linecolor": "white",
            "ticks": ""
           },
           "bgcolor": "#E5ECF6",
           "radialaxis": {
            "gridcolor": "white",
            "linecolor": "white",
            "ticks": ""
           }
          },
          "scene": {
           "xaxis": {
            "backgroundcolor": "#E5ECF6",
            "gridcolor": "white",
            "gridwidth": 2,
            "linecolor": "white",
            "showbackground": true,
            "ticks": "",
            "zerolinecolor": "white"
           },
           "yaxis": {
            "backgroundcolor": "#E5ECF6",
            "gridcolor": "white",
            "gridwidth": 2,
            "linecolor": "white",
            "showbackground": true,
            "ticks": "",
            "zerolinecolor": "white"
           },
           "zaxis": {
            "backgroundcolor": "#E5ECF6",
            "gridcolor": "white",
            "gridwidth": 2,
            "linecolor": "white",
            "showbackground": true,
            "ticks": "",
            "zerolinecolor": "white"
           }
          },
          "shapedefaults": {
           "line": {
            "color": "#2a3f5f"
           }
          },
          "ternary": {
           "aaxis": {
            "gridcolor": "white",
            "linecolor": "white",
            "ticks": ""
           },
           "baxis": {
            "gridcolor": "white",
            "linecolor": "white",
            "ticks": ""
           },
           "bgcolor": "#E5ECF6",
           "caxis": {
            "gridcolor": "white",
            "linecolor": "white",
            "ticks": ""
           }
          },
          "title": {
           "x": 0.05
          },
          "xaxis": {
           "automargin": true,
           "gridcolor": "white",
           "linecolor": "white",
           "ticks": "",
           "title": {
            "standoff": 15
           },
           "zerolinecolor": "white",
           "zerolinewidth": 2
          },
          "yaxis": {
           "automargin": true,
           "gridcolor": "white",
           "linecolor": "white",
           "ticks": "",
           "title": {
            "standoff": 15
           },
           "zerolinecolor": "white",
           "zerolinewidth": 2
          }
         }
        },
        "title": {
         "text": "Distribuição do Tempo Total Jogado por Jogador"
        },
        "xaxis": {
         "anchor": "y",
         "domain": [
          0,
          1
         ],
         "title": {
          "text": "name"
         }
        },
        "yaxis": {
         "anchor": "x",
         "domain": [
          0,
          1
         ],
         "title": {
          "text": "tempo_total_horas"
         }
        }
       }
      }
     },
     "metadata": {},
     "output_type": "display_data"
    }
   ],
   "source": [
    "# Adicione esta linha\n",
    "aux_df = info_df\n",
    "\n",
    "# Calcular a quantidade total de tempo jogado por 'name' em segundos\n",
    "tempo_total_jogo_nome = aux_df.groupby('name')['time'].sum().reset_index(name='tempo_total_segundos')\n",
    "\n",
    "# Converter os segundos para horas\n",
    "tempo_total_jogo_nome['tempo_total_horas'] = tempo_total_jogo_nome['tempo_total_segundos'] / 3600\n",
    "\n",
    "# Converter os segundos para formato de hora\n",
    "tempo_total_jogo_nome['tempo_total_horas'] = pd.to_datetime(tempo_total_jogo_nome['tempo_total_segundos'], unit='s').dt.strftime('%H:%M:%S')\n",
    "\n",
    "# Exibir a tabela\n",
    "#tempo_total_jogo_nome[['name', 'tempo_total_horas']]\n",
    "\n",
    "# Criar um gráfico de barras interativo com o Plotly\n",
    "fig = px.bar(\n",
    "    tempo_total_jogo_nome,\n",
    "    x='name',\n",
    "    y='tempo_total_horas',\n",
    "    labels={'total_time_seconds': 'Tempo Total Jogado (segundos)'},\n",
    "    title='Distribuição do Tempo Total Jogado por Jogador',\n",
    ")\n",
    "tempo_total_jogo_nome['tempo_total_horas'] = pd.to_timedelta(tempo_total_jogo_nome['tempo_total_horas'])\n",
    "\n",
    "media_tempo = tempo_total_jogo_nome['tempo_total_horas'].mean()\n",
    "\n",
    "\n",
    "\n",
    "\n",
    "\n",
    "# Exibir o gráfico\n",
    "fig.show()"
   ]
  },
  {
   "cell_type": "markdown",
   "metadata": {},
   "source": [
    "## Jogadores Vitórias"
   ]
  },
  {
   "cell_type": "code",
   "execution_count": 746,
   "metadata": {},
   "outputs": [
    {
     "data": {
      "text/html": [
       "<div>\n",
       "<style scoped>\n",
       "    .dataframe tbody tr th:only-of-type {\n",
       "        vertical-align: middle;\n",
       "    }\n",
       "\n",
       "    .dataframe tbody tr th {\n",
       "        vertical-align: top;\n",
       "    }\n",
       "\n",
       "    .dataframe thead th {\n",
       "        text-align: right;\n",
       "    }\n",
       "</style>\n",
       "<table border=\"1\" class=\"dataframe\">\n",
       "  <thead>\n",
       "    <tr style=\"text-align: right;\">\n",
       "      <th></th>\n",
       "      <th>name</th>\n",
       "      <th>vitorias</th>\n",
       "      <th>media_tempo</th>\n",
       "    </tr>\n",
       "  </thead>\n",
       "  <tbody>\n",
       "    <tr>\n",
       "      <th>0</th>\n",
       "      <td>Nico</td>\n",
       "      <td>30</td>\n",
       "      <td>23:34.903861</td>\n",
       "    </tr>\n",
       "    <tr>\n",
       "      <th>1</th>\n",
       "      <td>Xanad0</td>\n",
       "      <td>29</td>\n",
       "      <td>23:02.112898</td>\n",
       "    </tr>\n",
       "    <tr>\n",
       "      <th>2</th>\n",
       "      <td>kawa</td>\n",
       "      <td>21</td>\n",
       "      <td>23:47.180623</td>\n",
       "    </tr>\n",
       "    <tr>\n",
       "      <th>3</th>\n",
       "      <td>Royal</td>\n",
       "      <td>18</td>\n",
       "      <td>24:08.372226</td>\n",
       "    </tr>\n",
       "    <tr>\n",
       "      <th>4</th>\n",
       "      <td>NewJeans</td>\n",
       "      <td>9</td>\n",
       "      <td>24:06.641777</td>\n",
       "    </tr>\n",
       "    <tr>\n",
       "      <th>5</th>\n",
       "      <td>Jumbrado</td>\n",
       "      <td>8</td>\n",
       "      <td>24:10.686492</td>\n",
       "    </tr>\n",
       "    <tr>\n",
       "      <th>6</th>\n",
       "      <td>Weiss</td>\n",
       "      <td>7</td>\n",
       "      <td>27:30.258562</td>\n",
       "    </tr>\n",
       "    <tr>\n",
       "      <th>7</th>\n",
       "      <td>Ks</td>\n",
       "      <td>6</td>\n",
       "      <td>26:34.745015</td>\n",
       "    </tr>\n",
       "    <tr>\n",
       "      <th>8</th>\n",
       "      <td>Mestre LpK</td>\n",
       "      <td>6</td>\n",
       "      <td>37:07.591488</td>\n",
       "    </tr>\n",
       "    <tr>\n",
       "      <th>9</th>\n",
       "      <td>ftbr</td>\n",
       "      <td>5</td>\n",
       "      <td>26:19.986206</td>\n",
       "    </tr>\n",
       "    <tr>\n",
       "      <th>10</th>\n",
       "      <td>KNOCK</td>\n",
       "      <td>4</td>\n",
       "      <td>27:09.029479</td>\n",
       "    </tr>\n",
       "    <tr>\n",
       "      <th>11</th>\n",
       "      <td>Lironi</td>\n",
       "      <td>4</td>\n",
       "      <td>25:07.721008</td>\n",
       "    </tr>\n",
       "    <tr>\n",
       "      <th>12</th>\n",
       "      <td>Root</td>\n",
       "      <td>3</td>\n",
       "      <td>23:58.238688</td>\n",
       "    </tr>\n",
       "    <tr>\n",
       "      <th>13</th>\n",
       "      <td>ackloh mito</td>\n",
       "      <td>2</td>\n",
       "      <td>34:44.970947</td>\n",
       "    </tr>\n",
       "    <tr>\n",
       "      <th>14</th>\n",
       "      <td>Delirio</td>\n",
       "      <td>2</td>\n",
       "      <td>34:07.002502</td>\n",
       "    </tr>\n",
       "    <tr>\n",
       "      <th>15</th>\n",
       "      <td>Guiltybr</td>\n",
       "      <td>2</td>\n",
       "      <td>28:22.967468</td>\n",
       "    </tr>\n",
       "    <tr>\n",
       "      <th>16</th>\n",
       "      <td>MatthawsRdC</td>\n",
       "      <td>2</td>\n",
       "      <td>31:58.324462</td>\n",
       "    </tr>\n",
       "    <tr>\n",
       "      <th>17</th>\n",
       "      <td>Lipekill</td>\n",
       "      <td>2</td>\n",
       "      <td>29:00.617004</td>\n",
       "    </tr>\n",
       "    <tr>\n",
       "      <th>18</th>\n",
       "      <td>Jihn</td>\n",
       "      <td>2</td>\n",
       "      <td>24:31.228027</td>\n",
       "    </tr>\n",
       "    <tr>\n",
       "      <th>19</th>\n",
       "      <td>Paula</td>\n",
       "      <td>1</td>\n",
       "      <td>41:37.697998</td>\n",
       "    </tr>\n",
       "    <tr>\n",
       "      <th>20</th>\n",
       "      <td>Luhmb</td>\n",
       "      <td>1</td>\n",
       "      <td>26:12.671997</td>\n",
       "    </tr>\n",
       "    <tr>\n",
       "      <th>21</th>\n",
       "      <td>zenin</td>\n",
       "      <td>1</td>\n",
       "      <td>32:54.987060</td>\n",
       "    </tr>\n",
       "  </tbody>\n",
       "</table>\n",
       "</div>"
      ],
      "text/plain": [
       "           name  vitorias   media_tempo\n",
       "0          Nico        30  23:34.903861\n",
       "1        Xanad0        29  23:02.112898\n",
       "2          kawa        21  23:47.180623\n",
       "3         Royal        18  24:08.372226\n",
       "4      NewJeans         9  24:06.641777\n",
       "5      Jumbrado         8  24:10.686492\n",
       "6         Weiss         7  27:30.258562\n",
       "7            Ks         6  26:34.745015\n",
       "8    Mestre LpK         6  37:07.591488\n",
       "9          ftbr         5  26:19.986206\n",
       "10        KNOCK         4  27:09.029479\n",
       "11       Lironi         4  25:07.721008\n",
       "12         Root         3  23:58.238688\n",
       "13  ackloh mito         2  34:44.970947\n",
       "14      Delirio         2  34:07.002502\n",
       "15     Guiltybr         2  28:22.967468\n",
       "16  MatthawsRdC         2  31:58.324462\n",
       "17     Lipekill         2  29:00.617004\n",
       "18         Jihn         2  24:31.228027\n",
       "19        Paula         1  41:37.697998\n",
       "20        Luhmb         1  26:12.671997\n",
       "21        zenin         1  32:54.987060"
      ]
     },
     "execution_count": 746,
     "metadata": {},
     "output_type": "execute_result"
    }
   ],
   "source": [
    "# Criar uma tabela com a contagem de cada jogador\n",
    "vitorias_jogadores = info_df.groupby('name').size().reset_index(name='vitorias').sort_values(by='vitorias', ascending=False)\n",
    "\n",
    "# Converter a coluna 'time' para numérica\n",
    "info_df['time'] = pd.to_numeric(info_df['time'], errors='coerce')\n",
    "\n",
    "# Calcular a média de tempo para cada jogador em minutos\n",
    "media_tempo = info_df.groupby('name')['time'].mean().reset_index(name='media_tempo')\n",
    "media_tempo['media_tempo'] /= 60  # Convertendo para minutos\n",
    "media_tempo['media_tempo'] = pd.to_datetime(media_tempo['media_tempo'], unit='m').dt.strftime('%M:%S.%f')\n",
    "\n",
    "# Exibir a tabela\n",
    "resultado_final = pd.merge(vitorias_jogadores, media_tempo, on='name')\n",
    "\n",
    "resultado_final\n",
    "\n"
   ]
  },
  {
   "cell_type": "markdown",
   "metadata": {},
   "source": [
    "## Quantidade jogada heróis"
   ]
  },
  {
   "cell_type": "code",
   "execution_count": 747,
   "metadata": {},
   "outputs": [
    {
     "data": {
      "application/vnd.plotly.v1+json": {
       "config": {
        "plotlyServerURL": "https://plot.ly"
       },
       "data": [
        {
         "domain": {
          "x": [
           0,
           1
          ],
          "y": [
           0,
           1
          ]
         },
         "hovertemplate": "hero_nome=%{label}<br>quantidade=%{value}<extra></extra>",
         "labels": [
          "Bulbasaur",
          "Charmander",
          "Pikachu",
          "Squirtle"
         ],
         "legendgroup": "",
         "name": "",
         "showlegend": true,
         "type": "pie",
         "values": [
          55,
          60,
          29,
          21
         ]
        }
       ],
       "layout": {
        "legend": {
         "tracegroupgap": 0
        },
        "template": {
         "data": {
          "bar": [
           {
            "error_x": {
             "color": "#2a3f5f"
            },
            "error_y": {
             "color": "#2a3f5f"
            },
            "marker": {
             "line": {
              "color": "#E5ECF6",
              "width": 0.5
             },
             "pattern": {
              "fillmode": "overlay",
              "size": 10,
              "solidity": 0.2
             }
            },
            "type": "bar"
           }
          ],
          "barpolar": [
           {
            "marker": {
             "line": {
              "color": "#E5ECF6",
              "width": 0.5
             },
             "pattern": {
              "fillmode": "overlay",
              "size": 10,
              "solidity": 0.2
             }
            },
            "type": "barpolar"
           }
          ],
          "carpet": [
           {
            "aaxis": {
             "endlinecolor": "#2a3f5f",
             "gridcolor": "white",
             "linecolor": "white",
             "minorgridcolor": "white",
             "startlinecolor": "#2a3f5f"
            },
            "baxis": {
             "endlinecolor": "#2a3f5f",
             "gridcolor": "white",
             "linecolor": "white",
             "minorgridcolor": "white",
             "startlinecolor": "#2a3f5f"
            },
            "type": "carpet"
           }
          ],
          "choropleth": [
           {
            "colorbar": {
             "outlinewidth": 0,
             "ticks": ""
            },
            "type": "choropleth"
           }
          ],
          "contour": [
           {
            "colorbar": {
             "outlinewidth": 0,
             "ticks": ""
            },
            "colorscale": [
             [
              0,
              "#0d0887"
             ],
             [
              0.1111111111111111,
              "#46039f"
             ],
             [
              0.2222222222222222,
              "#7201a8"
             ],
             [
              0.3333333333333333,
              "#9c179e"
             ],
             [
              0.4444444444444444,
              "#bd3786"
             ],
             [
              0.5555555555555556,
              "#d8576b"
             ],
             [
              0.6666666666666666,
              "#ed7953"
             ],
             [
              0.7777777777777778,
              "#fb9f3a"
             ],
             [
              0.8888888888888888,
              "#fdca26"
             ],
             [
              1,
              "#f0f921"
             ]
            ],
            "type": "contour"
           }
          ],
          "contourcarpet": [
           {
            "colorbar": {
             "outlinewidth": 0,
             "ticks": ""
            },
            "type": "contourcarpet"
           }
          ],
          "heatmap": [
           {
            "colorbar": {
             "outlinewidth": 0,
             "ticks": ""
            },
            "colorscale": [
             [
              0,
              "#0d0887"
             ],
             [
              0.1111111111111111,
              "#46039f"
             ],
             [
              0.2222222222222222,
              "#7201a8"
             ],
             [
              0.3333333333333333,
              "#9c179e"
             ],
             [
              0.4444444444444444,
              "#bd3786"
             ],
             [
              0.5555555555555556,
              "#d8576b"
             ],
             [
              0.6666666666666666,
              "#ed7953"
             ],
             [
              0.7777777777777778,
              "#fb9f3a"
             ],
             [
              0.8888888888888888,
              "#fdca26"
             ],
             [
              1,
              "#f0f921"
             ]
            ],
            "type": "heatmap"
           }
          ],
          "heatmapgl": [
           {
            "colorbar": {
             "outlinewidth": 0,
             "ticks": ""
            },
            "colorscale": [
             [
              0,
              "#0d0887"
             ],
             [
              0.1111111111111111,
              "#46039f"
             ],
             [
              0.2222222222222222,
              "#7201a8"
             ],
             [
              0.3333333333333333,
              "#9c179e"
             ],
             [
              0.4444444444444444,
              "#bd3786"
             ],
             [
              0.5555555555555556,
              "#d8576b"
             ],
             [
              0.6666666666666666,
              "#ed7953"
             ],
             [
              0.7777777777777778,
              "#fb9f3a"
             ],
             [
              0.8888888888888888,
              "#fdca26"
             ],
             [
              1,
              "#f0f921"
             ]
            ],
            "type": "heatmapgl"
           }
          ],
          "histogram": [
           {
            "marker": {
             "pattern": {
              "fillmode": "overlay",
              "size": 10,
              "solidity": 0.2
             }
            },
            "type": "histogram"
           }
          ],
          "histogram2d": [
           {
            "colorbar": {
             "outlinewidth": 0,
             "ticks": ""
            },
            "colorscale": [
             [
              0,
              "#0d0887"
             ],
             [
              0.1111111111111111,
              "#46039f"
             ],
             [
              0.2222222222222222,
              "#7201a8"
             ],
             [
              0.3333333333333333,
              "#9c179e"
             ],
             [
              0.4444444444444444,
              "#bd3786"
             ],
             [
              0.5555555555555556,
              "#d8576b"
             ],
             [
              0.6666666666666666,
              "#ed7953"
             ],
             [
              0.7777777777777778,
              "#fb9f3a"
             ],
             [
              0.8888888888888888,
              "#fdca26"
             ],
             [
              1,
              "#f0f921"
             ]
            ],
            "type": "histogram2d"
           }
          ],
          "histogram2dcontour": [
           {
            "colorbar": {
             "outlinewidth": 0,
             "ticks": ""
            },
            "colorscale": [
             [
              0,
              "#0d0887"
             ],
             [
              0.1111111111111111,
              "#46039f"
             ],
             [
              0.2222222222222222,
              "#7201a8"
             ],
             [
              0.3333333333333333,
              "#9c179e"
             ],
             [
              0.4444444444444444,
              "#bd3786"
             ],
             [
              0.5555555555555556,
              "#d8576b"
             ],
             [
              0.6666666666666666,
              "#ed7953"
             ],
             [
              0.7777777777777778,
              "#fb9f3a"
             ],
             [
              0.8888888888888888,
              "#fdca26"
             ],
             [
              1,
              "#f0f921"
             ]
            ],
            "type": "histogram2dcontour"
           }
          ],
          "mesh3d": [
           {
            "colorbar": {
             "outlinewidth": 0,
             "ticks": ""
            },
            "type": "mesh3d"
           }
          ],
          "parcoords": [
           {
            "line": {
             "colorbar": {
              "outlinewidth": 0,
              "ticks": ""
             }
            },
            "type": "parcoords"
           }
          ],
          "pie": [
           {
            "automargin": true,
            "type": "pie"
           }
          ],
          "scatter": [
           {
            "fillpattern": {
             "fillmode": "overlay",
             "size": 10,
             "solidity": 0.2
            },
            "type": "scatter"
           }
          ],
          "scatter3d": [
           {
            "line": {
             "colorbar": {
              "outlinewidth": 0,
              "ticks": ""
             }
            },
            "marker": {
             "colorbar": {
              "outlinewidth": 0,
              "ticks": ""
             }
            },
            "type": "scatter3d"
           }
          ],
          "scattercarpet": [
           {
            "marker": {
             "colorbar": {
              "outlinewidth": 0,
              "ticks": ""
             }
            },
            "type": "scattercarpet"
           }
          ],
          "scattergeo": [
           {
            "marker": {
             "colorbar": {
              "outlinewidth": 0,
              "ticks": ""
             }
            },
            "type": "scattergeo"
           }
          ],
          "scattergl": [
           {
            "marker": {
             "colorbar": {
              "outlinewidth": 0,
              "ticks": ""
             }
            },
            "type": "scattergl"
           }
          ],
          "scattermapbox": [
           {
            "marker": {
             "colorbar": {
              "outlinewidth": 0,
              "ticks": ""
             }
            },
            "type": "scattermapbox"
           }
          ],
          "scatterpolar": [
           {
            "marker": {
             "colorbar": {
              "outlinewidth": 0,
              "ticks": ""
             }
            },
            "type": "scatterpolar"
           }
          ],
          "scatterpolargl": [
           {
            "marker": {
             "colorbar": {
              "outlinewidth": 0,
              "ticks": ""
             }
            },
            "type": "scatterpolargl"
           }
          ],
          "scatterternary": [
           {
            "marker": {
             "colorbar": {
              "outlinewidth": 0,
              "ticks": ""
             }
            },
            "type": "scatterternary"
           }
          ],
          "surface": [
           {
            "colorbar": {
             "outlinewidth": 0,
             "ticks": ""
            },
            "colorscale": [
             [
              0,
              "#0d0887"
             ],
             [
              0.1111111111111111,
              "#46039f"
             ],
             [
              0.2222222222222222,
              "#7201a8"
             ],
             [
              0.3333333333333333,
              "#9c179e"
             ],
             [
              0.4444444444444444,
              "#bd3786"
             ],
             [
              0.5555555555555556,
              "#d8576b"
             ],
             [
              0.6666666666666666,
              "#ed7953"
             ],
             [
              0.7777777777777778,
              "#fb9f3a"
             ],
             [
              0.8888888888888888,
              "#fdca26"
             ],
             [
              1,
              "#f0f921"
             ]
            ],
            "type": "surface"
           }
          ],
          "table": [
           {
            "cells": {
             "fill": {
              "color": "#EBF0F8"
             },
             "line": {
              "color": "white"
             }
            },
            "header": {
             "fill": {
              "color": "#C8D4E3"
             },
             "line": {
              "color": "white"
             }
            },
            "type": "table"
           }
          ]
         },
         "layout": {
          "annotationdefaults": {
           "arrowcolor": "#2a3f5f",
           "arrowhead": 0,
           "arrowwidth": 1
          },
          "autotypenumbers": "strict",
          "coloraxis": {
           "colorbar": {
            "outlinewidth": 0,
            "ticks": ""
           }
          },
          "colorscale": {
           "diverging": [
            [
             0,
             "#8e0152"
            ],
            [
             0.1,
             "#c51b7d"
            ],
            [
             0.2,
             "#de77ae"
            ],
            [
             0.3,
             "#f1b6da"
            ],
            [
             0.4,
             "#fde0ef"
            ],
            [
             0.5,
             "#f7f7f7"
            ],
            [
             0.6,
             "#e6f5d0"
            ],
            [
             0.7,
             "#b8e186"
            ],
            [
             0.8,
             "#7fbc41"
            ],
            [
             0.9,
             "#4d9221"
            ],
            [
             1,
             "#276419"
            ]
           ],
           "sequential": [
            [
             0,
             "#0d0887"
            ],
            [
             0.1111111111111111,
             "#46039f"
            ],
            [
             0.2222222222222222,
             "#7201a8"
            ],
            [
             0.3333333333333333,
             "#9c179e"
            ],
            [
             0.4444444444444444,
             "#bd3786"
            ],
            [
             0.5555555555555556,
             "#d8576b"
            ],
            [
             0.6666666666666666,
             "#ed7953"
            ],
            [
             0.7777777777777778,
             "#fb9f3a"
            ],
            [
             0.8888888888888888,
             "#fdca26"
            ],
            [
             1,
             "#f0f921"
            ]
           ],
           "sequentialminus": [
            [
             0,
             "#0d0887"
            ],
            [
             0.1111111111111111,
             "#46039f"
            ],
            [
             0.2222222222222222,
             "#7201a8"
            ],
            [
             0.3333333333333333,
             "#9c179e"
            ],
            [
             0.4444444444444444,
             "#bd3786"
            ],
            [
             0.5555555555555556,
             "#d8576b"
            ],
            [
             0.6666666666666666,
             "#ed7953"
            ],
            [
             0.7777777777777778,
             "#fb9f3a"
            ],
            [
             0.8888888888888888,
             "#fdca26"
            ],
            [
             1,
             "#f0f921"
            ]
           ]
          },
          "colorway": [
           "#636efa",
           "#EF553B",
           "#00cc96",
           "#ab63fa",
           "#FFA15A",
           "#19d3f3",
           "#FF6692",
           "#B6E880",
           "#FF97FF",
           "#FECB52"
          ],
          "font": {
           "color": "#2a3f5f"
          },
          "geo": {
           "bgcolor": "white",
           "lakecolor": "white",
           "landcolor": "#E5ECF6",
           "showlakes": true,
           "showland": true,
           "subunitcolor": "white"
          },
          "hoverlabel": {
           "align": "left"
          },
          "hovermode": "closest",
          "mapbox": {
           "style": "light"
          },
          "paper_bgcolor": "white",
          "plot_bgcolor": "#E5ECF6",
          "polar": {
           "angularaxis": {
            "gridcolor": "white",
            "linecolor": "white",
            "ticks": ""
           },
           "bgcolor": "#E5ECF6",
           "radialaxis": {
            "gridcolor": "white",
            "linecolor": "white",
            "ticks": ""
           }
          },
          "scene": {
           "xaxis": {
            "backgroundcolor": "#E5ECF6",
            "gridcolor": "white",
            "gridwidth": 2,
            "linecolor": "white",
            "showbackground": true,
            "ticks": "",
            "zerolinecolor": "white"
           },
           "yaxis": {
            "backgroundcolor": "#E5ECF6",
            "gridcolor": "white",
            "gridwidth": 2,
            "linecolor": "white",
            "showbackground": true,
            "ticks": "",
            "zerolinecolor": "white"
           },
           "zaxis": {
            "backgroundcolor": "#E5ECF6",
            "gridcolor": "white",
            "gridwidth": 2,
            "linecolor": "white",
            "showbackground": true,
            "ticks": "",
            "zerolinecolor": "white"
           }
          },
          "shapedefaults": {
           "line": {
            "color": "#2a3f5f"
           }
          },
          "ternary": {
           "aaxis": {
            "gridcolor": "white",
            "linecolor": "white",
            "ticks": ""
           },
           "baxis": {
            "gridcolor": "white",
            "linecolor": "white",
            "ticks": ""
           },
           "bgcolor": "#E5ECF6",
           "caxis": {
            "gridcolor": "white",
            "linecolor": "white",
            "ticks": ""
           }
          },
          "title": {
           "x": 0.05
          },
          "xaxis": {
           "automargin": true,
           "gridcolor": "white",
           "linecolor": "white",
           "ticks": "",
           "title": {
            "standoff": 15
           },
           "zerolinecolor": "white",
           "zerolinewidth": 2
          },
          "yaxis": {
           "automargin": true,
           "gridcolor": "white",
           "linecolor": "white",
           "ticks": "",
           "title": {
            "standoff": 15
           },
           "zerolinecolor": "white",
           "zerolinewidth": 2
          }
         }
        },
        "title": {
         "text": "Contagem de Personagens por Nome de Herói"
        }
       }
      }
     },
     "metadata": {},
     "output_type": "display_data"
    }
   ],
   "source": [
    "# Criar um DataFrame com os dados\n",
    "contagem_heroi = info_df\n",
    "\n",
    "contagem_heroi['hero_nome'] = contagem_heroi['character'].apply(hero_nome_id)\n",
    "\n",
    "# Criar uma tabela com a contagem de cada personagem usando groupby\n",
    "contagem_heroi = info_df.groupby(['hero_nome']).size().reset_index(name='quantidade')\n",
    "\n",
    "# Exibir o gráfico\n",
    "#contagem_heroi\n",
    "\n",
    "# Criar um gráfico de pizza com Plotly Express\n",
    "fig = px.pie(contagem_heroi, values='quantidade', names='hero_nome', title='Contagem de Personagens por Nome de Herói')\n",
    "\n",
    "fig.show()\n"
   ]
  },
  {
   "cell_type": "markdown",
   "metadata": {},
   "source": [
    "## Herói mais jogado por jogador"
   ]
  },
  {
   "cell_type": "code",
   "execution_count": 748,
   "metadata": {},
   "outputs": [
    {
     "data": {
      "text/html": [
       "<div>\n",
       "<style scoped>\n",
       "    .dataframe tbody tr th:only-of-type {\n",
       "        vertical-align: middle;\n",
       "    }\n",
       "\n",
       "    .dataframe tbody tr th {\n",
       "        vertical-align: top;\n",
       "    }\n",
       "\n",
       "    .dataframe thead th {\n",
       "        text-align: right;\n",
       "    }\n",
       "</style>\n",
       "<table border=\"1\" class=\"dataframe\">\n",
       "  <thead>\n",
       "    <tr style=\"text-align: right;\">\n",
       "      <th></th>\n",
       "      <th>name</th>\n",
       "      <th>hero_nome</th>\n",
       "      <th>quantidade</th>\n",
       "    </tr>\n",
       "  </thead>\n",
       "  <tbody>\n",
       "    <tr>\n",
       "      <th>0</th>\n",
       "      <td>Delirio</td>\n",
       "      <td>Bulbasaur</td>\n",
       "      <td>1</td>\n",
       "    </tr>\n",
       "    <tr>\n",
       "      <th>2</th>\n",
       "      <td>Guiltybr</td>\n",
       "      <td>Bulbasaur</td>\n",
       "      <td>1</td>\n",
       "    </tr>\n",
       "    <tr>\n",
       "      <th>4</th>\n",
       "      <td>Jihn</td>\n",
       "      <td>Pikachu</td>\n",
       "      <td>2</td>\n",
       "    </tr>\n",
       "    <tr>\n",
       "      <th>5</th>\n",
       "      <td>Jumbrado</td>\n",
       "      <td>Bulbasaur</td>\n",
       "      <td>4</td>\n",
       "    </tr>\n",
       "    <tr>\n",
       "      <th>8</th>\n",
       "      <td>KNOCK</td>\n",
       "      <td>Bulbasaur</td>\n",
       "      <td>4</td>\n",
       "    </tr>\n",
       "    <tr>\n",
       "      <th>9</th>\n",
       "      <td>Ks</td>\n",
       "      <td>Bulbasaur</td>\n",
       "      <td>5</td>\n",
       "    </tr>\n",
       "    <tr>\n",
       "      <th>11</th>\n",
       "      <td>Lipekill</td>\n",
       "      <td>Bulbasaur</td>\n",
       "      <td>1</td>\n",
       "    </tr>\n",
       "    <tr>\n",
       "      <th>13</th>\n",
       "      <td>Lironi</td>\n",
       "      <td>Bulbasaur</td>\n",
       "      <td>2</td>\n",
       "    </tr>\n",
       "    <tr>\n",
       "      <th>15</th>\n",
       "      <td>Luhmb</td>\n",
       "      <td>Bulbasaur</td>\n",
       "      <td>1</td>\n",
       "    </tr>\n",
       "    <tr>\n",
       "      <th>16</th>\n",
       "      <td>MatthawsRdC</td>\n",
       "      <td>Pikachu</td>\n",
       "      <td>2</td>\n",
       "    </tr>\n",
       "    <tr>\n",
       "      <th>19</th>\n",
       "      <td>Mestre LpK</td>\n",
       "      <td>Pikachu</td>\n",
       "      <td>3</td>\n",
       "    </tr>\n",
       "    <tr>\n",
       "      <th>23</th>\n",
       "      <td>NewJeans</td>\n",
       "      <td>Squirtle</td>\n",
       "      <td>4</td>\n",
       "    </tr>\n",
       "    <tr>\n",
       "      <th>25</th>\n",
       "      <td>Nico</td>\n",
       "      <td>Charmander</td>\n",
       "      <td>14</td>\n",
       "    </tr>\n",
       "    <tr>\n",
       "      <th>28</th>\n",
       "      <td>Paula</td>\n",
       "      <td>Bulbasaur</td>\n",
       "      <td>1</td>\n",
       "    </tr>\n",
       "    <tr>\n",
       "      <th>30</th>\n",
       "      <td>Root</td>\n",
       "      <td>Squirtle</td>\n",
       "      <td>2</td>\n",
       "    </tr>\n",
       "    <tr>\n",
       "      <th>31</th>\n",
       "      <td>Royal</td>\n",
       "      <td>Bulbasaur</td>\n",
       "      <td>15</td>\n",
       "    </tr>\n",
       "    <tr>\n",
       "      <th>34</th>\n",
       "      <td>Weiss</td>\n",
       "      <td>Charmander</td>\n",
       "      <td>4</td>\n",
       "    </tr>\n",
       "    <tr>\n",
       "      <th>38</th>\n",
       "      <td>Xanad0</td>\n",
       "      <td>Charmander</td>\n",
       "      <td>16</td>\n",
       "    </tr>\n",
       "    <tr>\n",
       "      <th>41</th>\n",
       "      <td>ackloh mito</td>\n",
       "      <td>Bulbasaur</td>\n",
       "      <td>2</td>\n",
       "    </tr>\n",
       "    <tr>\n",
       "      <th>42</th>\n",
       "      <td>ftbr</td>\n",
       "      <td>Bulbasaur</td>\n",
       "      <td>3</td>\n",
       "    </tr>\n",
       "    <tr>\n",
       "      <th>45</th>\n",
       "      <td>kawa</td>\n",
       "      <td>Charmander</td>\n",
       "      <td>16</td>\n",
       "    </tr>\n",
       "    <tr>\n",
       "      <th>48</th>\n",
       "      <td>zenin</td>\n",
       "      <td>Bulbasaur</td>\n",
       "      <td>1</td>\n",
       "    </tr>\n",
       "  </tbody>\n",
       "</table>\n",
       "</div>"
      ],
      "text/plain": [
       "           name   hero_nome  quantidade\n",
       "0       Delirio   Bulbasaur           1\n",
       "2      Guiltybr   Bulbasaur           1\n",
       "4          Jihn     Pikachu           2\n",
       "5      Jumbrado   Bulbasaur           4\n",
       "8         KNOCK   Bulbasaur           4\n",
       "9            Ks   Bulbasaur           5\n",
       "11     Lipekill   Bulbasaur           1\n",
       "13       Lironi   Bulbasaur           2\n",
       "15        Luhmb   Bulbasaur           1\n",
       "16  MatthawsRdC     Pikachu           2\n",
       "19   Mestre LpK     Pikachu           3\n",
       "23     NewJeans    Squirtle           4\n",
       "25         Nico  Charmander          14\n",
       "28        Paula   Bulbasaur           1\n",
       "30         Root    Squirtle           2\n",
       "31        Royal   Bulbasaur          15\n",
       "34        Weiss  Charmander           4\n",
       "38       Xanad0  Charmander          16\n",
       "41  ackloh mito   Bulbasaur           2\n",
       "42         ftbr   Bulbasaur           3\n",
       "45         kawa  Charmander          16\n",
       "48        zenin   Bulbasaur           1"
      ]
     },
     "execution_count": 748,
     "metadata": {},
     "output_type": "execute_result"
    }
   ],
   "source": [
    "heroi_preferido_por_jogador = info_df \n",
    "\n",
    "# Calcular a contagem de ocorrências de cada personagem por jogador\n",
    "heroi_preferido_por_jogador = heroi_preferido_por_jogador.groupby(['name', 'hero_nome']).size().reset_index(name='quantidade')\n",
    "\n",
    "# Encontrar o índice do primeiro valor máximo para cada jogador\n",
    "idx = heroi_preferido_por_jogador.groupby('name')['quantidade'].idxmax()\n",
    "heroi_preferido_por_jogador = heroi_preferido_por_jogador.loc[idx]\n",
    "\n",
    "# Exibir a tabela final\n",
    "heroi_preferido_por_jogador[['name', 'hero_nome', 'quantidade']]\n"
   ]
  },
  {
   "cell_type": "markdown",
   "metadata": {},
   "source": [
    "## Suporte mais jogado pelos jogadores"
   ]
  },
  {
   "cell_type": "code",
   "execution_count": 749,
   "metadata": {},
   "outputs": [
    {
     "data": {
      "text/html": [
       "<div>\n",
       "<style scoped>\n",
       "    .dataframe tbody tr th:only-of-type {\n",
       "        vertical-align: middle;\n",
       "    }\n",
       "\n",
       "    .dataframe tbody tr th {\n",
       "        vertical-align: top;\n",
       "    }\n",
       "\n",
       "    .dataframe thead th {\n",
       "        text-align: right;\n",
       "    }\n",
       "</style>\n",
       "<table border=\"1\" class=\"dataframe\">\n",
       "  <thead>\n",
       "    <tr style=\"text-align: right;\">\n",
       "      <th></th>\n",
       "      <th>name</th>\n",
       "      <th>support_nome</th>\n",
       "      <th>quantidade</th>\n",
       "    </tr>\n",
       "  </thead>\n",
       "  <tbody>\n",
       "    <tr>\n",
       "      <th>5</th>\n",
       "      <td>Delirio</td>\n",
       "      <td>Muk</td>\n",
       "      <td>2</td>\n",
       "    </tr>\n",
       "    <tr>\n",
       "      <th>15</th>\n",
       "      <td>Guiltybr</td>\n",
       "      <td>Umbreon</td>\n",
       "      <td>1</td>\n",
       "    </tr>\n",
       "    <tr>\n",
       "      <th>22</th>\n",
       "      <td>Jihn</td>\n",
       "      <td>Umbreon</td>\n",
       "      <td>2</td>\n",
       "    </tr>\n",
       "    <tr>\n",
       "      <th>33</th>\n",
       "      <td>Jumbrado</td>\n",
       "      <td>Umbreon</td>\n",
       "      <td>1</td>\n",
       "    </tr>\n",
       "    <tr>\n",
       "      <th>45</th>\n",
       "      <td>KNOCK</td>\n",
       "      <td>Vaporeon</td>\n",
       "      <td>1</td>\n",
       "    </tr>\n",
       "    <tr>\n",
       "      <th>59</th>\n",
       "      <td>Ks</td>\n",
       "      <td>Victribell</td>\n",
       "      <td>1</td>\n",
       "    </tr>\n",
       "    <tr>\n",
       "      <th>67</th>\n",
       "      <td>Lipekill</td>\n",
       "      <td>Victribell</td>\n",
       "      <td>1</td>\n",
       "    </tr>\n",
       "    <tr>\n",
       "      <th>79</th>\n",
       "      <td>Lironi</td>\n",
       "      <td>Swampert</td>\n",
       "      <td>1</td>\n",
       "    </tr>\n",
       "    <tr>\n",
       "      <th>84</th>\n",
       "      <td>Luhmb</td>\n",
       "      <td>Magneton</td>\n",
       "      <td>1</td>\n",
       "    </tr>\n",
       "    <tr>\n",
       "      <th>91</th>\n",
       "      <td>MatthawsRdC</td>\n",
       "      <td>Victribell</td>\n",
       "      <td>1</td>\n",
       "    </tr>\n",
       "    <tr>\n",
       "      <th>106</th>\n",
       "      <td>Mestre LpK</td>\n",
       "      <td>Umbreon</td>\n",
       "      <td>2</td>\n",
       "    </tr>\n",
       "    <tr>\n",
       "      <th>122</th>\n",
       "      <td>NewJeans</td>\n",
       "      <td>Victribell</td>\n",
       "      <td>1</td>\n",
       "    </tr>\n",
       "    <tr>\n",
       "      <th>139</th>\n",
       "      <td>Nico</td>\n",
       "      <td>Vaporeon</td>\n",
       "      <td>5</td>\n",
       "    </tr>\n",
       "    <tr>\n",
       "      <th>144</th>\n",
       "      <td>Paula</td>\n",
       "      <td>Pidgeot</td>\n",
       "      <td>1</td>\n",
       "    </tr>\n",
       "    <tr>\n",
       "      <th>154</th>\n",
       "      <td>Root</td>\n",
       "      <td>Meganium</td>\n",
       "      <td>2</td>\n",
       "    </tr>\n",
       "    <tr>\n",
       "      <th>174</th>\n",
       "      <td>Royal</td>\n",
       "      <td>Victribell</td>\n",
       "      <td>2</td>\n",
       "    </tr>\n",
       "    <tr>\n",
       "      <th>190</th>\n",
       "      <td>Weiss</td>\n",
       "      <td>Victribell</td>\n",
       "      <td>1</td>\n",
       "    </tr>\n",
       "    <tr>\n",
       "      <th>204</th>\n",
       "      <td>Xanad0</td>\n",
       "      <td>Umbreon</td>\n",
       "      <td>17</td>\n",
       "    </tr>\n",
       "    <tr>\n",
       "      <th>213</th>\n",
       "      <td>ackloh mito</td>\n",
       "      <td>Umbreon</td>\n",
       "      <td>1</td>\n",
       "    </tr>\n",
       "    <tr>\n",
       "      <th>226</th>\n",
       "      <td>ftbr</td>\n",
       "      <td>Victribell</td>\n",
       "      <td>1</td>\n",
       "    </tr>\n",
       "    <tr>\n",
       "      <th>245</th>\n",
       "      <td>kawa</td>\n",
       "      <td>Vaporeon</td>\n",
       "      <td>2</td>\n",
       "    </tr>\n",
       "    <tr>\n",
       "      <th>250</th>\n",
       "      <td>zenin</td>\n",
       "      <td>Victribell</td>\n",
       "      <td>1</td>\n",
       "    </tr>\n",
       "  </tbody>\n",
       "</table>\n",
       "</div>"
      ],
      "text/plain": [
       "            name support_nome  quantidade\n",
       "5        Delirio          Muk           2\n",
       "15      Guiltybr      Umbreon           1\n",
       "22          Jihn      Umbreon           2\n",
       "33      Jumbrado      Umbreon           1\n",
       "45         KNOCK     Vaporeon           1\n",
       "59            Ks   Victribell           1\n",
       "67      Lipekill   Victribell           1\n",
       "79        Lironi     Swampert           1\n",
       "84         Luhmb     Magneton           1\n",
       "91   MatthawsRdC   Victribell           1\n",
       "106   Mestre LpK      Umbreon           2\n",
       "122     NewJeans   Victribell           1\n",
       "139         Nico     Vaporeon           5\n",
       "144        Paula      Pidgeot           1\n",
       "154         Root     Meganium           2\n",
       "174        Royal   Victribell           2\n",
       "190        Weiss   Victribell           1\n",
       "204       Xanad0      Umbreon          17\n",
       "213  ackloh mito      Umbreon           1\n",
       "226         ftbr   Victribell           1\n",
       "245         kawa     Vaporeon           2\n",
       "250        zenin   Victribell           1"
      ]
     },
     "execution_count": 749,
     "metadata": {},
     "output_type": "execute_result"
    }
   ],
   "source": [
    "suporte_preferido_por_jogador = stats_df\n",
    "\n",
    "# Adicionar uma coluna com os nomes dos Heróis usando a função\n",
    "suporte_preferido_por_jogador['support_nome'] = suporte_preferido_por_jogador['pokemon'].apply(support_id_nome)\n",
    "\n",
    "suporte_preferido_por_jogador = suporte_preferido_por_jogador.groupby(['name', 'support_nome']).size().reset_index(name='quantidade')\n",
    "\n",
    "# Exibir as primeiras linhas do DataFrame normalizado\n",
    "idx = suporte_preferido_por_jogador.groupby('name')['support_nome'].idxmax()\n",
    "suporte_preferido_por_jogador = suporte_preferido_por_jogador.loc[idx]\n",
    "\n",
    "suporte_preferido_por_jogador[['name', 'support_nome', 'quantidade']]"
   ]
  },
  {
   "cell_type": "markdown",
   "metadata": {},
   "source": [
    "# DPS"
   ]
  },
  {
   "cell_type": "markdown",
   "metadata": {},
   "source": [
    "## Geral"
   ]
  },
  {
   "cell_type": "code",
   "execution_count": 750,
   "metadata": {},
   "outputs": [],
   "source": [
    "dps_geral = stats_dfo.copy()\n",
    "\n",
    "dps_geral['nome'] = dps_geral['pokemon'].apply(support_id_nome)\n",
    "\n",
    "# Adicionar colunas 'name' e 'time' de volta\n",
    "dps_geral['time'] = df['time'].repeat(info_df['statistics'].apply(len).tolist()).reset_index(drop=True)\n",
    "\n",
    "# Converter colunas para float\n",
    "dps_geral['startTime'] = dps_geral['startTime'].str.replace(',', '.').astype(float)\n",
    "dps_geral['time'] = dps_geral['time'].str.replace(',', '.').astype(float)\n",
    "dps_geral['damage'] = dps_geral['damage'].str.replace(',', '.').astype(int)\n",
    "\n",
    "# Calcular DPS\n",
    "dps_geral['dps'] = dps_geral['damage'] / (dps_geral['time'] - dps_geral['startTime'])\n",
    "\n",
    "# Calcular média do DPS para cada pokemon\n",
    "dps_media = dps_geral.groupby(['nome', 'pokemon'])['dps'].mean().reset_index()\n"
   ]
  },
  {
   "cell_type": "markdown",
   "metadata": {},
   "source": [
    "## DPS de cada suporte"
   ]
  },
  {
   "cell_type": "code",
   "execution_count": 751,
   "metadata": {},
   "outputs": [],
   "source": [
    "# Filtrar registros com pokemon diferente de -1\n",
    "dps_media_suporte = dps_media.query('pokemon != -1')\n",
    "\n",
    "# Criar gráfico interativo com Plotly Express\n",
    "fig = px.bar(\n",
    "    dps_media_suporte,\n",
    "    x='nome',\n",
    "    y='dps',\n",
    "    labels={'avg_dps': 'DPS Médio', 'pokemon_name': 'Suporte'},\n",
    ")\n",
    "\n",
    "# Ajustar layout para melhor visualização\n",
    "#fig.update_layout(xaxis_tickangle=-45)\n",
    "\n",
    "#Exibir o gráfico\n",
    "#fig.show()"
   ]
  },
  {
   "cell_type": "markdown",
   "metadata": {},
   "source": [
    "## Dps Heroi"
   ]
  },
  {
   "cell_type": "code",
   "execution_count": 752,
   "metadata": {},
   "outputs": [
    {
     "data": {
      "text/html": [
       "<div>\n",
       "<style scoped>\n",
       "    .dataframe tbody tr th:only-of-type {\n",
       "        vertical-align: middle;\n",
       "    }\n",
       "\n",
       "    .dataframe tbody tr th {\n",
       "        vertical-align: top;\n",
       "    }\n",
       "\n",
       "    .dataframe thead th {\n",
       "        text-align: right;\n",
       "    }\n",
       "</style>\n",
       "<table border=\"1\" class=\"dataframe\">\n",
       "  <thead>\n",
       "    <tr style=\"text-align: right;\">\n",
       "      <th></th>\n",
       "      <th>hero_nome</th>\n",
       "      <th>dps</th>\n",
       "    </tr>\n",
       "  </thead>\n",
       "  <tbody>\n",
       "    <tr>\n",
       "      <th>0</th>\n",
       "      <td>Bulbasaur</td>\n",
       "      <td>194.578523</td>\n",
       "    </tr>\n",
       "    <tr>\n",
       "      <th>1</th>\n",
       "      <td>Charmander</td>\n",
       "      <td>148.604739</td>\n",
       "    </tr>\n",
       "    <tr>\n",
       "      <th>2</th>\n",
       "      <td>Pikachu</td>\n",
       "      <td>191.911764</td>\n",
       "    </tr>\n",
       "    <tr>\n",
       "      <th>3</th>\n",
       "      <td>Squirtle</td>\n",
       "      <td>149.689138</td>\n",
       "    </tr>\n",
       "  </tbody>\n",
       "</table>\n",
       "</div>"
      ],
      "text/plain": [
       "    hero_nome         dps\n",
       "0   Bulbasaur  194.578523\n",
       "1  Charmander  148.604739\n",
       "2     Pikachu  191.911764\n",
       "3    Squirtle  149.689138"
      ]
     },
     "execution_count": 752,
     "metadata": {},
     "output_type": "execute_result"
    }
   ],
   "source": [
    "stats_df = dps_geral.copy()\n",
    "\n",
    "dps_media_heroi = stats_df.query('pokemon == -1').reset_index(drop=True)\n",
    "\n",
    "# Adicionar coluna 'hero' com os IDs dos heróis repetidos\n",
    "dps_media_heroi['hero'] = info_df['character'].repeat(info_df['statistics'].apply(len).tolist()).reset_index(drop=True)\n",
    "\n",
    "# Adicionar coluna 'hero_nome' com os nomes correspondentes aos heróis\n",
    "dps_media_heroi['hero_nome'] = info_df['character'].apply(hero_nome_id)\n",
    "\n",
    "# Calcular a média do DPS para cada herói\n",
    "dps_media_heroi = dps_media_heroi.groupby('hero_nome')['dps'].mean().reset_index()\n",
    "\n",
    "# Renomear a coluna do índice para 'hero_nome'\n",
    "dps_media_heroi = dps_media_heroi.rename(columns={'hero_nome': 'hero_nome'})\n",
    "\n",
    "# Exibir o DataFrame resultante\n",
    "dps_media_heroi"
   ]
  },
  {
   "cell_type": "code",
   "execution_count": 753,
   "metadata": {},
   "outputs": [
    {
     "data": {
      "text/html": [
       "<div>\n",
       "<style scoped>\n",
       "    .dataframe tbody tr th:only-of-type {\n",
       "        vertical-align: middle;\n",
       "    }\n",
       "\n",
       "    .dataframe tbody tr th {\n",
       "        vertical-align: top;\n",
       "    }\n",
       "\n",
       "    .dataframe thead th {\n",
       "        text-align: right;\n",
       "    }\n",
       "</style>\n",
       "<table border=\"1\" class=\"dataframe\">\n",
       "  <thead>\n",
       "    <tr style=\"text-align: right;\">\n",
       "      <th></th>\n",
       "      <th>startTime</th>\n",
       "      <th>pokemon</th>\n",
       "      <th>damage</th>\n",
       "      <th>name</th>\n",
       "      <th>nome</th>\n",
       "      <th>time</th>\n",
       "      <th>dps</th>\n",
       "      <th>id_partida</th>\n",
       "    </tr>\n",
       "  </thead>\n",
       "  <tbody>\n",
       "    <tr>\n",
       "      <th>0</th>\n",
       "      <td>122.7551</td>\n",
       "      <td>3</td>\n",
       "      <td>12869</td>\n",
       "      <td>Xanad0</td>\n",
       "      <td>Kingler</td>\n",
       "      <td>1280.947998</td>\n",
       "      <td>11.111275</td>\n",
       "      <td>1</td>\n",
       "    </tr>\n",
       "    <tr>\n",
       "      <th>1</th>\n",
       "      <td>217.8720</td>\n",
       "      <td>0</td>\n",
       "      <td>21683</td>\n",
       "      <td>Xanad0</td>\n",
       "      <td>Arcanine</td>\n",
       "      <td>1280.947998</td>\n",
       "      <td>20.396472</td>\n",
       "      <td>1</td>\n",
       "    </tr>\n",
       "    <tr>\n",
       "      <th>2</th>\n",
       "      <td>435.9753</td>\n",
       "      <td>19</td>\n",
       "      <td>24401</td>\n",
       "      <td>Xanad0</td>\n",
       "      <td>Umbreon</td>\n",
       "      <td>1280.947998</td>\n",
       "      <td>28.877856</td>\n",
       "      <td>1</td>\n",
       "    </tr>\n",
       "    <tr>\n",
       "      <th>3</th>\n",
       "      <td>806.3627</td>\n",
       "      <td>6</td>\n",
       "      <td>16531</td>\n",
       "      <td>Xanad0</td>\n",
       "      <td>Beedrill</td>\n",
       "      <td>1280.947998</td>\n",
       "      <td>34.832516</td>\n",
       "      <td>1</td>\n",
       "    </tr>\n",
       "    <tr>\n",
       "      <th>4</th>\n",
       "      <td>991.2443</td>\n",
       "      <td>8</td>\n",
       "      <td>9001</td>\n",
       "      <td>Xanad0</td>\n",
       "      <td>Electabuzz</td>\n",
       "      <td>1280.947998</td>\n",
       "      <td>31.069676</td>\n",
       "      <td>1</td>\n",
       "    </tr>\n",
       "    <tr>\n",
       "      <th>...</th>\n",
       "      <td>...</td>\n",
       "      <td>...</td>\n",
       "      <td>...</td>\n",
       "      <td>...</td>\n",
       "      <td>...</td>\n",
       "      <td>...</td>\n",
       "      <td>...</td>\n",
       "      <td>...</td>\n",
       "    </tr>\n",
       "    <tr>\n",
       "      <th>820</th>\n",
       "      <td>221.9673</td>\n",
       "      <td>4</td>\n",
       "      <td>43221</td>\n",
       "      <td>Mestre LpK</td>\n",
       "      <td>Leafeon</td>\n",
       "      <td>3599.999002</td>\n",
       "      <td>12.794729</td>\n",
       "      <td>165</td>\n",
       "    </tr>\n",
       "    <tr>\n",
       "      <th>821</th>\n",
       "      <td>690.0281</td>\n",
       "      <td>16</td>\n",
       "      <td>77111</td>\n",
       "      <td>Mestre LpK</td>\n",
       "      <td>Alakazam</td>\n",
       "      <td>3599.999002</td>\n",
       "      <td>26.498890</td>\n",
       "      <td>165</td>\n",
       "    </tr>\n",
       "    <tr>\n",
       "      <th>822</th>\n",
       "      <td>1501.2180</td>\n",
       "      <td>11</td>\n",
       "      <td>75893</td>\n",
       "      <td>Mestre LpK</td>\n",
       "      <td>Jolteon</td>\n",
       "      <td>3599.999002</td>\n",
       "      <td>36.160514</td>\n",
       "      <td>165</td>\n",
       "    </tr>\n",
       "    <tr>\n",
       "      <th>823</th>\n",
       "      <td>3171.3830</td>\n",
       "      <td>13</td>\n",
       "      <td>0</td>\n",
       "      <td>Mestre LpK</td>\n",
       "      <td>MrMime</td>\n",
       "      <td>3599.999002</td>\n",
       "      <td>0.000000</td>\n",
       "      <td>165</td>\n",
       "    </tr>\n",
       "    <tr>\n",
       "      <th>824</th>\n",
       "      <td>4056.3290</td>\n",
       "      <td>21</td>\n",
       "      <td>0</td>\n",
       "      <td>Mestre LpK</td>\n",
       "      <td>Espeon</td>\n",
       "      <td>3599.999002</td>\n",
       "      <td>-0.000000</td>\n",
       "      <td>165</td>\n",
       "    </tr>\n",
       "  </tbody>\n",
       "</table>\n",
       "<p>825 rows × 8 columns</p>\n",
       "</div>"
      ],
      "text/plain": [
       "     startTime  pokemon  damage        name        nome         time        dps  id_partida\n",
       "0     122.7551        3   12869      Xanad0     Kingler  1280.947998  11.111275           1\n",
       "1     217.8720        0   21683      Xanad0    Arcanine  1280.947998  20.396472           1\n",
       "2     435.9753       19   24401      Xanad0     Umbreon  1280.947998  28.877856           1\n",
       "3     806.3627        6   16531      Xanad0    Beedrill  1280.947998  34.832516           1\n",
       "4     991.2443        8    9001      Xanad0  Electabuzz  1280.947998  31.069676           1\n",
       "..         ...      ...     ...         ...         ...          ...        ...         ...\n",
       "820   221.9673        4   43221  Mestre LpK     Leafeon  3599.999002  12.794729         165\n",
       "821   690.0281       16   77111  Mestre LpK    Alakazam  3599.999002  26.498890         165\n",
       "822  1501.2180       11   75893  Mestre LpK     Jolteon  3599.999002  36.160514         165\n",
       "823  3171.3830       13       0  Mestre LpK      MrMime  3599.999002   0.000000         165\n",
       "824  4056.3290       21       0  Mestre LpK      Espeon  3599.999002  -0.000000         165\n",
       "\n",
       "[825 rows x 8 columns]"
      ]
     },
     "execution_count": 753,
     "metadata": {},
     "output_type": "execute_result"
    }
   ],
   "source": [
    "info_df_id_partida = info_df.copy()\n",
    "\n",
    "# Adicionar uma nova coluna 'id_partida' que representa o ID único para cada linha\n",
    "info_df_id_partida['id_partida'] = info_df_id_partida.index + 1 \n",
    "\n",
    "# Filtrar linhas da coluna 'pokemon'\n",
    "stats_df_id_partidah = stats_df.query('pokemon == -1').reset_index(drop=True)\n",
    "\n",
    "# Adicionar coluna 'hero' e 'id_partida' com os IDs dos heróis repetidos\n",
    "stats_df_id_partidah['hero'] = info_df_id_partida['character'].reset_index(drop=True)\n",
    "stats_df_id_partidah['id_partida'] = info_df_id_partida['id_partida'].reset_index(drop=True)\n",
    "\n",
    "# Adicionar coluna 'hero_nome' com os nomes correspondentes aos heróis\n",
    "stats_df_id_partidah['nome'] = stats_df_id_partidah['hero'].apply(hero_nome_id)\n",
    "\n",
    "\n",
    "stats_df_id_partidas = stats_df.copy()\n",
    "\n",
    "stats_df_id_partidas['id_partida'] = info_df_id_partida['id_partida'].repeat(info_df_id_partida['statistics'].apply(len).tolist()).reset_index(drop=True)\n",
    "\n",
    "# Filtrar linhas da coluna 'pokemon'\n",
    "stats_df_id_partidas = stats_df_id_partidas.query('pokemon != -1').reset_index(drop=True)\n",
    "\n",
    "stats_df_id_partidas\n",
    "\n"
   ]
  },
  {
   "cell_type": "code",
   "execution_count": 754,
   "metadata": {},
   "outputs": [
    {
     "data": {
      "text/html": [
       "<div>\n",
       "<style scoped>\n",
       "    .dataframe tbody tr th:only-of-type {\n",
       "        vertical-align: middle;\n",
       "    }\n",
       "\n",
       "    .dataframe tbody tr th {\n",
       "        vertical-align: top;\n",
       "    }\n",
       "\n",
       "    .dataframe thead th {\n",
       "        text-align: right;\n",
       "    }\n",
       "</style>\n",
       "<table border=\"1\" class=\"dataframe\">\n",
       "  <thead>\n",
       "    <tr style=\"text-align: right;\">\n",
       "      <th></th>\n",
       "      <th>character</th>\n",
       "      <th>level</th>\n",
       "      <th>statistics</th>\n",
       "      <th>endTime</th>\n",
       "      <th>nomePc</th>\n",
       "      <th>name</th>\n",
       "      <th>time</th>\n",
       "      <th>hero_nome</th>\n",
       "    </tr>\n",
       "  </thead>\n",
       "  <tbody>\n",
       "    <tr>\n",
       "      <th>0</th>\n",
       "      <td>3</td>\n",
       "      <td>32</td>\n",
       "      <td>[{'startTime': '0,000000', 'pokemon': '-1', 'damage': '252072'}, {'startTime': '122,755100', 'pokemon': '3', 'damage': '12869'}, {'startTime': '21...</td>\n",
       "      <td>21:20.948</td>\n",
       "      <td>DESKTOP-K7TGG6S</td>\n",
       "      <td>Xanad0</td>\n",
       "      <td>1280.947998</td>\n",
       "      <td>Pikachu</td>\n",
       "    </tr>\n",
       "    <tr>\n",
       "      <th>1</th>\n",
       "      <td>1</td>\n",
       "      <td>31</td>\n",
       "      <td>[{'startTime': '0,000000', 'pokemon': '-1', 'damage': '199981'}, {'startTime': '123,868600', 'pokemon': '3', 'damage': '39379'}, {'startTime': '21...</td>\n",
       "      <td>21:48.080</td>\n",
       "      <td>DESKTOP-P511SQ8</td>\n",
       "      <td>Nico</td>\n",
       "      <td>1308.079956</td>\n",
       "      <td>Charmander</td>\n",
       "    </tr>\n",
       "    <tr>\n",
       "      <th>2</th>\n",
       "      <td>1</td>\n",
       "      <td>33</td>\n",
       "      <td>[{'startTime': '0.000000', 'pokemon': '-1', 'damage': '195169'}, {'startTime': '114.023200', 'pokemon': '3', 'damage': '41197'}, {'startTime': '22...</td>\n",
       "      <td>21:53.788</td>\n",
       "      <td>DESKTOP-QBR207K</td>\n",
       "      <td>kawa</td>\n",
       "      <td>1313.787964</td>\n",
       "      <td>Charmander</td>\n",
       "    </tr>\n",
       "    <tr>\n",
       "      <th>3</th>\n",
       "      <td>1</td>\n",
       "      <td>33</td>\n",
       "      <td>[{'startTime': '0,000000', 'pokemon': '-1', 'damage': '200447'}, {'startTime': '113,977500', 'pokemon': '19', 'damage': '39939'}, {'startTime': '2...</td>\n",
       "      <td>21:55.124</td>\n",
       "      <td>DESKTOP-K7TGG6S</td>\n",
       "      <td>Xanad0</td>\n",
       "      <td>1315.124023</td>\n",
       "      <td>Charmander</td>\n",
       "    </tr>\n",
       "    <tr>\n",
       "      <th>4</th>\n",
       "      <td>1</td>\n",
       "      <td>32</td>\n",
       "      <td>[{'startTime': '0,000000', 'pokemon': '-1', 'damage': '191340'}, {'startTime': '118,640800', 'pokemon': '18', 'damage': '38808'}, {'startTime': '2...</td>\n",
       "      <td>21:56.333</td>\n",
       "      <td>DESKTOP-P511SQ8</td>\n",
       "      <td>Nico</td>\n",
       "      <td>1316.333008</td>\n",
       "      <td>Charmander</td>\n",
       "    </tr>\n",
       "    <tr>\n",
       "      <th>...</th>\n",
       "      <td>...</td>\n",
       "      <td>...</td>\n",
       "      <td>...</td>\n",
       "      <td>...</td>\n",
       "      <td>...</td>\n",
       "      <td>...</td>\n",
       "      <td>...</td>\n",
       "      <td>...</td>\n",
       "    </tr>\n",
       "    <tr>\n",
       "      <th>160</th>\n",
       "      <td>1</td>\n",
       "      <td>32</td>\n",
       "      <td>[{'startTime': '0,000000', 'pokemon': '-1', 'damage': '248724'}, {'startTime': '137,892200', 'pokemon': '11', 'damage': '19257'}, {'startTime': '3...</td>\n",
       "      <td>36:55.494</td>\n",
       "      <td>DESKTOP-VO0R3J4</td>\n",
       "      <td>Mestre LpK</td>\n",
       "      <td>2215.493896</td>\n",
       "      <td>Charmander</td>\n",
       "    </tr>\n",
       "    <tr>\n",
       "      <th>161</th>\n",
       "      <td>3</td>\n",
       "      <td>31</td>\n",
       "      <td>[{'startTime': '0,000953', 'pokemon': '-1', 'damage': '317870'}, {'startTime': '223,391100', 'pokemon': '7', 'damage': '6995'}, {'startTime': '488...</td>\n",
       "      <td>37:47.416</td>\n",
       "      <td>DESKTOP-P511SQ8</td>\n",
       "      <td>Nico</td>\n",
       "      <td>2267.416016</td>\n",
       "      <td>Pikachu</td>\n",
       "    </tr>\n",
       "    <tr>\n",
       "      <th>162</th>\n",
       "      <td>0</td>\n",
       "      <td>36</td>\n",
       "      <td>[{'startTime': '0,000000', 'pokemon': '-1', 'damage': '375407'}, {'startTime': '154,060100', 'pokemon': '19', 'damage': '20579'}, {'startTime': '2...</td>\n",
       "      <td>37:50.273</td>\n",
       "      <td>DESKTOP-IDREH82</td>\n",
       "      <td>ackloh mito</td>\n",
       "      <td>2270.272949</td>\n",
       "      <td>Bulbasaur</td>\n",
       "    </tr>\n",
       "    <tr>\n",
       "      <th>163</th>\n",
       "      <td>0</td>\n",
       "      <td>37</td>\n",
       "      <td>[{'startTime': '0,000000', 'pokemon': '-1', 'damage': '478721'}, {'startTime': '145,042400', 'pokemon': '16', 'damage': '30000'}, {'startTime': '4...</td>\n",
       "      <td>41:37.698</td>\n",
       "      <td>DESKTOP-PNMRL5A</td>\n",
       "      <td>Paula</td>\n",
       "      <td>2497.697998</td>\n",
       "      <td>Bulbasaur</td>\n",
       "    </tr>\n",
       "    <tr>\n",
       "      <th>164</th>\n",
       "      <td>2</td>\n",
       "      <td>39</td>\n",
       "      <td>[{'startTime': '0,000000', 'pokemon': '-1', 'damage': '340054'}, {'startTime': '221,967300', 'pokemon': '4', 'damage': '43221'}, {'startTime': '69...</td>\n",
       "      <td>59:59.177</td>\n",
       "      <td>DESKTOP-VO0R3J4</td>\n",
       "      <td>Mestre LpK</td>\n",
       "      <td>3599.999002</td>\n",
       "      <td>Squirtle</td>\n",
       "    </tr>\n",
       "  </tbody>\n",
       "</table>\n",
       "<p>165 rows × 8 columns</p>\n",
       "</div>"
      ],
      "text/plain": [
       "     character  level  \\\n",
       "0            3     32   \n",
       "1            1     31   \n",
       "2            1     33   \n",
       "3            1     33   \n",
       "4            1     32   \n",
       "..         ...    ...   \n",
       "160          1     32   \n",
       "161          3     31   \n",
       "162          0     36   \n",
       "163          0     37   \n",
       "164          2     39   \n",
       "\n",
       "                                                                                                                                                statistics  \\\n",
       "0    [{'startTime': '0,000000', 'pokemon': '-1', 'damage': '252072'}, {'startTime': '122,755100', 'pokemon': '3', 'damage': '12869'}, {'startTime': '21...   \n",
       "1    [{'startTime': '0,000000', 'pokemon': '-1', 'damage': '199981'}, {'startTime': '123,868600', 'pokemon': '3', 'damage': '39379'}, {'startTime': '21...   \n",
       "2    [{'startTime': '0.000000', 'pokemon': '-1', 'damage': '195169'}, {'startTime': '114.023200', 'pokemon': '3', 'damage': '41197'}, {'startTime': '22...   \n",
       "3    [{'startTime': '0,000000', 'pokemon': '-1', 'damage': '200447'}, {'startTime': '113,977500', 'pokemon': '19', 'damage': '39939'}, {'startTime': '2...   \n",
       "4    [{'startTime': '0,000000', 'pokemon': '-1', 'damage': '191340'}, {'startTime': '118,640800', 'pokemon': '18', 'damage': '38808'}, {'startTime': '2...   \n",
       "..                                                                                                                                                     ...   \n",
       "160  [{'startTime': '0,000000', 'pokemon': '-1', 'damage': '248724'}, {'startTime': '137,892200', 'pokemon': '11', 'damage': '19257'}, {'startTime': '3...   \n",
       "161  [{'startTime': '0,000953', 'pokemon': '-1', 'damage': '317870'}, {'startTime': '223,391100', 'pokemon': '7', 'damage': '6995'}, {'startTime': '488...   \n",
       "162  [{'startTime': '0,000000', 'pokemon': '-1', 'damage': '375407'}, {'startTime': '154,060100', 'pokemon': '19', 'damage': '20579'}, {'startTime': '2...   \n",
       "163  [{'startTime': '0,000000', 'pokemon': '-1', 'damage': '478721'}, {'startTime': '145,042400', 'pokemon': '16', 'damage': '30000'}, {'startTime': '4...   \n",
       "164  [{'startTime': '0,000000', 'pokemon': '-1', 'damage': '340054'}, {'startTime': '221,967300', 'pokemon': '4', 'damage': '43221'}, {'startTime': '69...   \n",
       "\n",
       "       endTime           nomePc         name         time   hero_nome  \n",
       "0    21:20.948  DESKTOP-K7TGG6S       Xanad0  1280.947998     Pikachu  \n",
       "1    21:48.080  DESKTOP-P511SQ8         Nico  1308.079956  Charmander  \n",
       "2    21:53.788  DESKTOP-QBR207K         kawa  1313.787964  Charmander  \n",
       "3    21:55.124  DESKTOP-K7TGG6S       Xanad0  1315.124023  Charmander  \n",
       "4    21:56.333  DESKTOP-P511SQ8         Nico  1316.333008  Charmander  \n",
       "..         ...              ...          ...          ...         ...  \n",
       "160  36:55.494  DESKTOP-VO0R3J4   Mestre LpK  2215.493896  Charmander  \n",
       "161  37:47.416  DESKTOP-P511SQ8         Nico  2267.416016     Pikachu  \n",
       "162  37:50.273  DESKTOP-IDREH82  ackloh mito  2270.272949   Bulbasaur  \n",
       "163  41:37.698  DESKTOP-PNMRL5A        Paula  2497.697998   Bulbasaur  \n",
       "164  59:59.177  DESKTOP-VO0R3J4   Mestre LpK  3599.999002    Squirtle  \n",
       "\n",
       "[165 rows x 8 columns]"
      ]
     },
     "execution_count": 754,
     "metadata": {},
     "output_type": "execute_result"
    }
   ],
   "source": [
    "info_df"
   ]
  },
  {
   "cell_type": "markdown",
   "metadata": {},
   "source": [
    "## Ranking Geral"
   ]
  },
  {
   "cell_type": "code",
   "execution_count": 759,
   "metadata": {},
   "outputs": [
    {
     "data": {
      "text/html": [
       "<div>\n",
       "<style scoped>\n",
       "    .dataframe tbody tr th:only-of-type {\n",
       "        vertical-align: middle;\n",
       "    }\n",
       "\n",
       "    .dataframe tbody tr th {\n",
       "        vertical-align: top;\n",
       "    }\n",
       "\n",
       "    .dataframe thead th {\n",
       "        text-align: right;\n",
       "    }\n",
       "</style>\n",
       "<table border=\"1\" class=\"dataframe\">\n",
       "  <thead>\n",
       "    <tr style=\"text-align: right;\">\n",
       "      <th></th>\n",
       "      <th>Ordem</th>\n",
       "      <th>Jogador</th>\n",
       "      <th>level</th>\n",
       "      <th>Tempo</th>\n",
       "      <th>Heroi</th>\n",
       "      <th>Dano Heroi</th>\n",
       "      <th>Suporte 1</th>\n",
       "      <th>Dano Sup 1</th>\n",
       "      <th>Tempo Sup 1</th>\n",
       "      <th>Suporte 2</th>\n",
       "      <th>Dano Sup 2</th>\n",
       "      <th>Tempo Sup 2</th>\n",
       "      <th>Suporte 3</th>\n",
       "      <th>Dano Sup 3</th>\n",
       "      <th>Tempo Sup 3</th>\n",
       "      <th>Suporte 4</th>\n",
       "      <th>Dano Sup 4</th>\n",
       "      <th>Tempo Sup 4</th>\n",
       "      <th>Suporte 5</th>\n",
       "      <th>Dano Sup 5</th>\n",
       "      <th>Tempo Sup 5</th>\n",
       "    </tr>\n",
       "  </thead>\n",
       "  <tbody>\n",
       "    <tr>\n",
       "      <th>0</th>\n",
       "      <td>1</td>\n",
       "      <td>Xanad0</td>\n",
       "      <td>32</td>\n",
       "      <td>21:20.948</td>\n",
       "      <td>Pikachu</td>\n",
       "      <td>252072</td>\n",
       "      <td>Kingler</td>\n",
       "      <td>12869</td>\n",
       "      <td>02:02:755</td>\n",
       "      <td>Arcanine</td>\n",
       "      <td>21683</td>\n",
       "      <td>03:37:872</td>\n",
       "      <td>Umbreon</td>\n",
       "      <td>24401</td>\n",
       "      <td>07:15:975</td>\n",
       "      <td>Beedrill</td>\n",
       "      <td>16531</td>\n",
       "      <td>13:26:362</td>\n",
       "      <td>Electabuzz</td>\n",
       "      <td>9001</td>\n",
       "      <td>16:31:244</td>\n",
       "    </tr>\n",
       "    <tr>\n",
       "      <th>1</th>\n",
       "      <td>2</td>\n",
       "      <td>Nico</td>\n",
       "      <td>31</td>\n",
       "      <td>21:48.080</td>\n",
       "      <td>Charmander</td>\n",
       "      <td>199981</td>\n",
       "      <td>Kingler</td>\n",
       "      <td>39379</td>\n",
       "      <td>02:03:868</td>\n",
       "      <td>Arcanine</td>\n",
       "      <td>28350</td>\n",
       "      <td>03:37:493</td>\n",
       "      <td>Vaporeon</td>\n",
       "      <td>25083</td>\n",
       "      <td>07:17:999</td>\n",
       "      <td>Umbreon</td>\n",
       "      <td>16149</td>\n",
       "      <td>13:21:759</td>\n",
       "      <td>Beedrill</td>\n",
       "      <td>20692</td>\n",
       "      <td>16:34:209</td>\n",
       "    </tr>\n",
       "    <tr>\n",
       "      <th>2</th>\n",
       "      <td>3</td>\n",
       "      <td>kawa</td>\n",
       "      <td>33</td>\n",
       "      <td>21:53.788</td>\n",
       "      <td>Charmander</td>\n",
       "      <td>195169</td>\n",
       "      <td>Kingler</td>\n",
       "      <td>41197</td>\n",
       "      <td>01:54:023</td>\n",
       "      <td>Arcanine</td>\n",
       "      <td>27260</td>\n",
       "      <td>03:46:239</td>\n",
       "      <td>Vaporeon</td>\n",
       "      <td>27305</td>\n",
       "      <td>07:17:313</td>\n",
       "      <td>Beedrill</td>\n",
       "      <td>20984</td>\n",
       "      <td>13:20:609</td>\n",
       "      <td>Umbreon</td>\n",
       "      <td>20325</td>\n",
       "      <td>16:34:734</td>\n",
       "    </tr>\n",
       "    <tr>\n",
       "      <th>3</th>\n",
       "      <td>4</td>\n",
       "      <td>Xanad0</td>\n",
       "      <td>33</td>\n",
       "      <td>21:55.124</td>\n",
       "      <td>Charmander</td>\n",
       "      <td>200447</td>\n",
       "      <td>Umbreon</td>\n",
       "      <td>39939</td>\n",
       "      <td>01:53:977</td>\n",
       "      <td>Kingler</td>\n",
       "      <td>39699</td>\n",
       "      <td>03:40:533</td>\n",
       "      <td>Arcanine</td>\n",
       "      <td>16644</td>\n",
       "      <td>07:31:539</td>\n",
       "      <td>Beedrill</td>\n",
       "      <td>19305</td>\n",
       "      <td>13:26:642</td>\n",
       "      <td>Electabuzz</td>\n",
       "      <td>17250</td>\n",
       "      <td>16:43:868</td>\n",
       "    </tr>\n",
       "    <tr>\n",
       "      <th>4</th>\n",
       "      <td>5</td>\n",
       "      <td>Nico</td>\n",
       "      <td>32</td>\n",
       "      <td>21:56.333</td>\n",
       "      <td>Charmander</td>\n",
       "      <td>191340</td>\n",
       "      <td>Meganium</td>\n",
       "      <td>38808</td>\n",
       "      <td>01:58:640</td>\n",
       "      <td>Kingler</td>\n",
       "      <td>30526</td>\n",
       "      <td>03:42:587</td>\n",
       "      <td>Umbreon</td>\n",
       "      <td>32610</td>\n",
       "      <td>07:18:353</td>\n",
       "      <td>Beedrill</td>\n",
       "      <td>22612</td>\n",
       "      <td>13:17:297</td>\n",
       "      <td>Electabuzz</td>\n",
       "      <td>16156</td>\n",
       "      <td>16:33:152</td>\n",
       "    </tr>\n",
       "    <tr>\n",
       "      <th>...</th>\n",
       "      <td>...</td>\n",
       "      <td>...</td>\n",
       "      <td>...</td>\n",
       "      <td>...</td>\n",
       "      <td>...</td>\n",
       "      <td>...</td>\n",
       "      <td>...</td>\n",
       "      <td>...</td>\n",
       "      <td>...</td>\n",
       "      <td>...</td>\n",
       "      <td>...</td>\n",
       "      <td>...</td>\n",
       "      <td>...</td>\n",
       "      <td>...</td>\n",
       "      <td>...</td>\n",
       "      <td>...</td>\n",
       "      <td>...</td>\n",
       "      <td>...</td>\n",
       "      <td>...</td>\n",
       "      <td>...</td>\n",
       "      <td>...</td>\n",
       "    </tr>\n",
       "    <tr>\n",
       "      <th>160</th>\n",
       "      <td>161</td>\n",
       "      <td>Mestre LpK</td>\n",
       "      <td>32</td>\n",
       "      <td>36:55.494</td>\n",
       "      <td>Charmander</td>\n",
       "      <td>248724</td>\n",
       "      <td>Jolteon</td>\n",
       "      <td>19257</td>\n",
       "      <td>02:17:892</td>\n",
       "      <td>Kingler</td>\n",
       "      <td>57752</td>\n",
       "      <td>05:30:064</td>\n",
       "      <td>Ampharos</td>\n",
       "      <td>27175</td>\n",
       "      <td>11:43:514</td>\n",
       "      <td>Meganium</td>\n",
       "      <td>26668</td>\n",
       "      <td>21:12:032</td>\n",
       "      <td>Arcanine</td>\n",
       "      <td>18627</td>\n",
       "      <td>28:07:744</td>\n",
       "    </tr>\n",
       "    <tr>\n",
       "      <th>161</th>\n",
       "      <td>162</td>\n",
       "      <td>Nico</td>\n",
       "      <td>31</td>\n",
       "      <td>37:47.416</td>\n",
       "      <td>Pikachu</td>\n",
       "      <td>317870</td>\n",
       "      <td>Vaporeon</td>\n",
       "      <td>6995</td>\n",
       "      <td>03:43:391</td>\n",
       "      <td>Flareon</td>\n",
       "      <td>7428</td>\n",
       "      <td>08:08:472</td>\n",
       "      <td>Azumarill</td>\n",
       "      <td>11039</td>\n",
       "      <td>15:14:240</td>\n",
       "      <td>Muk</td>\n",
       "      <td>9702</td>\n",
       "      <td>24:51:725</td>\n",
       "      <td>Arcanine</td>\n",
       "      <td>15006</td>\n",
       "      <td>29:32:572</td>\n",
       "    </tr>\n",
       "    <tr>\n",
       "      <th>162</th>\n",
       "      <td>163</td>\n",
       "      <td>ackloh mito</td>\n",
       "      <td>36</td>\n",
       "      <td>37:50.273</td>\n",
       "      <td>Bulbasaur</td>\n",
       "      <td>375407</td>\n",
       "      <td>Umbreon</td>\n",
       "      <td>20579</td>\n",
       "      <td>02:34:060</td>\n",
       "      <td>Muk</td>\n",
       "      <td>35382</td>\n",
       "      <td>04:56:057</td>\n",
       "      <td>Alakazam</td>\n",
       "      <td>21825</td>\n",
       "      <td>11:32:812</td>\n",
       "      <td>Azumarill</td>\n",
       "      <td>6588</td>\n",
       "      <td>24:41:343</td>\n",
       "      <td>Pidgeot</td>\n",
       "      <td>4808</td>\n",
       "      <td>29:07:227</td>\n",
       "    </tr>\n",
       "    <tr>\n",
       "      <th>163</th>\n",
       "      <td>164</td>\n",
       "      <td>Paula</td>\n",
       "      <td>37</td>\n",
       "      <td>41:37.698</td>\n",
       "      <td>Bulbasaur</td>\n",
       "      <td>478721</td>\n",
       "      <td>Alakazam</td>\n",
       "      <td>30000</td>\n",
       "      <td>02:25:042</td>\n",
       "      <td>Jolteon</td>\n",
       "      <td>24394</td>\n",
       "      <td>07:36:473</td>\n",
       "      <td>Pidgeot</td>\n",
       "      <td>4132</td>\n",
       "      <td>13:28:969</td>\n",
       "      <td>MrMime</td>\n",
       "      <td>0</td>\n",
       "      <td>22:05:949</td>\n",
       "      <td>Espeon</td>\n",
       "      <td>0</td>\n",
       "      <td>28:45:779</td>\n",
       "    </tr>\n",
       "    <tr>\n",
       "      <th>164</th>\n",
       "      <td>165</td>\n",
       "      <td>Mestre LpK</td>\n",
       "      <td>39</td>\n",
       "      <td>59:59.177</td>\n",
       "      <td>Squirtle</td>\n",
       "      <td>340054</td>\n",
       "      <td>Leafeon</td>\n",
       "      <td>43221</td>\n",
       "      <td>03:41:967</td>\n",
       "      <td>Alakazam</td>\n",
       "      <td>77111</td>\n",
       "      <td>11:30:028</td>\n",
       "      <td>Jolteon</td>\n",
       "      <td>75893</td>\n",
       "      <td>25:01:218</td>\n",
       "      <td>MrMime</td>\n",
       "      <td>0</td>\n",
       "      <td>52:51:383</td>\n",
       "      <td>Espeon</td>\n",
       "      <td>0</td>\n",
       "      <td>07:36:329</td>\n",
       "    </tr>\n",
       "  </tbody>\n",
       "</table>\n",
       "<p>165 rows × 21 columns</p>\n",
       "</div>"
      ],
      "text/plain": [
       "     Ordem      Jogador  level      Tempo       Heroi Dano Heroi Suporte 1 Dano Sup 1 Tempo Sup 1 Suporte 2  \\\n",
       "0        1       Xanad0     32  21:20.948     Pikachu     252072   Kingler      12869   02:02:755  Arcanine   \n",
       "1        2         Nico     31  21:48.080  Charmander     199981   Kingler      39379   02:03:868  Arcanine   \n",
       "2        3         kawa     33  21:53.788  Charmander     195169   Kingler      41197   01:54:023  Arcanine   \n",
       "3        4       Xanad0     33  21:55.124  Charmander     200447   Umbreon      39939   01:53:977   Kingler   \n",
       "4        5         Nico     32  21:56.333  Charmander     191340  Meganium      38808   01:58:640   Kingler   \n",
       "..     ...          ...    ...        ...         ...        ...       ...        ...         ...       ...   \n",
       "160    161   Mestre LpK     32  36:55.494  Charmander     248724   Jolteon      19257   02:17:892   Kingler   \n",
       "161    162         Nico     31  37:47.416     Pikachu     317870  Vaporeon       6995   03:43:391   Flareon   \n",
       "162    163  ackloh mito     36  37:50.273   Bulbasaur     375407   Umbreon      20579   02:34:060       Muk   \n",
       "163    164        Paula     37  41:37.698   Bulbasaur     478721  Alakazam      30000   02:25:042   Jolteon   \n",
       "164    165   Mestre LpK     39  59:59.177    Squirtle     340054   Leafeon      43221   03:41:967  Alakazam   \n",
       "\n",
       "    Dano Sup 2 Tempo Sup 2  Suporte 3 Dano Sup 3 Tempo Sup 3  Suporte 4 Dano Sup 4 Tempo Sup 4   Suporte 5 Dano Sup 5  \\\n",
       "0        21683   03:37:872    Umbreon      24401   07:15:975   Beedrill      16531   13:26:362  Electabuzz       9001   \n",
       "1        28350   03:37:493   Vaporeon      25083   07:17:999    Umbreon      16149   13:21:759    Beedrill      20692   \n",
       "2        27260   03:46:239   Vaporeon      27305   07:17:313   Beedrill      20984   13:20:609     Umbreon      20325   \n",
       "3        39699   03:40:533   Arcanine      16644   07:31:539   Beedrill      19305   13:26:642  Electabuzz      17250   \n",
       "4        30526   03:42:587    Umbreon      32610   07:18:353   Beedrill      22612   13:17:297  Electabuzz      16156   \n",
       "..         ...         ...        ...        ...         ...        ...        ...         ...         ...        ...   \n",
       "160      57752   05:30:064   Ampharos      27175   11:43:514   Meganium      26668   21:12:032    Arcanine      18627   \n",
       "161       7428   08:08:472  Azumarill      11039   15:14:240        Muk       9702   24:51:725    Arcanine      15006   \n",
       "162      35382   04:56:057   Alakazam      21825   11:32:812  Azumarill       6588   24:41:343     Pidgeot       4808   \n",
       "163      24394   07:36:473    Pidgeot       4132   13:28:969     MrMime          0   22:05:949      Espeon          0   \n",
       "164      77111   11:30:028    Jolteon      75893   25:01:218     MrMime          0   52:51:383      Espeon          0   \n",
       "\n",
       "    Tempo Sup 5  \n",
       "0     16:31:244  \n",
       "1     16:34:209  \n",
       "2     16:34:734  \n",
       "3     16:43:868  \n",
       "4     16:33:152  \n",
       "..          ...  \n",
       "160   28:07:744  \n",
       "161   29:32:572  \n",
       "162   29:07:227  \n",
       "163   28:45:779  \n",
       "164   07:36:329  \n",
       "\n",
       "[165 rows x 21 columns]"
      ]
     },
     "execution_count": 759,
     "metadata": {},
     "output_type": "execute_result"
    }
   ],
   "source": [
    "info_df_exp = info_df.copy()\n",
    "# Normalizar a coluna 'statistics'\n",
    "\n",
    "info_df_exp = json_normalize(info_df['statistics'].tolist())\n",
    "\n",
    "# Juntar o DataFrame normalizado de volta ao DataFrame original\n",
    "info_df_exp = pd.concat([info_df, info_df_exp], axis=1)\n",
    "\n",
    "# Descartar a coluna 'statistics' original se desejado\n",
    "info_df_exp = info_df_exp.drop('statistics', axis=1)\n",
    "\n",
    "# Abrir tabelas\n",
    "info_df_exp0 = info_df_exp[0].apply(pd.Series).rename(columns={'startTime': 'startTime0', 'pokemon': 'pokemon0', 'damage': 'damage0'})\n",
    "info_df_exp1 = info_df_exp[1].apply(pd.Series).rename(columns={'startTime': 'startTime1', 'pokemon': 'pokemon1', 'damage': 'damage1'})\n",
    "info_df_exp2 = info_df_exp[2].apply(pd.Series).rename(columns={'startTime': 'startTime2', 'pokemon': 'pokemon2', 'damage': 'damage2'})\n",
    "info_df_exp3 = info_df_exp[3].apply(pd.Series).rename(columns={'startTime': 'startTime3', 'pokemon': 'pokemon3', 'damage': 'damage3'})\n",
    "info_df_exp4 = info_df_exp[4].apply(pd.Series).rename(columns={'startTime': 'startTime4', 'pokemon': 'pokemon4', 'damage': 'damage4'})\n",
    "info_df_exp5 = info_df_exp[5].apply(pd.Series).rename(columns={'startTime': 'startTime5', 'pokemon': 'pokemon5', 'damage': 'damage5'})\n",
    "\n",
    "info_df_exp = pd.concat([info_df_exp, info_df_exp0, info_df_exp1, info_df_exp2, info_df_exp3, info_df_exp4, info_df_exp5], axis=1)\n",
    "\n",
    "# Detalhamento da tabela\n",
    "info_df_exp['pokemon0'] = info_df_exp['character'].apply(hero_nome_id)\n",
    "\n",
    "# Colocando nnome dos suportes\n",
    "coluna_formatar = ['pokemon1', 'pokemon2', 'pokemon3', 'pokemon4', 'pokemon5']\n",
    "for coluna in coluna_formatar:\n",
    "    info_df_exp[coluna] = info_df_exp[coluna].apply(support_id_nome)\n",
    "\n",
    "# Limpando dados dda tabela\n",
    "info_df_exp = info_df_exp.drop([0, 1, 2, 3, 4, 5, 'hero_nome', 'nomePc', 'character'], axis=1)\n",
    "\n",
    "# Adicionando coluna de ordem\n",
    "info_df_exp['Ordem'] = range(1, len(info_df_exp) + 1)\n",
    "info_df_exp = info_df_exp[['Ordem', 'name', 'level','endTime', 'pokemon0', 'damage0', 'pokemon1', 'damage1', 'startTime1', 'pokemon2', 'damage2', 'startTime2', 'pokemon3', 'damage3', 'startTime3',  'pokemon4', 'damage4', 'startTime4', 'pokemon5', 'damage5', 'startTime5']]\n",
    "\n",
    "# Formatar datas\n",
    "coluna_formatar = ['startTime1', 'startTime2', 'startTime3', 'startTime4', 'startTime5']\n",
    "for coluna in coluna_formatar:\n",
    "    info_df_exp[coluna] = pd.to_numeric(info_df_exp[coluna].str.replace(',', '.'))\n",
    "    info_df_exp[coluna] = pd.to_datetime(info_df_exp[coluna], unit='s').dt.strftime('%M:%S:%f').str[:-3]\n",
    "\n",
    "info_df_exp.sort_index(ascending=True)\n",
    "\n",
    "\n",
    "# Renomear colunas\n",
    "info_df_exp = info_df_exp.rename(columns={'name': 'Jogador', 'endTime': 'Tempo', 'pokemon0': 'Heroi', 'damage0': 'Dano Heroi', 'pokemon1': 'Suporte 1', 'damage1': 'Dano Sup 1', 'startTime1': 'Tempo Sup 1', 'pokemon2': 'Suporte 2', 'damage2': 'Dano Sup 2', 'startTime2': 'Tempo Sup 2', 'pokemon3': 'Suporte 3', 'damage3': 'Dano Sup 3', 'startTime3': 'Tempo Sup 3', 'pokemon4': 'Suporte 4', 'damage4': 'Dano Sup 4', 'startTime4': 'Tempo Sup 4', 'pokemon5': 'Suporte 5', 'damage5': 'Dano Sup 5', 'startTime5': 'Tempo Sup 5'})\n",
    "\n",
    "info_df_exp"
   ]
  },
  {
   "cell_type": "markdown",
   "metadata": {},
   "source": [
    "## Ranking Unitário"
   ]
  },
  {
   "cell_type": "code",
   "execution_count": 756,
   "metadata": {},
   "outputs": [
    {
     "data": {
      "text/html": [
       "<div>\n",
       "<style scoped>\n",
       "    .dataframe tbody tr th:only-of-type {\n",
       "        vertical-align: middle;\n",
       "    }\n",
       "\n",
       "    .dataframe tbody tr th {\n",
       "        vertical-align: top;\n",
       "    }\n",
       "\n",
       "    .dataframe thead th {\n",
       "        text-align: right;\n",
       "    }\n",
       "</style>\n",
       "<table border=\"1\" class=\"dataframe\">\n",
       "  <thead>\n",
       "    <tr style=\"text-align: right;\">\n",
       "      <th></th>\n",
       "      <th>Ordem</th>\n",
       "      <th>Jogador</th>\n",
       "      <th>level</th>\n",
       "      <th>Tempo</th>\n",
       "      <th>Heroi</th>\n",
       "      <th>Dano Heroi</th>\n",
       "      <th>Suporte 1</th>\n",
       "      <th>Dano Sup 1</th>\n",
       "      <th>Tempo Sup 1</th>\n",
       "      <th>Suporte 2</th>\n",
       "      <th>Dano Sup 2</th>\n",
       "      <th>Tempo Sup 2</th>\n",
       "      <th>Suporte 3</th>\n",
       "      <th>Dano Sup 3</th>\n",
       "      <th>Tempo Sup 3</th>\n",
       "      <th>Suporte 4</th>\n",
       "      <th>Dano Sup 4</th>\n",
       "      <th>Tempo Sup 4</th>\n",
       "      <th>Suporte 5</th>\n",
       "      <th>Dano Sup 5</th>\n",
       "      <th>Tempo Sup 5</th>\n",
       "    </tr>\n",
       "  </thead>\n",
       "  <tbody>\n",
       "    <tr>\n",
       "      <th>0</th>\n",
       "      <td>1°</td>\n",
       "      <td>Xanad0</td>\n",
       "      <td>32</td>\n",
       "      <td>21:20.948</td>\n",
       "      <td>Pikachu</td>\n",
       "      <td>252072</td>\n",
       "      <td>Kingler</td>\n",
       "      <td>12869</td>\n",
       "      <td>02:02:755</td>\n",
       "      <td>Arcanine</td>\n",
       "      <td>21683</td>\n",
       "      <td>03:37:872</td>\n",
       "      <td>Umbreon</td>\n",
       "      <td>24401</td>\n",
       "      <td>07:15:975</td>\n",
       "      <td>Beedrill</td>\n",
       "      <td>16531</td>\n",
       "      <td>13:26:362</td>\n",
       "      <td>Electabuzz</td>\n",
       "      <td>9001</td>\n",
       "      <td>16:31:244</td>\n",
       "    </tr>\n",
       "    <tr>\n",
       "      <th>1</th>\n",
       "      <td>2°</td>\n",
       "      <td>Nico</td>\n",
       "      <td>31</td>\n",
       "      <td>21:48.080</td>\n",
       "      <td>Charmander</td>\n",
       "      <td>199981</td>\n",
       "      <td>Kingler</td>\n",
       "      <td>39379</td>\n",
       "      <td>02:03:868</td>\n",
       "      <td>Arcanine</td>\n",
       "      <td>28350</td>\n",
       "      <td>03:37:493</td>\n",
       "      <td>Vaporeon</td>\n",
       "      <td>25083</td>\n",
       "      <td>07:17:999</td>\n",
       "      <td>Umbreon</td>\n",
       "      <td>16149</td>\n",
       "      <td>13:21:759</td>\n",
       "      <td>Beedrill</td>\n",
       "      <td>20692</td>\n",
       "      <td>16:34:209</td>\n",
       "    </tr>\n",
       "    <tr>\n",
       "      <th>2</th>\n",
       "      <td>3°</td>\n",
       "      <td>kawa</td>\n",
       "      <td>33</td>\n",
       "      <td>21:53.788</td>\n",
       "      <td>Charmander</td>\n",
       "      <td>195169</td>\n",
       "      <td>Kingler</td>\n",
       "      <td>41197</td>\n",
       "      <td>01:54:023</td>\n",
       "      <td>Arcanine</td>\n",
       "      <td>27260</td>\n",
       "      <td>03:46:239</td>\n",
       "      <td>Vaporeon</td>\n",
       "      <td>27305</td>\n",
       "      <td>07:17:313</td>\n",
       "      <td>Beedrill</td>\n",
       "      <td>20984</td>\n",
       "      <td>13:20:609</td>\n",
       "      <td>Umbreon</td>\n",
       "      <td>20325</td>\n",
       "      <td>16:34:734</td>\n",
       "    </tr>\n",
       "    <tr>\n",
       "      <th>3</th>\n",
       "      <td>4°</td>\n",
       "      <td>Jumbrado</td>\n",
       "      <td>32</td>\n",
       "      <td>22:04.864</td>\n",
       "      <td>Pikachu</td>\n",
       "      <td>253248</td>\n",
       "      <td>Arcanine</td>\n",
       "      <td>29666</td>\n",
       "      <td>01:59:880</td>\n",
       "      <td>Kingler</td>\n",
       "      <td>15941</td>\n",
       "      <td>03:48:804</td>\n",
       "      <td>Beedrill</td>\n",
       "      <td>27851</td>\n",
       "      <td>07:26:649</td>\n",
       "      <td>Electabuzz</td>\n",
       "      <td>15537</td>\n",
       "      <td>13:26:466</td>\n",
       "      <td>Magneton</td>\n",
       "      <td>12031</td>\n",
       "      <td>17:02:094</td>\n",
       "    </tr>\n",
       "    <tr>\n",
       "      <th>4</th>\n",
       "      <td>5°</td>\n",
       "      <td>NewJeans</td>\n",
       "      <td>33</td>\n",
       "      <td>22:10.981</td>\n",
       "      <td>Squirtle</td>\n",
       "      <td>184786</td>\n",
       "      <td>Kingler</td>\n",
       "      <td>42345</td>\n",
       "      <td>02:09:661</td>\n",
       "      <td>Umbreon</td>\n",
       "      <td>40412</td>\n",
       "      <td>03:38:048</td>\n",
       "      <td>Glalie</td>\n",
       "      <td>33945</td>\n",
       "      <td>07:30:903</td>\n",
       "      <td>Magneton</td>\n",
       "      <td>20670</td>\n",
       "      <td>13:28:609</td>\n",
       "      <td>Beedrill</td>\n",
       "      <td>18133</td>\n",
       "      <td>16:48:592</td>\n",
       "    </tr>\n",
       "    <tr>\n",
       "      <th>5</th>\n",
       "      <td>6°</td>\n",
       "      <td>Royal</td>\n",
       "      <td>30</td>\n",
       "      <td>22:16.668</td>\n",
       "      <td>Pikachu</td>\n",
       "      <td>259016</td>\n",
       "      <td>Ampharos</td>\n",
       "      <td>22585</td>\n",
       "      <td>02:01:735</td>\n",
       "      <td>Meganium</td>\n",
       "      <td>6962</td>\n",
       "      <td>03:57:838</td>\n",
       "      <td>Victribell</td>\n",
       "      <td>29113</td>\n",
       "      <td>07:42:073</td>\n",
       "      <td>Umbreon</td>\n",
       "      <td>20467</td>\n",
       "      <td>13:46:993</td>\n",
       "      <td>Beedrill</td>\n",
       "      <td>13504</td>\n",
       "      <td>17:21:882</td>\n",
       "    </tr>\n",
       "    <tr>\n",
       "      <th>6</th>\n",
       "      <td>7°</td>\n",
       "      <td>Lironi</td>\n",
       "      <td>31</td>\n",
       "      <td>22:53.914</td>\n",
       "      <td>Pikachu</td>\n",
       "      <td>261771</td>\n",
       "      <td>Kingler</td>\n",
       "      <td>37418</td>\n",
       "      <td>01:52:732</td>\n",
       "      <td>Muk</td>\n",
       "      <td>12623</td>\n",
       "      <td>03:41:394</td>\n",
       "      <td>Arcanine</td>\n",
       "      <td>24229</td>\n",
       "      <td>07:23:052</td>\n",
       "      <td>Electabuzz</td>\n",
       "      <td>7284</td>\n",
       "      <td>13:36:978</td>\n",
       "      <td>Magneton</td>\n",
       "      <td>13959</td>\n",
       "      <td>17:02:009</td>\n",
       "    </tr>\n",
       "    <tr>\n",
       "      <th>7</th>\n",
       "      <td>8°</td>\n",
       "      <td>Root</td>\n",
       "      <td>30</td>\n",
       "      <td>22:59.368</td>\n",
       "      <td>Charmander</td>\n",
       "      <td>212966</td>\n",
       "      <td>Kingler</td>\n",
       "      <td>46484</td>\n",
       "      <td>01:58:650</td>\n",
       "      <td>Arcanine</td>\n",
       "      <td>31892</td>\n",
       "      <td>03:44:682</td>\n",
       "      <td>Beedrill</td>\n",
       "      <td>23574</td>\n",
       "      <td>07:32:607</td>\n",
       "      <td>Magneton</td>\n",
       "      <td>19096</td>\n",
       "      <td>13:33:098</td>\n",
       "      <td>Electabuzz</td>\n",
       "      <td>17335</td>\n",
       "      <td>17:02:627</td>\n",
       "    </tr>\n",
       "    <tr>\n",
       "      <th>8</th>\n",
       "      <td>9°</td>\n",
       "      <td>Weiss</td>\n",
       "      <td>26</td>\n",
       "      <td>23:17.665</td>\n",
       "      <td>Charmander</td>\n",
       "      <td>188407</td>\n",
       "      <td>Ampharos</td>\n",
       "      <td>20356</td>\n",
       "      <td>01:55:362</td>\n",
       "      <td>Muk</td>\n",
       "      <td>38258</td>\n",
       "      <td>04:00:467</td>\n",
       "      <td>Arcanine</td>\n",
       "      <td>21558</td>\n",
       "      <td>08:13:020</td>\n",
       "      <td>Meganium</td>\n",
       "      <td>11057</td>\n",
       "      <td>14:10:607</td>\n",
       "      <td>Electabuzz</td>\n",
       "      <td>18027</td>\n",
       "      <td>17:28:584</td>\n",
       "    </tr>\n",
       "    <tr>\n",
       "      <th>9</th>\n",
       "      <td>10°</td>\n",
       "      <td>ftbr</td>\n",
       "      <td>34</td>\n",
       "      <td>23:27.541</td>\n",
       "      <td>Pikachu</td>\n",
       "      <td>277992</td>\n",
       "      <td>Meganium</td>\n",
       "      <td>23724</td>\n",
       "      <td>02:13:320</td>\n",
       "      <td>Espeon</td>\n",
       "      <td>29</td>\n",
       "      <td>04:04:707</td>\n",
       "      <td>Arcanine</td>\n",
       "      <td>20836</td>\n",
       "      <td>08:03:582</td>\n",
       "      <td>Kingler</td>\n",
       "      <td>14462</td>\n",
       "      <td>14:25:616</td>\n",
       "      <td>Beedrill</td>\n",
       "      <td>12821</td>\n",
       "      <td>18:05:028</td>\n",
       "    </tr>\n",
       "    <tr>\n",
       "      <th>10</th>\n",
       "      <td>11°</td>\n",
       "      <td>Jihn</td>\n",
       "      <td>35</td>\n",
       "      <td>24:10.057</td>\n",
       "      <td>Pikachu</td>\n",
       "      <td>275701</td>\n",
       "      <td>Magneton</td>\n",
       "      <td>32475</td>\n",
       "      <td>02:09:223</td>\n",
       "      <td>Umbreon</td>\n",
       "      <td>30873</td>\n",
       "      <td>03:55:227</td>\n",
       "      <td>Arcanine</td>\n",
       "      <td>13934</td>\n",
       "      <td>07:52:733</td>\n",
       "      <td>Kingler</td>\n",
       "      <td>22278</td>\n",
       "      <td>13:54:425</td>\n",
       "      <td>Electabuzz</td>\n",
       "      <td>12371</td>\n",
       "      <td>17:55:132</td>\n",
       "    </tr>\n",
       "    <tr>\n",
       "      <th>11</th>\n",
       "      <td>12°</td>\n",
       "      <td>Ks</td>\n",
       "      <td>32</td>\n",
       "      <td>24:36.498</td>\n",
       "      <td>Bulbasaur</td>\n",
       "      <td>283529</td>\n",
       "      <td>Muk</td>\n",
       "      <td>9591</td>\n",
       "      <td>02:01:493</td>\n",
       "      <td>Meganium</td>\n",
       "      <td>25958</td>\n",
       "      <td>03:57:157</td>\n",
       "      <td>Swampert</td>\n",
       "      <td>13369</td>\n",
       "      <td>08:02:962</td>\n",
       "      <td>Kingler</td>\n",
       "      <td>13693</td>\n",
       "      <td>14:15:525</td>\n",
       "      <td>Vaporeon</td>\n",
       "      <td>7339</td>\n",
       "      <td>17:46:549</td>\n",
       "    </tr>\n",
       "    <tr>\n",
       "      <th>12</th>\n",
       "      <td>13°</td>\n",
       "      <td>KNOCK</td>\n",
       "      <td>34</td>\n",
       "      <td>24:56.773</td>\n",
       "      <td>Bulbasaur</td>\n",
       "      <td>320475</td>\n",
       "      <td>Kingler</td>\n",
       "      <td>15312</td>\n",
       "      <td>01:59:907</td>\n",
       "      <td>Muk</td>\n",
       "      <td>8928</td>\n",
       "      <td>03:53:543</td>\n",
       "      <td>Arcanine</td>\n",
       "      <td>20552</td>\n",
       "      <td>08:06:373</td>\n",
       "      <td>Meganium</td>\n",
       "      <td>7755</td>\n",
       "      <td>14:24:189</td>\n",
       "      <td>Ampharos</td>\n",
       "      <td>6800</td>\n",
       "      <td>17:54:001</td>\n",
       "    </tr>\n",
       "    <tr>\n",
       "      <th>13</th>\n",
       "      <td>14°</td>\n",
       "      <td>Mestre LpK</td>\n",
       "      <td>36</td>\n",
       "      <td>25:56.857</td>\n",
       "      <td>Pikachu</td>\n",
       "      <td>313550</td>\n",
       "      <td>Swampert</td>\n",
       "      <td>36405</td>\n",
       "      <td>02:07:366</td>\n",
       "      <td>Umbreon</td>\n",
       "      <td>26597</td>\n",
       "      <td>03:58:211</td>\n",
       "      <td>Meganium</td>\n",
       "      <td>6230</td>\n",
       "      <td>08:38:615</td>\n",
       "      <td>Arcanine</td>\n",
       "      <td>13795</td>\n",
       "      <td>14:44:190</td>\n",
       "      <td>Magneton</td>\n",
       "      <td>8520</td>\n",
       "      <td>19:23:604</td>\n",
       "    </tr>\n",
       "    <tr>\n",
       "      <th>14</th>\n",
       "      <td>15°</td>\n",
       "      <td>Luhmb</td>\n",
       "      <td>34</td>\n",
       "      <td>26:12.672</td>\n",
       "      <td>Bulbasaur</td>\n",
       "      <td>293571</td>\n",
       "      <td>Alakazam</td>\n",
       "      <td>20075</td>\n",
       "      <td>02:00:088</td>\n",
       "      <td>Magneton</td>\n",
       "      <td>39307</td>\n",
       "      <td>04:04:160</td>\n",
       "      <td>Beedrill</td>\n",
       "      <td>39385</td>\n",
       "      <td>08:16:860</td>\n",
       "      <td>Electabuzz</td>\n",
       "      <td>18977</td>\n",
       "      <td>14:56:911</td>\n",
       "      <td>Kingler</td>\n",
       "      <td>16274</td>\n",
       "      <td>19:00:318</td>\n",
       "    </tr>\n",
       "    <tr>\n",
       "      <th>15</th>\n",
       "      <td>16°</td>\n",
       "      <td>Lipekill</td>\n",
       "      <td>36</td>\n",
       "      <td>27:16.613</td>\n",
       "      <td>Bulbasaur</td>\n",
       "      <td>301406</td>\n",
       "      <td>Magneton</td>\n",
       "      <td>41875</td>\n",
       "      <td>02:01:030</td>\n",
       "      <td>Electabuzz</td>\n",
       "      <td>37490</td>\n",
       "      <td>04:03:675</td>\n",
       "      <td>Swampert</td>\n",
       "      <td>19020</td>\n",
       "      <td>08:26:951</td>\n",
       "      <td>Muk</td>\n",
       "      <td>22844</td>\n",
       "      <td>15:02:435</td>\n",
       "      <td>Arcanine</td>\n",
       "      <td>14550</td>\n",
       "      <td>19:24:156</td>\n",
       "    </tr>\n",
       "    <tr>\n",
       "      <th>16</th>\n",
       "      <td>17°</td>\n",
       "      <td>Guiltybr</td>\n",
       "      <td>31</td>\n",
       "      <td>27:41.466</td>\n",
       "      <td>Bulbasaur</td>\n",
       "      <td>303727</td>\n",
       "      <td>Jolteon</td>\n",
       "      <td>8772</td>\n",
       "      <td>02:00:980</td>\n",
       "      <td>Muk</td>\n",
       "      <td>27362</td>\n",
       "      <td>04:59:718</td>\n",
       "      <td>Kingler</td>\n",
       "      <td>37363</td>\n",
       "      <td>09:36:001</td>\n",
       "      <td>Arcanine</td>\n",
       "      <td>18832</td>\n",
       "      <td>16:37:259</td>\n",
       "      <td>Electabuzz</td>\n",
       "      <td>15522</td>\n",
       "      <td>20:41:736</td>\n",
       "    </tr>\n",
       "    <tr>\n",
       "      <th>17</th>\n",
       "      <td>18°</td>\n",
       "      <td>MatthawsRdC</td>\n",
       "      <td>37</td>\n",
       "      <td>29:44.636</td>\n",
       "      <td>Pikachu</td>\n",
       "      <td>389560</td>\n",
       "      <td>Vaporeon</td>\n",
       "      <td>30482</td>\n",
       "      <td>02:02:903</td>\n",
       "      <td>Espeon</td>\n",
       "      <td>0</td>\n",
       "      <td>04:24:792</td>\n",
       "      <td>Glalie</td>\n",
       "      <td>33240</td>\n",
       "      <td>09:04:257</td>\n",
       "      <td>MrMime</td>\n",
       "      <td>0</td>\n",
       "      <td>16:17:453</td>\n",
       "      <td>Jolteon</td>\n",
       "      <td>16911</td>\n",
       "      <td>21:29:709</td>\n",
       "    </tr>\n",
       "    <tr>\n",
       "      <th>18</th>\n",
       "      <td>19°</td>\n",
       "      <td>ackloh mito</td>\n",
       "      <td>37</td>\n",
       "      <td>31:39.669</td>\n",
       "      <td>Bulbasaur</td>\n",
       "      <td>401942</td>\n",
       "      <td>Jolteon</td>\n",
       "      <td>31951</td>\n",
       "      <td>02:04:387</td>\n",
       "      <td>Flareon</td>\n",
       "      <td>12234</td>\n",
       "      <td>05:00:206</td>\n",
       "      <td>MrMime</td>\n",
       "      <td>1</td>\n",
       "      <td>10:15:477</td>\n",
       "      <td>Alakazam</td>\n",
       "      <td>14611</td>\n",
       "      <td>18:11:479</td>\n",
       "      <td>Rhydon</td>\n",
       "      <td>12882</td>\n",
       "      <td>23:00:620</td>\n",
       "    </tr>\n",
       "    <tr>\n",
       "      <th>19</th>\n",
       "      <td>20°</td>\n",
       "      <td>zenin</td>\n",
       "      <td>38</td>\n",
       "      <td>32:54.987</td>\n",
       "      <td>Bulbasaur</td>\n",
       "      <td>375714</td>\n",
       "      <td>Alakazam</td>\n",
       "      <td>6353</td>\n",
       "      <td>01:58:794</td>\n",
       "      <td>Jolteon</td>\n",
       "      <td>30162</td>\n",
       "      <td>04:35:223</td>\n",
       "      <td>Arcanine</td>\n",
       "      <td>37141</td>\n",
       "      <td>10:09:302</td>\n",
       "      <td>Leafeon</td>\n",
       "      <td>8921</td>\n",
       "      <td>17:49:769</td>\n",
       "      <td>Victribell</td>\n",
       "      <td>14601</td>\n",
       "      <td>23:27:827</td>\n",
       "    </tr>\n",
       "    <tr>\n",
       "      <th>20</th>\n",
       "      <td>21°</td>\n",
       "      <td>Delirio</td>\n",
       "      <td>32</td>\n",
       "      <td>34:05.337</td>\n",
       "      <td>Bulbasaur</td>\n",
       "      <td>318166</td>\n",
       "      <td>Arcanine</td>\n",
       "      <td>40592</td>\n",
       "      <td>02:17:427</td>\n",
       "      <td>MrMime</td>\n",
       "      <td>479</td>\n",
       "      <td>04:08:008</td>\n",
       "      <td>Muk</td>\n",
       "      <td>20722</td>\n",
       "      <td>09:52:088</td>\n",
       "      <td>Glalie</td>\n",
       "      <td>8888</td>\n",
       "      <td>19:20:736</td>\n",
       "      <td>Jolteon</td>\n",
       "      <td>12574</td>\n",
       "      <td>24:30:552</td>\n",
       "    </tr>\n",
       "    <tr>\n",
       "      <th>21</th>\n",
       "      <td>22°</td>\n",
       "      <td>Paula</td>\n",
       "      <td>37</td>\n",
       "      <td>41:37.698</td>\n",
       "      <td>Bulbasaur</td>\n",
       "      <td>478721</td>\n",
       "      <td>Alakazam</td>\n",
       "      <td>30000</td>\n",
       "      <td>02:25:042</td>\n",
       "      <td>Jolteon</td>\n",
       "      <td>24394</td>\n",
       "      <td>07:36:473</td>\n",
       "      <td>Pidgeot</td>\n",
       "      <td>4132</td>\n",
       "      <td>13:28:969</td>\n",
       "      <td>MrMime</td>\n",
       "      <td>0</td>\n",
       "      <td>22:05:949</td>\n",
       "      <td>Espeon</td>\n",
       "      <td>0</td>\n",
       "      <td>28:45:779</td>\n",
       "    </tr>\n",
       "  </tbody>\n",
       "</table>\n",
       "</div>"
      ],
      "text/plain": [
       "   Ordem      Jogador  level      Tempo       Heroi Dano Heroi Suporte 1 Dano Sup 1 Tempo Sup 1   Suporte 2  \\\n",
       "0     1°       Xanad0     32  21:20.948     Pikachu     252072   Kingler      12869   02:02:755    Arcanine   \n",
       "1     2°         Nico     31  21:48.080  Charmander     199981   Kingler      39379   02:03:868    Arcanine   \n",
       "2     3°         kawa     33  21:53.788  Charmander     195169   Kingler      41197   01:54:023    Arcanine   \n",
       "3     4°     Jumbrado     32  22:04.864     Pikachu     253248  Arcanine      29666   01:59:880     Kingler   \n",
       "4     5°     NewJeans     33  22:10.981    Squirtle     184786   Kingler      42345   02:09:661     Umbreon   \n",
       "5     6°        Royal     30  22:16.668     Pikachu     259016  Ampharos      22585   02:01:735    Meganium   \n",
       "6     7°       Lironi     31  22:53.914     Pikachu     261771   Kingler      37418   01:52:732         Muk   \n",
       "7     8°         Root     30  22:59.368  Charmander     212966   Kingler      46484   01:58:650    Arcanine   \n",
       "8     9°        Weiss     26  23:17.665  Charmander     188407  Ampharos      20356   01:55:362         Muk   \n",
       "9    10°         ftbr     34  23:27.541     Pikachu     277992  Meganium      23724   02:13:320      Espeon   \n",
       "10   11°         Jihn     35  24:10.057     Pikachu     275701  Magneton      32475   02:09:223     Umbreon   \n",
       "11   12°           Ks     32  24:36.498   Bulbasaur     283529       Muk       9591   02:01:493    Meganium   \n",
       "12   13°        KNOCK     34  24:56.773   Bulbasaur     320475   Kingler      15312   01:59:907         Muk   \n",
       "13   14°   Mestre LpK     36  25:56.857     Pikachu     313550  Swampert      36405   02:07:366     Umbreon   \n",
       "14   15°        Luhmb     34  26:12.672   Bulbasaur     293571  Alakazam      20075   02:00:088    Magneton   \n",
       "15   16°     Lipekill     36  27:16.613   Bulbasaur     301406  Magneton      41875   02:01:030  Electabuzz   \n",
       "16   17°     Guiltybr     31  27:41.466   Bulbasaur     303727   Jolteon       8772   02:00:980         Muk   \n",
       "17   18°  MatthawsRdC     37  29:44.636     Pikachu     389560  Vaporeon      30482   02:02:903      Espeon   \n",
       "18   19°  ackloh mito     37  31:39.669   Bulbasaur     401942   Jolteon      31951   02:04:387     Flareon   \n",
       "19   20°        zenin     38  32:54.987   Bulbasaur     375714  Alakazam       6353   01:58:794     Jolteon   \n",
       "20   21°      Delirio     32  34:05.337   Bulbasaur     318166  Arcanine      40592   02:17:427      MrMime   \n",
       "21   22°        Paula     37  41:37.698   Bulbasaur     478721  Alakazam      30000   02:25:042     Jolteon   \n",
       "\n",
       "   Dano Sup 2 Tempo Sup 2   Suporte 3 Dano Sup 3 Tempo Sup 3   Suporte 4 Dano Sup 4 Tempo Sup 4   Suporte 5  \\\n",
       "0       21683   03:37:872     Umbreon      24401   07:15:975    Beedrill      16531   13:26:362  Electabuzz   \n",
       "1       28350   03:37:493    Vaporeon      25083   07:17:999     Umbreon      16149   13:21:759    Beedrill   \n",
       "2       27260   03:46:239    Vaporeon      27305   07:17:313    Beedrill      20984   13:20:609     Umbreon   \n",
       "3       15941   03:48:804    Beedrill      27851   07:26:649  Electabuzz      15537   13:26:466    Magneton   \n",
       "4       40412   03:38:048      Glalie      33945   07:30:903    Magneton      20670   13:28:609    Beedrill   \n",
       "5        6962   03:57:838  Victribell      29113   07:42:073     Umbreon      20467   13:46:993    Beedrill   \n",
       "6       12623   03:41:394    Arcanine      24229   07:23:052  Electabuzz       7284   13:36:978    Magneton   \n",
       "7       31892   03:44:682    Beedrill      23574   07:32:607    Magneton      19096   13:33:098  Electabuzz   \n",
       "8       38258   04:00:467    Arcanine      21558   08:13:020    Meganium      11057   14:10:607  Electabuzz   \n",
       "9          29   04:04:707    Arcanine      20836   08:03:582     Kingler      14462   14:25:616    Beedrill   \n",
       "10      30873   03:55:227    Arcanine      13934   07:52:733     Kingler      22278   13:54:425  Electabuzz   \n",
       "11      25958   03:57:157    Swampert      13369   08:02:962     Kingler      13693   14:15:525    Vaporeon   \n",
       "12       8928   03:53:543    Arcanine      20552   08:06:373    Meganium       7755   14:24:189    Ampharos   \n",
       "13      26597   03:58:211    Meganium       6230   08:38:615    Arcanine      13795   14:44:190    Magneton   \n",
       "14      39307   04:04:160    Beedrill      39385   08:16:860  Electabuzz      18977   14:56:911     Kingler   \n",
       "15      37490   04:03:675    Swampert      19020   08:26:951         Muk      22844   15:02:435    Arcanine   \n",
       "16      27362   04:59:718     Kingler      37363   09:36:001    Arcanine      18832   16:37:259  Electabuzz   \n",
       "17          0   04:24:792      Glalie      33240   09:04:257      MrMime          0   16:17:453     Jolteon   \n",
       "18      12234   05:00:206      MrMime          1   10:15:477    Alakazam      14611   18:11:479      Rhydon   \n",
       "19      30162   04:35:223    Arcanine      37141   10:09:302     Leafeon       8921   17:49:769  Victribell   \n",
       "20        479   04:08:008         Muk      20722   09:52:088      Glalie       8888   19:20:736     Jolteon   \n",
       "21      24394   07:36:473     Pidgeot       4132   13:28:969      MrMime          0   22:05:949      Espeon   \n",
       "\n",
       "   Dano Sup 5 Tempo Sup 5  \n",
       "0        9001   16:31:244  \n",
       "1       20692   16:34:209  \n",
       "2       20325   16:34:734  \n",
       "3       12031   17:02:094  \n",
       "4       18133   16:48:592  \n",
       "5       13504   17:21:882  \n",
       "6       13959   17:02:009  \n",
       "7       17335   17:02:627  \n",
       "8       18027   17:28:584  \n",
       "9       12821   18:05:028  \n",
       "10      12371   17:55:132  \n",
       "11       7339   17:46:549  \n",
       "12       6800   17:54:001  \n",
       "13       8520   19:23:604  \n",
       "14      16274   19:00:318  \n",
       "15      14550   19:24:156  \n",
       "16      15522   20:41:736  \n",
       "17      16911   21:29:709  \n",
       "18      12882   23:00:620  \n",
       "19      14601   23:27:827  \n",
       "20      12574   24:30:552  \n",
       "21          0   28:45:779  "
      ]
     },
     "execution_count": 756,
     "metadata": {},
     "output_type": "execute_result"
    }
   ],
   "source": [
    "min_indices = info_df_exp.groupby('Jogador')['Tempo'].idxmin()\n",
    "info_df_exp_un = info_df_exp.loc[min_indices].sort_values(by='Tempo', ascending=True).reset_index(drop=True)\n",
    "info_df_exp_un['Ordem'] = info_df_exp_un['Ordem'].rank().astype(int).map('{:.0f}°'.format)\n",
    "\n",
    "info_df_exp_un"
   ]
  },
  {
   "cell_type": "code",
   "execution_count": null,
   "metadata": {},
   "outputs": [],
   "source": []
  }
 ],
 "metadata": {
  "kernelspec": {
   "display_name": "Python 3",
   "language": "python",
   "name": "python3"
  },
  "language_info": {
   "codemirror_mode": {
    "name": "ipython",
    "version": 3
   },
   "file_extension": ".py",
   "mimetype": "text/x-python",
   "name": "python",
   "nbconvert_exporter": "python",
   "pygments_lexer": "ipython3",
   "version": "3.11.5"
  }
 },
 "nbformat": 4,
 "nbformat_minor": 2
}
