{
 "cells": [
  {
   "cell_type": "code",
   "execution_count": 300,
   "metadata": {},
   "outputs": [],
   "source": [
    "import requests\n",
    "from datetime import timedelta\n",
    "import json\n",
    "import pandas as pd\n",
    "import plotly.express as px\n",
    "\n",
    "url = \"https://rootd4.vercel.app/score/all\"\n",
    "response = requests.get(url)\n",
    "dados = response.json()\n",
    "# Transformar a resposta JSON em DataFrame\n",
    "df = pd.DataFrame(response.json()).copy()\n"
   ]
  },
  {
   "cell_type": "code",
   "execution_count": 301,
   "metadata": {},
   "outputs": [],
   "source": [
    "pd.set_option('display.max_columns', 100)\n",
    "pd.set_option('display.max_rows', 150)\n",
    "pd.set_option('display.max_colwidth', 150)\n",
    "pd.set_option('display.width', 120)\n",
    "pd.set_option('expand_frame_repr', True)"
   ]
  },
  {
   "cell_type": "markdown",
   "metadata": {},
   "source": [
    "## Quantidade de partidas"
   ]
  },
  {
   "cell_type": "code",
   "execution_count": 302,
   "metadata": {},
   "outputs": [
    {
     "data": {
      "text/plain": [
       "165"
      ]
     },
     "execution_count": 302,
     "metadata": {},
     "output_type": "execute_result"
    }
   ],
   "source": [
    "df.shape[0]"
   ]
  },
  {
   "cell_type": "markdown",
   "metadata": {},
   "source": [
    "## ID Pokemon"
   ]
  },
  {
   "cell_type": "code",
   "execution_count": 303,
   "metadata": {},
   "outputs": [],
   "source": [
    "def support_id_nome(id):\n",
    "    support_names = {\n",
    "        0: \"Arcanine\",\n",
    "        1: \"Azumarill\",\n",
    "        2: \"Flareon\",\n",
    "        3: \"Kingler\",\n",
    "        4: \"Leafeon\",\n",
    "        5: \"Glalie\",\n",
    "        6: \"Beedrill\",\n",
    "        7: \"Vaporeon\",\n",
    "        8: \"Electabuzz\",\n",
    "        9: \"Ampharos\",\n",
    "        10: \"Muk\",\n",
    "        11: \"Jolteon\",\n",
    "        12: \"Rhydon\",\n",
    "        13 : \"MrMime\",\n",
    "        14: \"Swampert\",\n",
    "        15: \"Glaceon\",\n",
    "        16: \"Alakazam\",\n",
    "        17: \"Pidgeot\",\n",
    "        18: \"Meganium\",\n",
    "        19: \"Umbreon\",\n",
    "        20: \"Victribell\",\n",
    "        21: \"Espeon\",\n",
    "        22: \"Magneton\"\n",
    "    }\n",
    "    return support_names.get(int(id), \"Unknown Support\")\n",
    "\n",
    "\n",
    "def hero_nome_id(id):\n",
    "    hero_names = {\n",
    "        0: \"Bulbasaur\",\n",
    "        1: \"Charmander\",\n",
    "        2: \"Squirtle\",\n",
    "        3: \"Pikachu\"\n",
    "    }\n",
    "    return hero_names.get(int(id), \"Unknown Hero\")"
   ]
  },
  {
   "cell_type": "code",
   "execution_count": 304,
   "metadata": {},
   "outputs": [],
   "source": [
    "df['info'] = df['info'].apply(json.loads)"
   ]
  },
  {
   "cell_type": "code",
   "execution_count": 305,
   "metadata": {},
   "outputs": [],
   "source": [
    "# Normalizar 'info'\n",
    "info_df = pd.json_normalize(df['info'].tolist())\n",
    "\n",
    "# Adicionar 'name' em info\n",
    "info_df['name'] = df['name']\n",
    "info_df['time'] = pd.to_numeric(df['time'])\n",
    "\n",
    "# Filtrar registros com pokemon diferente de -1\n",
    "stats_df = pd.json_normalize(df['info'].tolist(), 'statistics')\n",
    "stats_df['pokemon'] = stats_df['pokemon'].astype(int)\n",
    "\n",
    "# Adicionar 'name' em stats\n",
    "stats_df['name'] = df['name'].repeat(info_df['statistics'].apply(len).tolist()).reset_index(drop=True)\n",
    "\n",
    "stats_dfo = stats_df\n",
    "stats_df = stats_df.query('pokemon != -1')"
   ]
  },
  {
   "cell_type": "markdown",
   "metadata": {},
   "source": [
    "## TOP 5 Suportes usados por names"
   ]
  },
  {
   "cell_type": "code",
   "execution_count": 306,
   "metadata": {},
   "outputs": [
    {
     "data": {
      "text/html": [
       "<div>\n",
       "<style scoped>\n",
       "    .dataframe tbody tr th:only-of-type {\n",
       "        vertical-align: middle;\n",
       "    }\n",
       "\n",
       "    .dataframe tbody tr th {\n",
       "        vertical-align: top;\n",
       "    }\n",
       "\n",
       "    .dataframe thead th {\n",
       "        text-align: right;\n",
       "    }\n",
       "</style>\n",
       "<table border=\"1\" class=\"dataframe\">\n",
       "  <thead>\n",
       "    <tr style=\"text-align: right;\">\n",
       "      <th></th>\n",
       "      <th>name</th>\n",
       "      <th>Top 5 Suportes</th>\n",
       "    </tr>\n",
       "  </thead>\n",
       "  <tbody>\n",
       "    <tr>\n",
       "      <th>0</th>\n",
       "      <td>Delirio</td>\n",
       "      <td>Arcanine, Muk, Jolteon, MrMime, Glalie</td>\n",
       "    </tr>\n",
       "    <tr>\n",
       "      <th>1</th>\n",
       "      <td>Guiltybr</td>\n",
       "      <td>Arcanine, Kingler, Glalie, Electabuzz, Muk</td>\n",
       "    </tr>\n",
       "    <tr>\n",
       "      <th>2</th>\n",
       "      <td>Jihn</td>\n",
       "      <td>Electabuzz, Umbreon, Magneton, Arcanine, Kingler</td>\n",
       "    </tr>\n",
       "    <tr>\n",
       "      <th>3</th>\n",
       "      <td>Jumbrado</td>\n",
       "      <td>Arcanine, Beedrill, Electabuzz, Kingler, Muk</td>\n",
       "    </tr>\n",
       "    <tr>\n",
       "      <th>4</th>\n",
       "      <td>KNOCK</td>\n",
       "      <td>Arcanine, Kingler, Ampharos, Muk, Jolteon</td>\n",
       "    </tr>\n",
       "    <tr>\n",
       "      <th>5</th>\n",
       "      <td>Ks</td>\n",
       "      <td>Arcanine, Meganium, Kingler, Beedrill, Muk</td>\n",
       "    </tr>\n",
       "    <tr>\n",
       "      <th>6</th>\n",
       "      <td>Lipekill</td>\n",
       "      <td>Arcanine, Magneton, Kingler, Electabuzz, Muk</td>\n",
       "    </tr>\n",
       "    <tr>\n",
       "      <th>7</th>\n",
       "      <td>Lironi</td>\n",
       "      <td>Arcanine, Electabuzz, Kingler, Glaceon, Meganium</td>\n",
       "    </tr>\n",
       "    <tr>\n",
       "      <th>8</th>\n",
       "      <td>Luhmb</td>\n",
       "      <td>Kingler, Beedrill, Electabuzz, Alakazam, Magneton</td>\n",
       "    </tr>\n",
       "    <tr>\n",
       "      <th>9</th>\n",
       "      <td>MatthawsRdC</td>\n",
       "      <td>Jolteon, MrMime, Espeon, Glalie, Vaporeon</td>\n",
       "    </tr>\n",
       "    <tr>\n",
       "      <th>10</th>\n",
       "      <td>Mestre LpK</td>\n",
       "      <td>Arcanine, Jolteon, Meganium, Kingler, Muk</td>\n",
       "    </tr>\n",
       "    <tr>\n",
       "      <th>11</th>\n",
       "      <td>NewJeans</td>\n",
       "      <td>Arcanine, Kingler, Beedrill, Umbreon, Electabuzz</td>\n",
       "    </tr>\n",
       "    <tr>\n",
       "      <th>12</th>\n",
       "      <td>Nico</td>\n",
       "      <td>Arcanine, Kingler, Beedrill, Meganium, Umbreon</td>\n",
       "    </tr>\n",
       "    <tr>\n",
       "      <th>13</th>\n",
       "      <td>Paula</td>\n",
       "      <td>Jolteon, MrMime, Alakazam, Pidgeot, Espeon</td>\n",
       "    </tr>\n",
       "    <tr>\n",
       "      <th>14</th>\n",
       "      <td>Root</td>\n",
       "      <td>Arcanine, Azumarill, Kingler, Electabuzz, Meganium</td>\n",
       "    </tr>\n",
       "    <tr>\n",
       "      <th>15</th>\n",
       "      <td>Royal</td>\n",
       "      <td>Arcanine, Electabuzz, Kingler, Umbreon, Meganium</td>\n",
       "    </tr>\n",
       "    <tr>\n",
       "      <th>16</th>\n",
       "      <td>Weiss</td>\n",
       "      <td>Arcanine, Meganium, Azumarill, Electabuzz, Ampharos</td>\n",
       "    </tr>\n",
       "    <tr>\n",
       "      <th>17</th>\n",
       "      <td>Xanad0</td>\n",
       "      <td>Arcanine, Kingler, Electabuzz, Umbreon, Beedrill</td>\n",
       "    </tr>\n",
       "    <tr>\n",
       "      <th>18</th>\n",
       "      <td>ackloh mito</td>\n",
       "      <td>Alakazam, Azumarill, Flareon, Muk, Jolteon</td>\n",
       "    </tr>\n",
       "    <tr>\n",
       "      <th>19</th>\n",
       "      <td>ftbr</td>\n",
       "      <td>Arcanine, Jolteon, Meganium, Espeon, Azumarill</td>\n",
       "    </tr>\n",
       "    <tr>\n",
       "      <th>20</th>\n",
       "      <td>kawa</td>\n",
       "      <td>Arcanine, Kingler, Electabuzz, Umbreon, Beedrill</td>\n",
       "    </tr>\n",
       "    <tr>\n",
       "      <th>21</th>\n",
       "      <td>zenin</td>\n",
       "      <td>Arcanine, Leafeon, Jolteon, Alakazam, Victribell</td>\n",
       "    </tr>\n",
       "  </tbody>\n",
       "</table>\n",
       "</div>"
      ],
      "text/plain": [
       "           name                                       Top 5 Suportes\n",
       "0       Delirio               Arcanine, Muk, Jolteon, MrMime, Glalie\n",
       "1      Guiltybr           Arcanine, Kingler, Glalie, Electabuzz, Muk\n",
       "2          Jihn     Electabuzz, Umbreon, Magneton, Arcanine, Kingler\n",
       "3      Jumbrado         Arcanine, Beedrill, Electabuzz, Kingler, Muk\n",
       "4         KNOCK            Arcanine, Kingler, Ampharos, Muk, Jolteon\n",
       "5            Ks           Arcanine, Meganium, Kingler, Beedrill, Muk\n",
       "6      Lipekill         Arcanine, Magneton, Kingler, Electabuzz, Muk\n",
       "7        Lironi     Arcanine, Electabuzz, Kingler, Glaceon, Meganium\n",
       "8         Luhmb    Kingler, Beedrill, Electabuzz, Alakazam, Magneton\n",
       "9   MatthawsRdC            Jolteon, MrMime, Espeon, Glalie, Vaporeon\n",
       "10   Mestre LpK            Arcanine, Jolteon, Meganium, Kingler, Muk\n",
       "11     NewJeans     Arcanine, Kingler, Beedrill, Umbreon, Electabuzz\n",
       "12         Nico       Arcanine, Kingler, Beedrill, Meganium, Umbreon\n",
       "13        Paula           Jolteon, MrMime, Alakazam, Pidgeot, Espeon\n",
       "14         Root   Arcanine, Azumarill, Kingler, Electabuzz, Meganium\n",
       "15        Royal     Arcanine, Electabuzz, Kingler, Umbreon, Meganium\n",
       "16        Weiss  Arcanine, Meganium, Azumarill, Electabuzz, Ampharos\n",
       "17       Xanad0     Arcanine, Kingler, Electabuzz, Umbreon, Beedrill\n",
       "18  ackloh mito           Alakazam, Azumarill, Flareon, Muk, Jolteon\n",
       "19         ftbr       Arcanine, Jolteon, Meganium, Espeon, Azumarill\n",
       "20         kawa     Arcanine, Kingler, Electabuzz, Umbreon, Beedrill\n",
       "21        zenin     Arcanine, Leafeon, Jolteon, Alakazam, Victribell"
      ]
     },
     "execution_count": 306,
     "metadata": {},
     "output_type": "execute_result"
    }
   ],
   "source": [
    "top5_suportes_jogadores = info_df\n",
    "\n",
    "stats_df = stats_df.query('pokemon != -1')\n",
    "\n",
    "top5_suportes_jogadores = (\n",
    "    stats_df.groupby(['name', 'pokemon'])\n",
    "    .size()\n",
    "    .reset_index(name='count')\n",
    "    .sort_values(by=['name', 'count'], ascending=[True, False])\n",
    "    .groupby('name', as_index=False)  # Evita a criação de índice adicional\n",
    "    .head(5)\n",
    "    .groupby('name')['pokemon']\n",
    "    .agg(lambda x: ', '.join(map(str, x)))\n",
    "    .reset_index(name='Top 5 Suportes')\n",
    ")\n",
    "\n",
    "# Adicionar nomes de Pokémon usando a função support_id_nome\n",
    "top5_suportes_jogadores['Top 5 Suportes'] = top5_suportes_jogadores['Top 5 Suportes'].apply(lambda x: ', '.join(map(support_id_nome, x.split(','))))\n",
    "\n",
    "\n",
    "# Exibir o DataFrame resultante\n",
    "top5_suportes_jogadores[['name', 'Top 5 Suportes']]\n",
    "\n"
   ]
  },
  {
   "cell_type": "markdown",
   "metadata": {},
   "source": [
    "## Suportes mais utilizados"
   ]
  },
  {
   "cell_type": "code",
   "execution_count": 307,
   "metadata": {},
   "outputs": [
    {
     "data": {
      "application/vnd.plotly.v1+json": {
       "config": {
        "plotlyServerURL": "https://plot.ly"
       },
       "data": [
        {
         "alignmentgroup": "True",
         "hovertemplate": "pokemon=%{x}<br>count=%{y}<extra></extra>",
         "legendgroup": "",
         "marker": {
          "color": "#636efa",
          "pattern": {
           "shape": ""
          }
         },
         "name": "",
         "offsetgroup": "",
         "orientation": "v",
         "showlegend": false,
         "textposition": "auto",
         "type": "bar",
         "x": [
          "Arcanine",
          "Kingler",
          "Electabuzz",
          "Beedrill",
          "Meganium",
          "Umbreon",
          "Magneton",
          "Azumarill",
          "Muk",
          "Ampharos",
          "Jolteon",
          "Swampert",
          "Flareon",
          "Alakazam",
          "Leafeon",
          "Espeon",
          "MrMime",
          "Glalie",
          "Vaporeon",
          "Rhydon",
          "Victribell",
          "Glaceon",
          "Pidgeot"
         ],
         "xaxis": "x",
         "y": [
          121,
          101,
          81,
          67,
          63,
          62,
          42,
          40,
          34,
          33,
          26,
          23,
          21,
          17,
          14,
          14,
          14,
          13,
          11,
          10,
          9,
          7,
          2
         ],
         "yaxis": "y"
        }
       ],
       "layout": {
        "barmode": "relative",
        "legend": {
         "tracegroupgap": 0
        },
        "template": {
         "data": {
          "bar": [
           {
            "error_x": {
             "color": "#2a3f5f"
            },
            "error_y": {
             "color": "#2a3f5f"
            },
            "marker": {
             "line": {
              "color": "#E5ECF6",
              "width": 0.5
             },
             "pattern": {
              "fillmode": "overlay",
              "size": 10,
              "solidity": 0.2
             }
            },
            "type": "bar"
           }
          ],
          "barpolar": [
           {
            "marker": {
             "line": {
              "color": "#E5ECF6",
              "width": 0.5
             },
             "pattern": {
              "fillmode": "overlay",
              "size": 10,
              "solidity": 0.2
             }
            },
            "type": "barpolar"
           }
          ],
          "carpet": [
           {
            "aaxis": {
             "endlinecolor": "#2a3f5f",
             "gridcolor": "white",
             "linecolor": "white",
             "minorgridcolor": "white",
             "startlinecolor": "#2a3f5f"
            },
            "baxis": {
             "endlinecolor": "#2a3f5f",
             "gridcolor": "white",
             "linecolor": "white",
             "minorgridcolor": "white",
             "startlinecolor": "#2a3f5f"
            },
            "type": "carpet"
           }
          ],
          "choropleth": [
           {
            "colorbar": {
             "outlinewidth": 0,
             "ticks": ""
            },
            "type": "choropleth"
           }
          ],
          "contour": [
           {
            "colorbar": {
             "outlinewidth": 0,
             "ticks": ""
            },
            "colorscale": [
             [
              0,
              "#0d0887"
             ],
             [
              0.1111111111111111,
              "#46039f"
             ],
             [
              0.2222222222222222,
              "#7201a8"
             ],
             [
              0.3333333333333333,
              "#9c179e"
             ],
             [
              0.4444444444444444,
              "#bd3786"
             ],
             [
              0.5555555555555556,
              "#d8576b"
             ],
             [
              0.6666666666666666,
              "#ed7953"
             ],
             [
              0.7777777777777778,
              "#fb9f3a"
             ],
             [
              0.8888888888888888,
              "#fdca26"
             ],
             [
              1,
              "#f0f921"
             ]
            ],
            "type": "contour"
           }
          ],
          "contourcarpet": [
           {
            "colorbar": {
             "outlinewidth": 0,
             "ticks": ""
            },
            "type": "contourcarpet"
           }
          ],
          "heatmap": [
           {
            "colorbar": {
             "outlinewidth": 0,
             "ticks": ""
            },
            "colorscale": [
             [
              0,
              "#0d0887"
             ],
             [
              0.1111111111111111,
              "#46039f"
             ],
             [
              0.2222222222222222,
              "#7201a8"
             ],
             [
              0.3333333333333333,
              "#9c179e"
             ],
             [
              0.4444444444444444,
              "#bd3786"
             ],
             [
              0.5555555555555556,
              "#d8576b"
             ],
             [
              0.6666666666666666,
              "#ed7953"
             ],
             [
              0.7777777777777778,
              "#fb9f3a"
             ],
             [
              0.8888888888888888,
              "#fdca26"
             ],
             [
              1,
              "#f0f921"
             ]
            ],
            "type": "heatmap"
           }
          ],
          "heatmapgl": [
           {
            "colorbar": {
             "outlinewidth": 0,
             "ticks": ""
            },
            "colorscale": [
             [
              0,
              "#0d0887"
             ],
             [
              0.1111111111111111,
              "#46039f"
             ],
             [
              0.2222222222222222,
              "#7201a8"
             ],
             [
              0.3333333333333333,
              "#9c179e"
             ],
             [
              0.4444444444444444,
              "#bd3786"
             ],
             [
              0.5555555555555556,
              "#d8576b"
             ],
             [
              0.6666666666666666,
              "#ed7953"
             ],
             [
              0.7777777777777778,
              "#fb9f3a"
             ],
             [
              0.8888888888888888,
              "#fdca26"
             ],
             [
              1,
              "#f0f921"
             ]
            ],
            "type": "heatmapgl"
           }
          ],
          "histogram": [
           {
            "marker": {
             "pattern": {
              "fillmode": "overlay",
              "size": 10,
              "solidity": 0.2
             }
            },
            "type": "histogram"
           }
          ],
          "histogram2d": [
           {
            "colorbar": {
             "outlinewidth": 0,
             "ticks": ""
            },
            "colorscale": [
             [
              0,
              "#0d0887"
             ],
             [
              0.1111111111111111,
              "#46039f"
             ],
             [
              0.2222222222222222,
              "#7201a8"
             ],
             [
              0.3333333333333333,
              "#9c179e"
             ],
             [
              0.4444444444444444,
              "#bd3786"
             ],
             [
              0.5555555555555556,
              "#d8576b"
             ],
             [
              0.6666666666666666,
              "#ed7953"
             ],
             [
              0.7777777777777778,
              "#fb9f3a"
             ],
             [
              0.8888888888888888,
              "#fdca26"
             ],
             [
              1,
              "#f0f921"
             ]
            ],
            "type": "histogram2d"
           }
          ],
          "histogram2dcontour": [
           {
            "colorbar": {
             "outlinewidth": 0,
             "ticks": ""
            },
            "colorscale": [
             [
              0,
              "#0d0887"
             ],
             [
              0.1111111111111111,
              "#46039f"
             ],
             [
              0.2222222222222222,
              "#7201a8"
             ],
             [
              0.3333333333333333,
              "#9c179e"
             ],
             [
              0.4444444444444444,
              "#bd3786"
             ],
             [
              0.5555555555555556,
              "#d8576b"
             ],
             [
              0.6666666666666666,
              "#ed7953"
             ],
             [
              0.7777777777777778,
              "#fb9f3a"
             ],
             [
              0.8888888888888888,
              "#fdca26"
             ],
             [
              1,
              "#f0f921"
             ]
            ],
            "type": "histogram2dcontour"
           }
          ],
          "mesh3d": [
           {
            "colorbar": {
             "outlinewidth": 0,
             "ticks": ""
            },
            "type": "mesh3d"
           }
          ],
          "parcoords": [
           {
            "line": {
             "colorbar": {
              "outlinewidth": 0,
              "ticks": ""
             }
            },
            "type": "parcoords"
           }
          ],
          "pie": [
           {
            "automargin": true,
            "type": "pie"
           }
          ],
          "scatter": [
           {
            "fillpattern": {
             "fillmode": "overlay",
             "size": 10,
             "solidity": 0.2
            },
            "type": "scatter"
           }
          ],
          "scatter3d": [
           {
            "line": {
             "colorbar": {
              "outlinewidth": 0,
              "ticks": ""
             }
            },
            "marker": {
             "colorbar": {
              "outlinewidth": 0,
              "ticks": ""
             }
            },
            "type": "scatter3d"
           }
          ],
          "scattercarpet": [
           {
            "marker": {
             "colorbar": {
              "outlinewidth": 0,
              "ticks": ""
             }
            },
            "type": "scattercarpet"
           }
          ],
          "scattergeo": [
           {
            "marker": {
             "colorbar": {
              "outlinewidth": 0,
              "ticks": ""
             }
            },
            "type": "scattergeo"
           }
          ],
          "scattergl": [
           {
            "marker": {
             "colorbar": {
              "outlinewidth": 0,
              "ticks": ""
             }
            },
            "type": "scattergl"
           }
          ],
          "scattermapbox": [
           {
            "marker": {
             "colorbar": {
              "outlinewidth": 0,
              "ticks": ""
             }
            },
            "type": "scattermapbox"
           }
          ],
          "scatterpolar": [
           {
            "marker": {
             "colorbar": {
              "outlinewidth": 0,
              "ticks": ""
             }
            },
            "type": "scatterpolar"
           }
          ],
          "scatterpolargl": [
           {
            "marker": {
             "colorbar": {
              "outlinewidth": 0,
              "ticks": ""
             }
            },
            "type": "scatterpolargl"
           }
          ],
          "scatterternary": [
           {
            "marker": {
             "colorbar": {
              "outlinewidth": 0,
              "ticks": ""
             }
            },
            "type": "scatterternary"
           }
          ],
          "surface": [
           {
            "colorbar": {
             "outlinewidth": 0,
             "ticks": ""
            },
            "colorscale": [
             [
              0,
              "#0d0887"
             ],
             [
              0.1111111111111111,
              "#46039f"
             ],
             [
              0.2222222222222222,
              "#7201a8"
             ],
             [
              0.3333333333333333,
              "#9c179e"
             ],
             [
              0.4444444444444444,
              "#bd3786"
             ],
             [
              0.5555555555555556,
              "#d8576b"
             ],
             [
              0.6666666666666666,
              "#ed7953"
             ],
             [
              0.7777777777777778,
              "#fb9f3a"
             ],
             [
              0.8888888888888888,
              "#fdca26"
             ],
             [
              1,
              "#f0f921"
             ]
            ],
            "type": "surface"
           }
          ],
          "table": [
           {
            "cells": {
             "fill": {
              "color": "#EBF0F8"
             },
             "line": {
              "color": "white"
             }
            },
            "header": {
             "fill": {
              "color": "#C8D4E3"
             },
             "line": {
              "color": "white"
             }
            },
            "type": "table"
           }
          ]
         },
         "layout": {
          "annotationdefaults": {
           "arrowcolor": "#2a3f5f",
           "arrowhead": 0,
           "arrowwidth": 1
          },
          "autotypenumbers": "strict",
          "coloraxis": {
           "colorbar": {
            "outlinewidth": 0,
            "ticks": ""
           }
          },
          "colorscale": {
           "diverging": [
            [
             0,
             "#8e0152"
            ],
            [
             0.1,
             "#c51b7d"
            ],
            [
             0.2,
             "#de77ae"
            ],
            [
             0.3,
             "#f1b6da"
            ],
            [
             0.4,
             "#fde0ef"
            ],
            [
             0.5,
             "#f7f7f7"
            ],
            [
             0.6,
             "#e6f5d0"
            ],
            [
             0.7,
             "#b8e186"
            ],
            [
             0.8,
             "#7fbc41"
            ],
            [
             0.9,
             "#4d9221"
            ],
            [
             1,
             "#276419"
            ]
           ],
           "sequential": [
            [
             0,
             "#0d0887"
            ],
            [
             0.1111111111111111,
             "#46039f"
            ],
            [
             0.2222222222222222,
             "#7201a8"
            ],
            [
             0.3333333333333333,
             "#9c179e"
            ],
            [
             0.4444444444444444,
             "#bd3786"
            ],
            [
             0.5555555555555556,
             "#d8576b"
            ],
            [
             0.6666666666666666,
             "#ed7953"
            ],
            [
             0.7777777777777778,
             "#fb9f3a"
            ],
            [
             0.8888888888888888,
             "#fdca26"
            ],
            [
             1,
             "#f0f921"
            ]
           ],
           "sequentialminus": [
            [
             0,
             "#0d0887"
            ],
            [
             0.1111111111111111,
             "#46039f"
            ],
            [
             0.2222222222222222,
             "#7201a8"
            ],
            [
             0.3333333333333333,
             "#9c179e"
            ],
            [
             0.4444444444444444,
             "#bd3786"
            ],
            [
             0.5555555555555556,
             "#d8576b"
            ],
            [
             0.6666666666666666,
             "#ed7953"
            ],
            [
             0.7777777777777778,
             "#fb9f3a"
            ],
            [
             0.8888888888888888,
             "#fdca26"
            ],
            [
             1,
             "#f0f921"
            ]
           ]
          },
          "colorway": [
           "#636efa",
           "#EF553B",
           "#00cc96",
           "#ab63fa",
           "#FFA15A",
           "#19d3f3",
           "#FF6692",
           "#B6E880",
           "#FF97FF",
           "#FECB52"
          ],
          "font": {
           "color": "#2a3f5f"
          },
          "geo": {
           "bgcolor": "white",
           "lakecolor": "white",
           "landcolor": "#E5ECF6",
           "showlakes": true,
           "showland": true,
           "subunitcolor": "white"
          },
          "hoverlabel": {
           "align": "left"
          },
          "hovermode": "closest",
          "mapbox": {
           "style": "light"
          },
          "paper_bgcolor": "white",
          "plot_bgcolor": "#E5ECF6",
          "polar": {
           "angularaxis": {
            "gridcolor": "white",
            "linecolor": "white",
            "ticks": ""
           },
           "bgcolor": "#E5ECF6",
           "radialaxis": {
            "gridcolor": "white",
            "linecolor": "white",
            "ticks": ""
           }
          },
          "scene": {
           "xaxis": {
            "backgroundcolor": "#E5ECF6",
            "gridcolor": "white",
            "gridwidth": 2,
            "linecolor": "white",
            "showbackground": true,
            "ticks": "",
            "zerolinecolor": "white"
           },
           "yaxis": {
            "backgroundcolor": "#E5ECF6",
            "gridcolor": "white",
            "gridwidth": 2,
            "linecolor": "white",
            "showbackground": true,
            "ticks": "",
            "zerolinecolor": "white"
           },
           "zaxis": {
            "backgroundcolor": "#E5ECF6",
            "gridcolor": "white",
            "gridwidth": 2,
            "linecolor": "white",
            "showbackground": true,
            "ticks": "",
            "zerolinecolor": "white"
           }
          },
          "shapedefaults": {
           "line": {
            "color": "#2a3f5f"
           }
          },
          "ternary": {
           "aaxis": {
            "gridcolor": "white",
            "linecolor": "white",
            "ticks": ""
           },
           "baxis": {
            "gridcolor": "white",
            "linecolor": "white",
            "ticks": ""
           },
           "bgcolor": "#E5ECF6",
           "caxis": {
            "gridcolor": "white",
            "linecolor": "white",
            "ticks": ""
           }
          },
          "title": {
           "x": 0.05
          },
          "xaxis": {
           "automargin": true,
           "gridcolor": "white",
           "linecolor": "white",
           "ticks": "",
           "title": {
            "standoff": 15
           },
           "zerolinecolor": "white",
           "zerolinewidth": 2
          },
          "yaxis": {
           "automargin": true,
           "gridcolor": "white",
           "linecolor": "white",
           "ticks": "",
           "title": {
            "standoff": 15
           },
           "zerolinecolor": "white",
           "zerolinewidth": 2
          }
         }
        },
        "title": {
         "text": "Pokémons de Suporte Mais Usados"
        },
        "xaxis": {
         "anchor": "y",
         "domain": [
          0,
          1
         ],
         "tickangle": 45,
         "title": {
          "text": "pokemon"
         }
        },
        "yaxis": {
         "anchor": "x",
         "domain": [
          0,
          1
         ],
         "title": {
          "text": "count"
         }
        }
       }
      }
     },
     "metadata": {},
     "output_type": "display_data"
    }
   ],
   "source": [
    "# Contar a ocorrência de cada Pokémon\n",
    "suportes_mais_usados = stats_df['pokemon'].value_counts().reset_index(name='count')\n",
    "\n",
    "# Adicionar nomes de Pokémon usando a função support_id_nome\n",
    "suportes_mais_usados['pokemon'] = suportes_mais_usados['pokemon'].apply(support_id_nome)\n",
    "\n",
    "# Criar o gráfico de barras com o Plotly\n",
    "fig = px.bar(suportes_mais_usados, x='pokemon', y='count', title='Pokémons de Suporte Mais Usados')\n",
    "fig.update_layout(xaxis=dict(tickangle=45))  # Ajustar a rotação dos rótulos para melhor legibilidade\n",
    "\n",
    "# Exibir o gráfico\n",
    "fig.show()\n",
    "\n",
    "#suportes_mais_usados\n"
   ]
  },
  {
   "cell_type": "markdown",
   "metadata": {},
   "source": [
    "## Maior tempo de jogo"
   ]
  },
  {
   "cell_type": "code",
   "execution_count": 308,
   "metadata": {},
   "outputs": [
    {
     "data": {
      "application/vnd.plotly.v1+json": {
       "config": {
        "plotlyServerURL": "https://plot.ly"
       },
       "data": [
        {
         "alignmentgroup": "True",
         "hovertemplate": "name=%{x}<br>tempo_total_horas=%{y}<extra></extra>",
         "legendgroup": "",
         "marker": {
          "color": "#636efa",
          "pattern": {
           "shape": ""
          }
         },
         "name": "",
         "offsetgroup": "",
         "orientation": "v",
         "showlegend": false,
         "textposition": "auto",
         "type": "bar",
         "x": [
          "Delirio",
          "Guiltybr",
          "Jihn",
          "Jumbrado",
          "KNOCK",
          "Ks",
          "Lipekill",
          "Lironi",
          "Luhmb",
          "MatthawsRdC",
          "Mestre LpK",
          "NewJeans",
          "Nico",
          "Paula",
          "Root",
          "Royal",
          "Weiss",
          "Xanad0",
          "ackloh mito",
          "ftbr",
          "kawa",
          "zenin"
         ],
         "xaxis": "x",
         "y": [
          "01:08:14",
          "00:56:45",
          "00:49:02",
          "03:13:25",
          "01:48:36",
          "02:39:28",
          "00:58:01",
          "01:40:30",
          "00:26:12",
          "01:03:56",
          "03:42:45",
          "03:36:59",
          "11:47:27",
          "00:41:37",
          "01:11:54",
          "07:14:30",
          "03:12:31",
          "11:08:01",
          "01:09:29",
          "02:11:39",
          "08:19:30",
          "00:32:54"
         ],
         "yaxis": "y"
        }
       ],
       "layout": {
        "barmode": "relative",
        "legend": {
         "tracegroupgap": 0
        },
        "template": {
         "data": {
          "bar": [
           {
            "error_x": {
             "color": "#2a3f5f"
            },
            "error_y": {
             "color": "#2a3f5f"
            },
            "marker": {
             "line": {
              "color": "#E5ECF6",
              "width": 0.5
             },
             "pattern": {
              "fillmode": "overlay",
              "size": 10,
              "solidity": 0.2
             }
            },
            "type": "bar"
           }
          ],
          "barpolar": [
           {
            "marker": {
             "line": {
              "color": "#E5ECF6",
              "width": 0.5
             },
             "pattern": {
              "fillmode": "overlay",
              "size": 10,
              "solidity": 0.2
             }
            },
            "type": "barpolar"
           }
          ],
          "carpet": [
           {
            "aaxis": {
             "endlinecolor": "#2a3f5f",
             "gridcolor": "white",
             "linecolor": "white",
             "minorgridcolor": "white",
             "startlinecolor": "#2a3f5f"
            },
            "baxis": {
             "endlinecolor": "#2a3f5f",
             "gridcolor": "white",
             "linecolor": "white",
             "minorgridcolor": "white",
             "startlinecolor": "#2a3f5f"
            },
            "type": "carpet"
           }
          ],
          "choropleth": [
           {
            "colorbar": {
             "outlinewidth": 0,
             "ticks": ""
            },
            "type": "choropleth"
           }
          ],
          "contour": [
           {
            "colorbar": {
             "outlinewidth": 0,
             "ticks": ""
            },
            "colorscale": [
             [
              0,
              "#0d0887"
             ],
             [
              0.1111111111111111,
              "#46039f"
             ],
             [
              0.2222222222222222,
              "#7201a8"
             ],
             [
              0.3333333333333333,
              "#9c179e"
             ],
             [
              0.4444444444444444,
              "#bd3786"
             ],
             [
              0.5555555555555556,
              "#d8576b"
             ],
             [
              0.6666666666666666,
              "#ed7953"
             ],
             [
              0.7777777777777778,
              "#fb9f3a"
             ],
             [
              0.8888888888888888,
              "#fdca26"
             ],
             [
              1,
              "#f0f921"
             ]
            ],
            "type": "contour"
           }
          ],
          "contourcarpet": [
           {
            "colorbar": {
             "outlinewidth": 0,
             "ticks": ""
            },
            "type": "contourcarpet"
           }
          ],
          "heatmap": [
           {
            "colorbar": {
             "outlinewidth": 0,
             "ticks": ""
            },
            "colorscale": [
             [
              0,
              "#0d0887"
             ],
             [
              0.1111111111111111,
              "#46039f"
             ],
             [
              0.2222222222222222,
              "#7201a8"
             ],
             [
              0.3333333333333333,
              "#9c179e"
             ],
             [
              0.4444444444444444,
              "#bd3786"
             ],
             [
              0.5555555555555556,
              "#d8576b"
             ],
             [
              0.6666666666666666,
              "#ed7953"
             ],
             [
              0.7777777777777778,
              "#fb9f3a"
             ],
             [
              0.8888888888888888,
              "#fdca26"
             ],
             [
              1,
              "#f0f921"
             ]
            ],
            "type": "heatmap"
           }
          ],
          "heatmapgl": [
           {
            "colorbar": {
             "outlinewidth": 0,
             "ticks": ""
            },
            "colorscale": [
             [
              0,
              "#0d0887"
             ],
             [
              0.1111111111111111,
              "#46039f"
             ],
             [
              0.2222222222222222,
              "#7201a8"
             ],
             [
              0.3333333333333333,
              "#9c179e"
             ],
             [
              0.4444444444444444,
              "#bd3786"
             ],
             [
              0.5555555555555556,
              "#d8576b"
             ],
             [
              0.6666666666666666,
              "#ed7953"
             ],
             [
              0.7777777777777778,
              "#fb9f3a"
             ],
             [
              0.8888888888888888,
              "#fdca26"
             ],
             [
              1,
              "#f0f921"
             ]
            ],
            "type": "heatmapgl"
           }
          ],
          "histogram": [
           {
            "marker": {
             "pattern": {
              "fillmode": "overlay",
              "size": 10,
              "solidity": 0.2
             }
            },
            "type": "histogram"
           }
          ],
          "histogram2d": [
           {
            "colorbar": {
             "outlinewidth": 0,
             "ticks": ""
            },
            "colorscale": [
             [
              0,
              "#0d0887"
             ],
             [
              0.1111111111111111,
              "#46039f"
             ],
             [
              0.2222222222222222,
              "#7201a8"
             ],
             [
              0.3333333333333333,
              "#9c179e"
             ],
             [
              0.4444444444444444,
              "#bd3786"
             ],
             [
              0.5555555555555556,
              "#d8576b"
             ],
             [
              0.6666666666666666,
              "#ed7953"
             ],
             [
              0.7777777777777778,
              "#fb9f3a"
             ],
             [
              0.8888888888888888,
              "#fdca26"
             ],
             [
              1,
              "#f0f921"
             ]
            ],
            "type": "histogram2d"
           }
          ],
          "histogram2dcontour": [
           {
            "colorbar": {
             "outlinewidth": 0,
             "ticks": ""
            },
            "colorscale": [
             [
              0,
              "#0d0887"
             ],
             [
              0.1111111111111111,
              "#46039f"
             ],
             [
              0.2222222222222222,
              "#7201a8"
             ],
             [
              0.3333333333333333,
              "#9c179e"
             ],
             [
              0.4444444444444444,
              "#bd3786"
             ],
             [
              0.5555555555555556,
              "#d8576b"
             ],
             [
              0.6666666666666666,
              "#ed7953"
             ],
             [
              0.7777777777777778,
              "#fb9f3a"
             ],
             [
              0.8888888888888888,
              "#fdca26"
             ],
             [
              1,
              "#f0f921"
             ]
            ],
            "type": "histogram2dcontour"
           }
          ],
          "mesh3d": [
           {
            "colorbar": {
             "outlinewidth": 0,
             "ticks": ""
            },
            "type": "mesh3d"
           }
          ],
          "parcoords": [
           {
            "line": {
             "colorbar": {
              "outlinewidth": 0,
              "ticks": ""
             }
            },
            "type": "parcoords"
           }
          ],
          "pie": [
           {
            "automargin": true,
            "type": "pie"
           }
          ],
          "scatter": [
           {
            "fillpattern": {
             "fillmode": "overlay",
             "size": 10,
             "solidity": 0.2
            },
            "type": "scatter"
           }
          ],
          "scatter3d": [
           {
            "line": {
             "colorbar": {
              "outlinewidth": 0,
              "ticks": ""
             }
            },
            "marker": {
             "colorbar": {
              "outlinewidth": 0,
              "ticks": ""
             }
            },
            "type": "scatter3d"
           }
          ],
          "scattercarpet": [
           {
            "marker": {
             "colorbar": {
              "outlinewidth": 0,
              "ticks": ""
             }
            },
            "type": "scattercarpet"
           }
          ],
          "scattergeo": [
           {
            "marker": {
             "colorbar": {
              "outlinewidth": 0,
              "ticks": ""
             }
            },
            "type": "scattergeo"
           }
          ],
          "scattergl": [
           {
            "marker": {
             "colorbar": {
              "outlinewidth": 0,
              "ticks": ""
             }
            },
            "type": "scattergl"
           }
          ],
          "scattermapbox": [
           {
            "marker": {
             "colorbar": {
              "outlinewidth": 0,
              "ticks": ""
             }
            },
            "type": "scattermapbox"
           }
          ],
          "scatterpolar": [
           {
            "marker": {
             "colorbar": {
              "outlinewidth": 0,
              "ticks": ""
             }
            },
            "type": "scatterpolar"
           }
          ],
          "scatterpolargl": [
           {
            "marker": {
             "colorbar": {
              "outlinewidth": 0,
              "ticks": ""
             }
            },
            "type": "scatterpolargl"
           }
          ],
          "scatterternary": [
           {
            "marker": {
             "colorbar": {
              "outlinewidth": 0,
              "ticks": ""
             }
            },
            "type": "scatterternary"
           }
          ],
          "surface": [
           {
            "colorbar": {
             "outlinewidth": 0,
             "ticks": ""
            },
            "colorscale": [
             [
              0,
              "#0d0887"
             ],
             [
              0.1111111111111111,
              "#46039f"
             ],
             [
              0.2222222222222222,
              "#7201a8"
             ],
             [
              0.3333333333333333,
              "#9c179e"
             ],
             [
              0.4444444444444444,
              "#bd3786"
             ],
             [
              0.5555555555555556,
              "#d8576b"
             ],
             [
              0.6666666666666666,
              "#ed7953"
             ],
             [
              0.7777777777777778,
              "#fb9f3a"
             ],
             [
              0.8888888888888888,
              "#fdca26"
             ],
             [
              1,
              "#f0f921"
             ]
            ],
            "type": "surface"
           }
          ],
          "table": [
           {
            "cells": {
             "fill": {
              "color": "#EBF0F8"
             },
             "line": {
              "color": "white"
             }
            },
            "header": {
             "fill": {
              "color": "#C8D4E3"
             },
             "line": {
              "color": "white"
             }
            },
            "type": "table"
           }
          ]
         },
         "layout": {
          "annotationdefaults": {
           "arrowcolor": "#2a3f5f",
           "arrowhead": 0,
           "arrowwidth": 1
          },
          "autotypenumbers": "strict",
          "coloraxis": {
           "colorbar": {
            "outlinewidth": 0,
            "ticks": ""
           }
          },
          "colorscale": {
           "diverging": [
            [
             0,
             "#8e0152"
            ],
            [
             0.1,
             "#c51b7d"
            ],
            [
             0.2,
             "#de77ae"
            ],
            [
             0.3,
             "#f1b6da"
            ],
            [
             0.4,
             "#fde0ef"
            ],
            [
             0.5,
             "#f7f7f7"
            ],
            [
             0.6,
             "#e6f5d0"
            ],
            [
             0.7,
             "#b8e186"
            ],
            [
             0.8,
             "#7fbc41"
            ],
            [
             0.9,
             "#4d9221"
            ],
            [
             1,
             "#276419"
            ]
           ],
           "sequential": [
            [
             0,
             "#0d0887"
            ],
            [
             0.1111111111111111,
             "#46039f"
            ],
            [
             0.2222222222222222,
             "#7201a8"
            ],
            [
             0.3333333333333333,
             "#9c179e"
            ],
            [
             0.4444444444444444,
             "#bd3786"
            ],
            [
             0.5555555555555556,
             "#d8576b"
            ],
            [
             0.6666666666666666,
             "#ed7953"
            ],
            [
             0.7777777777777778,
             "#fb9f3a"
            ],
            [
             0.8888888888888888,
             "#fdca26"
            ],
            [
             1,
             "#f0f921"
            ]
           ],
           "sequentialminus": [
            [
             0,
             "#0d0887"
            ],
            [
             0.1111111111111111,
             "#46039f"
            ],
            [
             0.2222222222222222,
             "#7201a8"
            ],
            [
             0.3333333333333333,
             "#9c179e"
            ],
            [
             0.4444444444444444,
             "#bd3786"
            ],
            [
             0.5555555555555556,
             "#d8576b"
            ],
            [
             0.6666666666666666,
             "#ed7953"
            ],
            [
             0.7777777777777778,
             "#fb9f3a"
            ],
            [
             0.8888888888888888,
             "#fdca26"
            ],
            [
             1,
             "#f0f921"
            ]
           ]
          },
          "colorway": [
           "#636efa",
           "#EF553B",
           "#00cc96",
           "#ab63fa",
           "#FFA15A",
           "#19d3f3",
           "#FF6692",
           "#B6E880",
           "#FF97FF",
           "#FECB52"
          ],
          "font": {
           "color": "#2a3f5f"
          },
          "geo": {
           "bgcolor": "white",
           "lakecolor": "white",
           "landcolor": "#E5ECF6",
           "showlakes": true,
           "showland": true,
           "subunitcolor": "white"
          },
          "hoverlabel": {
           "align": "left"
          },
          "hovermode": "closest",
          "mapbox": {
           "style": "light"
          },
          "paper_bgcolor": "white",
          "plot_bgcolor": "#E5ECF6",
          "polar": {
           "angularaxis": {
            "gridcolor": "white",
            "linecolor": "white",
            "ticks": ""
           },
           "bgcolor": "#E5ECF6",
           "radialaxis": {
            "gridcolor": "white",
            "linecolor": "white",
            "ticks": ""
           }
          },
          "scene": {
           "xaxis": {
            "backgroundcolor": "#E5ECF6",
            "gridcolor": "white",
            "gridwidth": 2,
            "linecolor": "white",
            "showbackground": true,
            "ticks": "",
            "zerolinecolor": "white"
           },
           "yaxis": {
            "backgroundcolor": "#E5ECF6",
            "gridcolor": "white",
            "gridwidth": 2,
            "linecolor": "white",
            "showbackground": true,
            "ticks": "",
            "zerolinecolor": "white"
           },
           "zaxis": {
            "backgroundcolor": "#E5ECF6",
            "gridcolor": "white",
            "gridwidth": 2,
            "linecolor": "white",
            "showbackground": true,
            "ticks": "",
            "zerolinecolor": "white"
           }
          },
          "shapedefaults": {
           "line": {
            "color": "#2a3f5f"
           }
          },
          "ternary": {
           "aaxis": {
            "gridcolor": "white",
            "linecolor": "white",
            "ticks": ""
           },
           "baxis": {
            "gridcolor": "white",
            "linecolor": "white",
            "ticks": ""
           },
           "bgcolor": "#E5ECF6",
           "caxis": {
            "gridcolor": "white",
            "linecolor": "white",
            "ticks": ""
           }
          },
          "title": {
           "x": 0.05
          },
          "xaxis": {
           "automargin": true,
           "gridcolor": "white",
           "linecolor": "white",
           "ticks": "",
           "title": {
            "standoff": 15
           },
           "zerolinecolor": "white",
           "zerolinewidth": 2
          },
          "yaxis": {
           "automargin": true,
           "gridcolor": "white",
           "linecolor": "white",
           "ticks": "",
           "title": {
            "standoff": 15
           },
           "zerolinecolor": "white",
           "zerolinewidth": 2
          }
         }
        },
        "title": {
         "text": "Distribuição do Tempo Total Jogado por Jogador"
        },
        "xaxis": {
         "anchor": "y",
         "domain": [
          0,
          1
         ],
         "tickangle": 45,
         "tickmode": "array",
         "ticktext": [
          "Delirio",
          "Guiltybr",
          "Jihn",
          "Jumbrado",
          "KNOCK",
          "Ks",
          "Lipekill",
          "Lironi",
          "Luhmb",
          "MatthawsRdC",
          "Mestre LpK",
          "NewJeans",
          "Nico",
          "Paula",
          "Root",
          "Royal",
          "Weiss",
          "Xanad0",
          "ackloh mito",
          "ftbr",
          "kawa",
          "zenin"
         ],
         "tickvals": [
          "Delirio",
          "Guiltybr",
          "Jihn",
          "Jumbrado",
          "KNOCK",
          "Ks",
          "Lipekill",
          "Lironi",
          "Luhmb",
          "MatthawsRdC",
          "Mestre LpK",
          "NewJeans",
          "Nico",
          "Paula",
          "Root",
          "Royal",
          "Weiss",
          "Xanad0",
          "ackloh mito",
          "ftbr",
          "kawa",
          "zenin"
         ],
         "title": {
          "text": "Jogador"
         }
        },
        "yaxis": {
         "anchor": "x",
         "domain": [
          0,
          1
         ],
         "title": {
          "text": "Tempo Total Jogado"
         }
        }
       }
      }
     },
     "metadata": {},
     "output_type": "display_data"
    }
   ],
   "source": [
    "#\n",
    "aux_df = info_df\n",
    "\n",
    "# Calcular a quantidade total de tempo jogado por 'name' em segundos\n",
    "tempo_total_jogo_nome = aux_df.groupby('name')['time'].sum().reset_index(name='tempo_total_segundos')\n",
    "\n",
    "# Converter os segundos para horas\n",
    "tempo_total_jogo_nome['tempo_total_horas'] = tempo_total_jogo_nome['tempo_total_segundos'] / 3600\n",
    "\n",
    "# Converter os segundos para formato de hora\n",
    "tempo_total_jogo_nome['tempo_total_horas'] = pd.to_datetime(tempo_total_jogo_nome['tempo_total_segundos'], unit='s').dt.strftime('%H:%M:%S')\n",
    "\n",
    "# Exibir a tabela\n",
    "#tempo_total_jogo_nome[['name', 'tempo_total_horas']]\n",
    "\n",
    "# Criar um gráfico de barras interativo com o Plotly\n",
    "fig = px.bar(\n",
    "    tempo_total_jogo_nome,\n",
    "    x='name',\n",
    "    y='tempo_total_horas',\n",
    "    labels={'total_time_seconds': 'Tempo Total Jogado (segundos)'},\n",
    "    title='Distribuição do Tempo Total Jogado por Jogador',\n",
    ")\n",
    "\n",
    "# Personalizar layout\n",
    "fig.update_layout(\n",
    "    xaxis_title='Jogador',\n",
    "    yaxis_title='Tempo Total Jogado',\n",
    "    xaxis=dict(tickangle=45, tickmode='array', tickvals=tempo_total_jogo_nome['name'], ticktext=tempo_total_jogo_nome['name']),\n",
    ")\n",
    "\n",
    "# Exibir o gráfico\n",
    "fig.show()"
   ]
  },
  {
   "cell_type": "markdown",
   "metadata": {},
   "source": [
    "## Jogadores Vitórias"
   ]
  },
  {
   "cell_type": "code",
   "execution_count": 309,
   "metadata": {},
   "outputs": [
    {
     "data": {
      "text/html": [
       "<div>\n",
       "<style scoped>\n",
       "    .dataframe tbody tr th:only-of-type {\n",
       "        vertical-align: middle;\n",
       "    }\n",
       "\n",
       "    .dataframe tbody tr th {\n",
       "        vertical-align: top;\n",
       "    }\n",
       "\n",
       "    .dataframe thead th {\n",
       "        text-align: right;\n",
       "    }\n",
       "</style>\n",
       "<table border=\"1\" class=\"dataframe\">\n",
       "  <thead>\n",
       "    <tr style=\"text-align: right;\">\n",
       "      <th></th>\n",
       "      <th>name</th>\n",
       "      <th>vitorias</th>\n",
       "      <th>media_tempo</th>\n",
       "    </tr>\n",
       "  </thead>\n",
       "  <tbody>\n",
       "    <tr>\n",
       "      <th>0</th>\n",
       "      <td>Nico</td>\n",
       "      <td>30</td>\n",
       "      <td>23:34.903861</td>\n",
       "    </tr>\n",
       "    <tr>\n",
       "      <th>1</th>\n",
       "      <td>Xanad0</td>\n",
       "      <td>29</td>\n",
       "      <td>23:02.112898</td>\n",
       "    </tr>\n",
       "    <tr>\n",
       "      <th>2</th>\n",
       "      <td>kawa</td>\n",
       "      <td>21</td>\n",
       "      <td>23:47.180623</td>\n",
       "    </tr>\n",
       "    <tr>\n",
       "      <th>3</th>\n",
       "      <td>Royal</td>\n",
       "      <td>18</td>\n",
       "      <td>24:08.372226</td>\n",
       "    </tr>\n",
       "    <tr>\n",
       "      <th>4</th>\n",
       "      <td>NewJeans</td>\n",
       "      <td>9</td>\n",
       "      <td>24:06.641777</td>\n",
       "    </tr>\n",
       "    <tr>\n",
       "      <th>5</th>\n",
       "      <td>Jumbrado</td>\n",
       "      <td>8</td>\n",
       "      <td>24:10.686492</td>\n",
       "    </tr>\n",
       "    <tr>\n",
       "      <th>6</th>\n",
       "      <td>Weiss</td>\n",
       "      <td>7</td>\n",
       "      <td>27:30.258562</td>\n",
       "    </tr>\n",
       "    <tr>\n",
       "      <th>7</th>\n",
       "      <td>Ks</td>\n",
       "      <td>6</td>\n",
       "      <td>26:34.745015</td>\n",
       "    </tr>\n",
       "    <tr>\n",
       "      <th>8</th>\n",
       "      <td>Mestre LpK</td>\n",
       "      <td>6</td>\n",
       "      <td>37:07.591488</td>\n",
       "    </tr>\n",
       "    <tr>\n",
       "      <th>9</th>\n",
       "      <td>ftbr</td>\n",
       "      <td>5</td>\n",
       "      <td>26:19.986206</td>\n",
       "    </tr>\n",
       "    <tr>\n",
       "      <th>10</th>\n",
       "      <td>KNOCK</td>\n",
       "      <td>4</td>\n",
       "      <td>27:09.029479</td>\n",
       "    </tr>\n",
       "    <tr>\n",
       "      <th>11</th>\n",
       "      <td>Lironi</td>\n",
       "      <td>4</td>\n",
       "      <td>25:07.721008</td>\n",
       "    </tr>\n",
       "    <tr>\n",
       "      <th>12</th>\n",
       "      <td>Root</td>\n",
       "      <td>3</td>\n",
       "      <td>23:58.238688</td>\n",
       "    </tr>\n",
       "    <tr>\n",
       "      <th>13</th>\n",
       "      <td>ackloh mito</td>\n",
       "      <td>2</td>\n",
       "      <td>34:44.970947</td>\n",
       "    </tr>\n",
       "    <tr>\n",
       "      <th>14</th>\n",
       "      <td>Delirio</td>\n",
       "      <td>2</td>\n",
       "      <td>34:07.002502</td>\n",
       "    </tr>\n",
       "    <tr>\n",
       "      <th>15</th>\n",
       "      <td>Guiltybr</td>\n",
       "      <td>2</td>\n",
       "      <td>28:22.967468</td>\n",
       "    </tr>\n",
       "    <tr>\n",
       "      <th>16</th>\n",
       "      <td>MatthawsRdC</td>\n",
       "      <td>2</td>\n",
       "      <td>31:58.324462</td>\n",
       "    </tr>\n",
       "    <tr>\n",
       "      <th>17</th>\n",
       "      <td>Lipekill</td>\n",
       "      <td>2</td>\n",
       "      <td>29:00.617004</td>\n",
       "    </tr>\n",
       "    <tr>\n",
       "      <th>18</th>\n",
       "      <td>Jihn</td>\n",
       "      <td>2</td>\n",
       "      <td>24:31.228027</td>\n",
       "    </tr>\n",
       "    <tr>\n",
       "      <th>19</th>\n",
       "      <td>Paula</td>\n",
       "      <td>1</td>\n",
       "      <td>41:37.697998</td>\n",
       "    </tr>\n",
       "    <tr>\n",
       "      <th>20</th>\n",
       "      <td>Luhmb</td>\n",
       "      <td>1</td>\n",
       "      <td>26:12.671997</td>\n",
       "    </tr>\n",
       "    <tr>\n",
       "      <th>21</th>\n",
       "      <td>zenin</td>\n",
       "      <td>1</td>\n",
       "      <td>32:54.987060</td>\n",
       "    </tr>\n",
       "  </tbody>\n",
       "</table>\n",
       "</div>"
      ],
      "text/plain": [
       "           name  vitorias   media_tempo\n",
       "0          Nico        30  23:34.903861\n",
       "1        Xanad0        29  23:02.112898\n",
       "2          kawa        21  23:47.180623\n",
       "3         Royal        18  24:08.372226\n",
       "4      NewJeans         9  24:06.641777\n",
       "5      Jumbrado         8  24:10.686492\n",
       "6         Weiss         7  27:30.258562\n",
       "7            Ks         6  26:34.745015\n",
       "8    Mestre LpK         6  37:07.591488\n",
       "9          ftbr         5  26:19.986206\n",
       "10        KNOCK         4  27:09.029479\n",
       "11       Lironi         4  25:07.721008\n",
       "12         Root         3  23:58.238688\n",
       "13  ackloh mito         2  34:44.970947\n",
       "14      Delirio         2  34:07.002502\n",
       "15     Guiltybr         2  28:22.967468\n",
       "16  MatthawsRdC         2  31:58.324462\n",
       "17     Lipekill         2  29:00.617004\n",
       "18         Jihn         2  24:31.228027\n",
       "19        Paula         1  41:37.697998\n",
       "20        Luhmb         1  26:12.671997\n",
       "21        zenin         1  32:54.987060"
      ]
     },
     "execution_count": 309,
     "metadata": {},
     "output_type": "execute_result"
    }
   ],
   "source": [
    "# Criar uma tabela com a contagem de cada jogador\n",
    "vitorias_jogadores = info_df.groupby('name').size().reset_index(name='vitorias').sort_values(by='vitorias', ascending=False)\n",
    "\n",
    "# Converter a coluna 'time' para numérica\n",
    "info_df['time'] = pd.to_numeric(info_df['time'], errors='coerce')\n",
    "\n",
    "# Calcular a média de tempo para cada jogador em minutos\n",
    "media_tempo = info_df.groupby('name')['time'].mean().reset_index(name='media_tempo')\n",
    "media_tempo['media_tempo'] /= 60  # Convertendo para minutos\n",
    "media_tempo['media_tempo'] = pd.to_datetime(media_tempo['media_tempo'], unit='m').dt.strftime('%M:%S.%f')\n",
    "\n",
    "# Exibir a tabela\n",
    "resultado_final = pd.merge(vitorias_jogadores, media_tempo, on='name')\n",
    "\n",
    "resultado_final\n",
    "\n"
   ]
  },
  {
   "cell_type": "markdown",
   "metadata": {},
   "source": [
    "## Quantidade jogada heróis"
   ]
  },
  {
   "cell_type": "code",
   "execution_count": 310,
   "metadata": {},
   "outputs": [
    {
     "data": {
      "application/vnd.plotly.v1+json": {
       "config": {
        "plotlyServerURL": "https://plot.ly"
       },
       "data": [
        {
         "domain": {
          "x": [
           0,
           1
          ],
          "y": [
           0,
           1
          ]
         },
         "hovertemplate": "hero_nome=%{label}<br>quantidade=%{value}<extra></extra>",
         "labels": [
          "Bulbasaur",
          "Charmander",
          "Pikachu",
          "Squirtle"
         ],
         "legendgroup": "",
         "name": "",
         "showlegend": true,
         "type": "pie",
         "values": [
          55,
          60,
          29,
          21
         ]
        }
       ],
       "layout": {
        "legend": {
         "tracegroupgap": 0
        },
        "template": {
         "data": {
          "bar": [
           {
            "error_x": {
             "color": "#2a3f5f"
            },
            "error_y": {
             "color": "#2a3f5f"
            },
            "marker": {
             "line": {
              "color": "#E5ECF6",
              "width": 0.5
             },
             "pattern": {
              "fillmode": "overlay",
              "size": 10,
              "solidity": 0.2
             }
            },
            "type": "bar"
           }
          ],
          "barpolar": [
           {
            "marker": {
             "line": {
              "color": "#E5ECF6",
              "width": 0.5
             },
             "pattern": {
              "fillmode": "overlay",
              "size": 10,
              "solidity": 0.2
             }
            },
            "type": "barpolar"
           }
          ],
          "carpet": [
           {
            "aaxis": {
             "endlinecolor": "#2a3f5f",
             "gridcolor": "white",
             "linecolor": "white",
             "minorgridcolor": "white",
             "startlinecolor": "#2a3f5f"
            },
            "baxis": {
             "endlinecolor": "#2a3f5f",
             "gridcolor": "white",
             "linecolor": "white",
             "minorgridcolor": "white",
             "startlinecolor": "#2a3f5f"
            },
            "type": "carpet"
           }
          ],
          "choropleth": [
           {
            "colorbar": {
             "outlinewidth": 0,
             "ticks": ""
            },
            "type": "choropleth"
           }
          ],
          "contour": [
           {
            "colorbar": {
             "outlinewidth": 0,
             "ticks": ""
            },
            "colorscale": [
             [
              0,
              "#0d0887"
             ],
             [
              0.1111111111111111,
              "#46039f"
             ],
             [
              0.2222222222222222,
              "#7201a8"
             ],
             [
              0.3333333333333333,
              "#9c179e"
             ],
             [
              0.4444444444444444,
              "#bd3786"
             ],
             [
              0.5555555555555556,
              "#d8576b"
             ],
             [
              0.6666666666666666,
              "#ed7953"
             ],
             [
              0.7777777777777778,
              "#fb9f3a"
             ],
             [
              0.8888888888888888,
              "#fdca26"
             ],
             [
              1,
              "#f0f921"
             ]
            ],
            "type": "contour"
           }
          ],
          "contourcarpet": [
           {
            "colorbar": {
             "outlinewidth": 0,
             "ticks": ""
            },
            "type": "contourcarpet"
           }
          ],
          "heatmap": [
           {
            "colorbar": {
             "outlinewidth": 0,
             "ticks": ""
            },
            "colorscale": [
             [
              0,
              "#0d0887"
             ],
             [
              0.1111111111111111,
              "#46039f"
             ],
             [
              0.2222222222222222,
              "#7201a8"
             ],
             [
              0.3333333333333333,
              "#9c179e"
             ],
             [
              0.4444444444444444,
              "#bd3786"
             ],
             [
              0.5555555555555556,
              "#d8576b"
             ],
             [
              0.6666666666666666,
              "#ed7953"
             ],
             [
              0.7777777777777778,
              "#fb9f3a"
             ],
             [
              0.8888888888888888,
              "#fdca26"
             ],
             [
              1,
              "#f0f921"
             ]
            ],
            "type": "heatmap"
           }
          ],
          "heatmapgl": [
           {
            "colorbar": {
             "outlinewidth": 0,
             "ticks": ""
            },
            "colorscale": [
             [
              0,
              "#0d0887"
             ],
             [
              0.1111111111111111,
              "#46039f"
             ],
             [
              0.2222222222222222,
              "#7201a8"
             ],
             [
              0.3333333333333333,
              "#9c179e"
             ],
             [
              0.4444444444444444,
              "#bd3786"
             ],
             [
              0.5555555555555556,
              "#d8576b"
             ],
             [
              0.6666666666666666,
              "#ed7953"
             ],
             [
              0.7777777777777778,
              "#fb9f3a"
             ],
             [
              0.8888888888888888,
              "#fdca26"
             ],
             [
              1,
              "#f0f921"
             ]
            ],
            "type": "heatmapgl"
           }
          ],
          "histogram": [
           {
            "marker": {
             "pattern": {
              "fillmode": "overlay",
              "size": 10,
              "solidity": 0.2
             }
            },
            "type": "histogram"
           }
          ],
          "histogram2d": [
           {
            "colorbar": {
             "outlinewidth": 0,
             "ticks": ""
            },
            "colorscale": [
             [
              0,
              "#0d0887"
             ],
             [
              0.1111111111111111,
              "#46039f"
             ],
             [
              0.2222222222222222,
              "#7201a8"
             ],
             [
              0.3333333333333333,
              "#9c179e"
             ],
             [
              0.4444444444444444,
              "#bd3786"
             ],
             [
              0.5555555555555556,
              "#d8576b"
             ],
             [
              0.6666666666666666,
              "#ed7953"
             ],
             [
              0.7777777777777778,
              "#fb9f3a"
             ],
             [
              0.8888888888888888,
              "#fdca26"
             ],
             [
              1,
              "#f0f921"
             ]
            ],
            "type": "histogram2d"
           }
          ],
          "histogram2dcontour": [
           {
            "colorbar": {
             "outlinewidth": 0,
             "ticks": ""
            },
            "colorscale": [
             [
              0,
              "#0d0887"
             ],
             [
              0.1111111111111111,
              "#46039f"
             ],
             [
              0.2222222222222222,
              "#7201a8"
             ],
             [
              0.3333333333333333,
              "#9c179e"
             ],
             [
              0.4444444444444444,
              "#bd3786"
             ],
             [
              0.5555555555555556,
              "#d8576b"
             ],
             [
              0.6666666666666666,
              "#ed7953"
             ],
             [
              0.7777777777777778,
              "#fb9f3a"
             ],
             [
              0.8888888888888888,
              "#fdca26"
             ],
             [
              1,
              "#f0f921"
             ]
            ],
            "type": "histogram2dcontour"
           }
          ],
          "mesh3d": [
           {
            "colorbar": {
             "outlinewidth": 0,
             "ticks": ""
            },
            "type": "mesh3d"
           }
          ],
          "parcoords": [
           {
            "line": {
             "colorbar": {
              "outlinewidth": 0,
              "ticks": ""
             }
            },
            "type": "parcoords"
           }
          ],
          "pie": [
           {
            "automargin": true,
            "type": "pie"
           }
          ],
          "scatter": [
           {
            "fillpattern": {
             "fillmode": "overlay",
             "size": 10,
             "solidity": 0.2
            },
            "type": "scatter"
           }
          ],
          "scatter3d": [
           {
            "line": {
             "colorbar": {
              "outlinewidth": 0,
              "ticks": ""
             }
            },
            "marker": {
             "colorbar": {
              "outlinewidth": 0,
              "ticks": ""
             }
            },
            "type": "scatter3d"
           }
          ],
          "scattercarpet": [
           {
            "marker": {
             "colorbar": {
              "outlinewidth": 0,
              "ticks": ""
             }
            },
            "type": "scattercarpet"
           }
          ],
          "scattergeo": [
           {
            "marker": {
             "colorbar": {
              "outlinewidth": 0,
              "ticks": ""
             }
            },
            "type": "scattergeo"
           }
          ],
          "scattergl": [
           {
            "marker": {
             "colorbar": {
              "outlinewidth": 0,
              "ticks": ""
             }
            },
            "type": "scattergl"
           }
          ],
          "scattermapbox": [
           {
            "marker": {
             "colorbar": {
              "outlinewidth": 0,
              "ticks": ""
             }
            },
            "type": "scattermapbox"
           }
          ],
          "scatterpolar": [
           {
            "marker": {
             "colorbar": {
              "outlinewidth": 0,
              "ticks": ""
             }
            },
            "type": "scatterpolar"
           }
          ],
          "scatterpolargl": [
           {
            "marker": {
             "colorbar": {
              "outlinewidth": 0,
              "ticks": ""
             }
            },
            "type": "scatterpolargl"
           }
          ],
          "scatterternary": [
           {
            "marker": {
             "colorbar": {
              "outlinewidth": 0,
              "ticks": ""
             }
            },
            "type": "scatterternary"
           }
          ],
          "surface": [
           {
            "colorbar": {
             "outlinewidth": 0,
             "ticks": ""
            },
            "colorscale": [
             [
              0,
              "#0d0887"
             ],
             [
              0.1111111111111111,
              "#46039f"
             ],
             [
              0.2222222222222222,
              "#7201a8"
             ],
             [
              0.3333333333333333,
              "#9c179e"
             ],
             [
              0.4444444444444444,
              "#bd3786"
             ],
             [
              0.5555555555555556,
              "#d8576b"
             ],
             [
              0.6666666666666666,
              "#ed7953"
             ],
             [
              0.7777777777777778,
              "#fb9f3a"
             ],
             [
              0.8888888888888888,
              "#fdca26"
             ],
             [
              1,
              "#f0f921"
             ]
            ],
            "type": "surface"
           }
          ],
          "table": [
           {
            "cells": {
             "fill": {
              "color": "#EBF0F8"
             },
             "line": {
              "color": "white"
             }
            },
            "header": {
             "fill": {
              "color": "#C8D4E3"
             },
             "line": {
              "color": "white"
             }
            },
            "type": "table"
           }
          ]
         },
         "layout": {
          "annotationdefaults": {
           "arrowcolor": "#2a3f5f",
           "arrowhead": 0,
           "arrowwidth": 1
          },
          "autotypenumbers": "strict",
          "coloraxis": {
           "colorbar": {
            "outlinewidth": 0,
            "ticks": ""
           }
          },
          "colorscale": {
           "diverging": [
            [
             0,
             "#8e0152"
            ],
            [
             0.1,
             "#c51b7d"
            ],
            [
             0.2,
             "#de77ae"
            ],
            [
             0.3,
             "#f1b6da"
            ],
            [
             0.4,
             "#fde0ef"
            ],
            [
             0.5,
             "#f7f7f7"
            ],
            [
             0.6,
             "#e6f5d0"
            ],
            [
             0.7,
             "#b8e186"
            ],
            [
             0.8,
             "#7fbc41"
            ],
            [
             0.9,
             "#4d9221"
            ],
            [
             1,
             "#276419"
            ]
           ],
           "sequential": [
            [
             0,
             "#0d0887"
            ],
            [
             0.1111111111111111,
             "#46039f"
            ],
            [
             0.2222222222222222,
             "#7201a8"
            ],
            [
             0.3333333333333333,
             "#9c179e"
            ],
            [
             0.4444444444444444,
             "#bd3786"
            ],
            [
             0.5555555555555556,
             "#d8576b"
            ],
            [
             0.6666666666666666,
             "#ed7953"
            ],
            [
             0.7777777777777778,
             "#fb9f3a"
            ],
            [
             0.8888888888888888,
             "#fdca26"
            ],
            [
             1,
             "#f0f921"
            ]
           ],
           "sequentialminus": [
            [
             0,
             "#0d0887"
            ],
            [
             0.1111111111111111,
             "#46039f"
            ],
            [
             0.2222222222222222,
             "#7201a8"
            ],
            [
             0.3333333333333333,
             "#9c179e"
            ],
            [
             0.4444444444444444,
             "#bd3786"
            ],
            [
             0.5555555555555556,
             "#d8576b"
            ],
            [
             0.6666666666666666,
             "#ed7953"
            ],
            [
             0.7777777777777778,
             "#fb9f3a"
            ],
            [
             0.8888888888888888,
             "#fdca26"
            ],
            [
             1,
             "#f0f921"
            ]
           ]
          },
          "colorway": [
           "#636efa",
           "#EF553B",
           "#00cc96",
           "#ab63fa",
           "#FFA15A",
           "#19d3f3",
           "#FF6692",
           "#B6E880",
           "#FF97FF",
           "#FECB52"
          ],
          "font": {
           "color": "#2a3f5f"
          },
          "geo": {
           "bgcolor": "white",
           "lakecolor": "white",
           "landcolor": "#E5ECF6",
           "showlakes": true,
           "showland": true,
           "subunitcolor": "white"
          },
          "hoverlabel": {
           "align": "left"
          },
          "hovermode": "closest",
          "mapbox": {
           "style": "light"
          },
          "paper_bgcolor": "white",
          "plot_bgcolor": "#E5ECF6",
          "polar": {
           "angularaxis": {
            "gridcolor": "white",
            "linecolor": "white",
            "ticks": ""
           },
           "bgcolor": "#E5ECF6",
           "radialaxis": {
            "gridcolor": "white",
            "linecolor": "white",
            "ticks": ""
           }
          },
          "scene": {
           "xaxis": {
            "backgroundcolor": "#E5ECF6",
            "gridcolor": "white",
            "gridwidth": 2,
            "linecolor": "white",
            "showbackground": true,
            "ticks": "",
            "zerolinecolor": "white"
           },
           "yaxis": {
            "backgroundcolor": "#E5ECF6",
            "gridcolor": "white",
            "gridwidth": 2,
            "linecolor": "white",
            "showbackground": true,
            "ticks": "",
            "zerolinecolor": "white"
           },
           "zaxis": {
            "backgroundcolor": "#E5ECF6",
            "gridcolor": "white",
            "gridwidth": 2,
            "linecolor": "white",
            "showbackground": true,
            "ticks": "",
            "zerolinecolor": "white"
           }
          },
          "shapedefaults": {
           "line": {
            "color": "#2a3f5f"
           }
          },
          "ternary": {
           "aaxis": {
            "gridcolor": "white",
            "linecolor": "white",
            "ticks": ""
           },
           "baxis": {
            "gridcolor": "white",
            "linecolor": "white",
            "ticks": ""
           },
           "bgcolor": "#E5ECF6",
           "caxis": {
            "gridcolor": "white",
            "linecolor": "white",
            "ticks": ""
           }
          },
          "title": {
           "x": 0.05
          },
          "xaxis": {
           "automargin": true,
           "gridcolor": "white",
           "linecolor": "white",
           "ticks": "",
           "title": {
            "standoff": 15
           },
           "zerolinecolor": "white",
           "zerolinewidth": 2
          },
          "yaxis": {
           "automargin": true,
           "gridcolor": "white",
           "linecolor": "white",
           "ticks": "",
           "title": {
            "standoff": 15
           },
           "zerolinecolor": "white",
           "zerolinewidth": 2
          }
         }
        },
        "title": {
         "text": "Contagem de Personagens por Nome de Herói"
        }
       }
      }
     },
     "metadata": {},
     "output_type": "display_data"
    }
   ],
   "source": [
    "# Criar um DataFrame com os dados\n",
    "contagem_heroi = info_df\n",
    "\n",
    "contagem_heroi['hero_nome'] = contagem_heroi['character'].apply(hero_nome_id)\n",
    "\n",
    "# Criar uma tabela com a contagem de cada personagem usando groupby\n",
    "contagem_heroi = info_df.groupby(['hero_nome']).size().reset_index(name='quantidade')\n",
    "\n",
    "# Exibir o gráfico\n",
    "#contagem_heroi\n",
    "\n",
    "# Criar um gráfico de pizza com Plotly Express\n",
    "fig = px.pie(contagem_heroi, values='quantidade', names='hero_nome', title='Contagem de Personagens por Nome de Herói')\n",
    "\n",
    "fig.show()\n"
   ]
  },
  {
   "cell_type": "markdown",
   "metadata": {},
   "source": [
    "## Herói mais jogado por jogador"
   ]
  },
  {
   "cell_type": "code",
   "execution_count": 311,
   "metadata": {},
   "outputs": [],
   "source": [
    "heroi_preferido_por_jogador = info_df \n",
    "\n",
    "# Calcular a contagem de ocorrências de cada personagem por jogador\n",
    "heroi_preferido_por_jogador = heroi_preferido_por_jogador.groupby(['name', 'hero_nome']).size().reset_index(name='quantidade')\n",
    "\n",
    "# Encontrar o índice do primeiro valor máximo para cada jogador\n",
    "idx = heroi_preferido_por_jogador.groupby('name')['quantidade'].idxmax()\n",
    "heroi_preferido_por_jogador = heroi_preferido_por_jogador.loc[idx]\n",
    "\n",
    "# Exibir a tabela final\n",
    "#heroi_preferido_por_jogador[['name', 'hero_nome', 'quantidade']]\n"
   ]
  },
  {
   "cell_type": "markdown",
   "metadata": {},
   "source": [
    "## Suporte mais jogado pelos jogadores"
   ]
  },
  {
   "cell_type": "code",
   "execution_count": 312,
   "metadata": {},
   "outputs": [
    {
     "data": {
      "text/html": [
       "<div>\n",
       "<style scoped>\n",
       "    .dataframe tbody tr th:only-of-type {\n",
       "        vertical-align: middle;\n",
       "    }\n",
       "\n",
       "    .dataframe tbody tr th {\n",
       "        vertical-align: top;\n",
       "    }\n",
       "\n",
       "    .dataframe thead th {\n",
       "        text-align: right;\n",
       "    }\n",
       "</style>\n",
       "<table border=\"1\" class=\"dataframe\">\n",
       "  <thead>\n",
       "    <tr style=\"text-align: right;\">\n",
       "      <th></th>\n",
       "      <th>name</th>\n",
       "      <th>support_nome</th>\n",
       "      <th>quantidade</th>\n",
       "    </tr>\n",
       "  </thead>\n",
       "  <tbody>\n",
       "    <tr>\n",
       "      <th>5</th>\n",
       "      <td>Delirio</td>\n",
       "      <td>Muk</td>\n",
       "      <td>2</td>\n",
       "    </tr>\n",
       "    <tr>\n",
       "      <th>15</th>\n",
       "      <td>Guiltybr</td>\n",
       "      <td>Umbreon</td>\n",
       "      <td>1</td>\n",
       "    </tr>\n",
       "    <tr>\n",
       "      <th>22</th>\n",
       "      <td>Jihn</td>\n",
       "      <td>Umbreon</td>\n",
       "      <td>2</td>\n",
       "    </tr>\n",
       "    <tr>\n",
       "      <th>33</th>\n",
       "      <td>Jumbrado</td>\n",
       "      <td>Umbreon</td>\n",
       "      <td>1</td>\n",
       "    </tr>\n",
       "    <tr>\n",
       "      <th>45</th>\n",
       "      <td>KNOCK</td>\n",
       "      <td>Vaporeon</td>\n",
       "      <td>1</td>\n",
       "    </tr>\n",
       "    <tr>\n",
       "      <th>59</th>\n",
       "      <td>Ks</td>\n",
       "      <td>Victribell</td>\n",
       "      <td>1</td>\n",
       "    </tr>\n",
       "    <tr>\n",
       "      <th>67</th>\n",
       "      <td>Lipekill</td>\n",
       "      <td>Victribell</td>\n",
       "      <td>1</td>\n",
       "    </tr>\n",
       "    <tr>\n",
       "      <th>79</th>\n",
       "      <td>Lironi</td>\n",
       "      <td>Swampert</td>\n",
       "      <td>1</td>\n",
       "    </tr>\n",
       "    <tr>\n",
       "      <th>84</th>\n",
       "      <td>Luhmb</td>\n",
       "      <td>Magneton</td>\n",
       "      <td>1</td>\n",
       "    </tr>\n",
       "    <tr>\n",
       "      <th>91</th>\n",
       "      <td>MatthawsRdC</td>\n",
       "      <td>Victribell</td>\n",
       "      <td>1</td>\n",
       "    </tr>\n",
       "    <tr>\n",
       "      <th>106</th>\n",
       "      <td>Mestre LpK</td>\n",
       "      <td>Umbreon</td>\n",
       "      <td>2</td>\n",
       "    </tr>\n",
       "    <tr>\n",
       "      <th>122</th>\n",
       "      <td>NewJeans</td>\n",
       "      <td>Victribell</td>\n",
       "      <td>1</td>\n",
       "    </tr>\n",
       "    <tr>\n",
       "      <th>139</th>\n",
       "      <td>Nico</td>\n",
       "      <td>Vaporeon</td>\n",
       "      <td>5</td>\n",
       "    </tr>\n",
       "    <tr>\n",
       "      <th>144</th>\n",
       "      <td>Paula</td>\n",
       "      <td>Pidgeot</td>\n",
       "      <td>1</td>\n",
       "    </tr>\n",
       "    <tr>\n",
       "      <th>154</th>\n",
       "      <td>Root</td>\n",
       "      <td>Meganium</td>\n",
       "      <td>2</td>\n",
       "    </tr>\n",
       "    <tr>\n",
       "      <th>174</th>\n",
       "      <td>Royal</td>\n",
       "      <td>Victribell</td>\n",
       "      <td>2</td>\n",
       "    </tr>\n",
       "    <tr>\n",
       "      <th>190</th>\n",
       "      <td>Weiss</td>\n",
       "      <td>Victribell</td>\n",
       "      <td>1</td>\n",
       "    </tr>\n",
       "    <tr>\n",
       "      <th>204</th>\n",
       "      <td>Xanad0</td>\n",
       "      <td>Umbreon</td>\n",
       "      <td>17</td>\n",
       "    </tr>\n",
       "    <tr>\n",
       "      <th>213</th>\n",
       "      <td>ackloh mito</td>\n",
       "      <td>Umbreon</td>\n",
       "      <td>1</td>\n",
       "    </tr>\n",
       "    <tr>\n",
       "      <th>226</th>\n",
       "      <td>ftbr</td>\n",
       "      <td>Victribell</td>\n",
       "      <td>1</td>\n",
       "    </tr>\n",
       "    <tr>\n",
       "      <th>245</th>\n",
       "      <td>kawa</td>\n",
       "      <td>Vaporeon</td>\n",
       "      <td>2</td>\n",
       "    </tr>\n",
       "    <tr>\n",
       "      <th>250</th>\n",
       "      <td>zenin</td>\n",
       "      <td>Victribell</td>\n",
       "      <td>1</td>\n",
       "    </tr>\n",
       "  </tbody>\n",
       "</table>\n",
       "</div>"
      ],
      "text/plain": [
       "            name support_nome  quantidade\n",
       "5        Delirio          Muk           2\n",
       "15      Guiltybr      Umbreon           1\n",
       "22          Jihn      Umbreon           2\n",
       "33      Jumbrado      Umbreon           1\n",
       "45         KNOCK     Vaporeon           1\n",
       "59            Ks   Victribell           1\n",
       "67      Lipekill   Victribell           1\n",
       "79        Lironi     Swampert           1\n",
       "84         Luhmb     Magneton           1\n",
       "91   MatthawsRdC   Victribell           1\n",
       "106   Mestre LpK      Umbreon           2\n",
       "122     NewJeans   Victribell           1\n",
       "139         Nico     Vaporeon           5\n",
       "144        Paula      Pidgeot           1\n",
       "154         Root     Meganium           2\n",
       "174        Royal   Victribell           2\n",
       "190        Weiss   Victribell           1\n",
       "204       Xanad0      Umbreon          17\n",
       "213  ackloh mito      Umbreon           1\n",
       "226         ftbr   Victribell           1\n",
       "245         kawa     Vaporeon           2\n",
       "250        zenin   Victribell           1"
      ]
     },
     "execution_count": 312,
     "metadata": {},
     "output_type": "execute_result"
    }
   ],
   "source": [
    "suporte_preferido_por_jogador = stats_df\n",
    "\n",
    "# Adicionar uma coluna com os nomes dos Heróis usando a função\n",
    "suporte_preferido_por_jogador['support_nome'] = suporte_preferido_por_jogador['pokemon'].apply(support_id_nome)\n",
    "\n",
    "suporte_preferido_por_jogador = suporte_preferido_por_jogador.groupby(['name', 'support_nome']).size().reset_index(name='quantidade')\n",
    "\n",
    "# Exibir as primeiras linhas do DataFrame normalizado\n",
    "idx = suporte_preferido_por_jogador.groupby('name')['support_nome'].idxmax()\n",
    "suporte_preferido_por_jogador = suporte_preferido_por_jogador.loc[idx]\n",
    "\n",
    "suporte_preferido_por_jogador[['name', 'support_nome', 'quantidade']]"
   ]
  },
  {
   "cell_type": "markdown",
   "metadata": {},
   "source": [
    "# DPS"
   ]
  },
  {
   "cell_type": "markdown",
   "metadata": {},
   "source": [
    "## Geral"
   ]
  },
  {
   "cell_type": "code",
   "execution_count": 386,
   "metadata": {},
   "outputs": [],
   "source": [
    "dps_geral = stats_dfo.copy()\n",
    "\n",
    "dps_geral['nome'] = dps_geral['pokemon'].apply(support_id_nome)\n",
    "\n",
    "# Adicionar colunas 'name' e 'time' de volta\n",
    "dps_geral['time'] = df['time'].repeat(info_df['statistics'].apply(len).tolist()).reset_index(drop=True)\n",
    "\n",
    "# Converter colunas para float\n",
    "dps_geral['startTime'] = dps_geral['startTime'].str.replace(',', '.').astype(float)\n",
    "dps_geral['time'] = dps_geral['time'].str.replace(',', '.').astype(float)\n",
    "dps_geral['damage'] = dps_geral['damage'].str.replace(',', '.').astype(int)\n",
    "\n",
    "# Calcular DPS\n",
    "dps_geral['dps'] = dps_geral['damage'] / (dps_geral['time'] - dps_geral['startTime'])\n",
    "\n",
    "# Calcular média do DPS para cada pokemon\n",
    "dps_media = dps_geral.groupby(['nome', 'pokemon'])['dps'].mean().reset_index()\n"
   ]
  },
  {
   "cell_type": "markdown",
   "metadata": {},
   "source": [
    "## DPS de cada suporte"
   ]
  },
  {
   "cell_type": "code",
   "execution_count": 387,
   "metadata": {},
   "outputs": [],
   "source": [
    "# Filtrar registros com pokemon diferente de -1\n",
    "dps_media_suporte = dps_media.query('pokemon != -1')\n",
    "\n",
    "# Criar gráfico interativo com Plotly Express\n",
    "fig = px.bar(\n",
    "    dps_media_suporte,\n",
    "    x='nome',\n",
    "    y='dps',\n",
    "    labels={'avg_dps': 'DPS Médio', 'pokemon_name': 'Suporte'},\n",
    ")\n",
    "\n",
    "# Ajustar layout para melhor visualização\n",
    "#fig.update_layout(xaxis_tickangle=-45)\n",
    "\n",
    "#Exibir o gráfico\n",
    "#fig.show()"
   ]
  },
  {
   "cell_type": "markdown",
   "metadata": {},
   "source": [
    "## Dps Heroi"
   ]
  },
  {
   "cell_type": "code",
   "execution_count": 388,
   "metadata": {},
   "outputs": [
    {
     "data": {
      "text/html": [
       "<div>\n",
       "<style scoped>\n",
       "    .dataframe tbody tr th:only-of-type {\n",
       "        vertical-align: middle;\n",
       "    }\n",
       "\n",
       "    .dataframe tbody tr th {\n",
       "        vertical-align: top;\n",
       "    }\n",
       "\n",
       "    .dataframe thead th {\n",
       "        text-align: right;\n",
       "    }\n",
       "</style>\n",
       "<table border=\"1\" class=\"dataframe\">\n",
       "  <thead>\n",
       "    <tr style=\"text-align: right;\">\n",
       "      <th></th>\n",
       "      <th>hero_nome</th>\n",
       "      <th>dps</th>\n",
       "    </tr>\n",
       "  </thead>\n",
       "  <tbody>\n",
       "    <tr>\n",
       "      <th>0</th>\n",
       "      <td>Bulbasaur</td>\n",
       "      <td>194.578523</td>\n",
       "    </tr>\n",
       "    <tr>\n",
       "      <th>1</th>\n",
       "      <td>Charmander</td>\n",
       "      <td>148.604739</td>\n",
       "    </tr>\n",
       "    <tr>\n",
       "      <th>2</th>\n",
       "      <td>Pikachu</td>\n",
       "      <td>191.911764</td>\n",
       "    </tr>\n",
       "    <tr>\n",
       "      <th>3</th>\n",
       "      <td>Squirtle</td>\n",
       "      <td>149.689138</td>\n",
       "    </tr>\n",
       "  </tbody>\n",
       "</table>\n",
       "</div>"
      ],
      "text/plain": [
       "    hero_nome         dps\n",
       "0   Bulbasaur  194.578523\n",
       "1  Charmander  148.604739\n",
       "2     Pikachu  191.911764\n",
       "3    Squirtle  149.689138"
      ]
     },
     "execution_count": 388,
     "metadata": {},
     "output_type": "execute_result"
    }
   ],
   "source": [
    "stats_df = dps_geral.copy()\n",
    "\n",
    "dps_media_heroi = stats_df.query('pokemon == -1').reset_index(drop=True)\n",
    "\n",
    "# Adicionar coluna 'hero' com os IDs dos heróis repetidos\n",
    "dps_media_heroi['hero'] = info_df['character'].repeat(info_df['statistics'].apply(len).tolist()).reset_index(drop=True)\n",
    "\n",
    "# Adicionar coluna 'hero_nome' com os nomes correspondentes aos heróis\n",
    "dps_media_heroi['hero_nome'] = info_df['character'].apply(hero_nome_id)\n",
    "\n",
    "# Calcular a média do DPS para cada herói\n",
    "dps_media_heroi = dps_media_heroi.groupby('hero_nome')['dps'].mean().reset_index()\n",
    "\n",
    "# Renomear a coluna do índice para 'hero_nome'\n",
    "dps_media_heroi = dps_media_heroi.rename(columns={'hero_nome': 'hero_nome'})\n",
    "\n",
    "# Exibir o DataFrame resultante\n",
    "dps_media_heroi"
   ]
  },
  {
   "cell_type": "code",
   "execution_count": 385,
   "metadata": {},
   "outputs": [
    {
     "data": {
      "text/html": [
       "<div>\n",
       "<style scoped>\n",
       "    .dataframe tbody tr th:only-of-type {\n",
       "        vertical-align: middle;\n",
       "    }\n",
       "\n",
       "    .dataframe tbody tr th {\n",
       "        vertical-align: top;\n",
       "    }\n",
       "\n",
       "    .dataframe thead th {\n",
       "        text-align: right;\n",
       "    }\n",
       "</style>\n",
       "<table border=\"1\" class=\"dataframe\">\n",
       "  <thead>\n",
       "    <tr style=\"text-align: right;\">\n",
       "      <th></th>\n",
       "      <th>startTime</th>\n",
       "      <th>pokemon</th>\n",
       "      <th>damage</th>\n",
       "      <th>name</th>\n",
       "      <th>nome</th>\n",
       "      <th>time</th>\n",
       "      <th>dps</th>\n",
       "      <th>id_partida</th>\n",
       "    </tr>\n",
       "  </thead>\n",
       "  <tbody>\n",
       "    <tr>\n",
       "      <th>0</th>\n",
       "      <td>122.7551</td>\n",
       "      <td>3</td>\n",
       "      <td>12869</td>\n",
       "      <td>Xanad0</td>\n",
       "      <td>Kingler</td>\n",
       "      <td>1280.947998</td>\n",
       "      <td>11.111275</td>\n",
       "      <td>1</td>\n",
       "    </tr>\n",
       "    <tr>\n",
       "      <th>1</th>\n",
       "      <td>217.8720</td>\n",
       "      <td>0</td>\n",
       "      <td>21683</td>\n",
       "      <td>Xanad0</td>\n",
       "      <td>Arcanine</td>\n",
       "      <td>1280.947998</td>\n",
       "      <td>20.396472</td>\n",
       "      <td>1</td>\n",
       "    </tr>\n",
       "    <tr>\n",
       "      <th>2</th>\n",
       "      <td>435.9753</td>\n",
       "      <td>19</td>\n",
       "      <td>24401</td>\n",
       "      <td>Xanad0</td>\n",
       "      <td>Umbreon</td>\n",
       "      <td>1280.947998</td>\n",
       "      <td>28.877856</td>\n",
       "      <td>1</td>\n",
       "    </tr>\n",
       "    <tr>\n",
       "      <th>3</th>\n",
       "      <td>806.3627</td>\n",
       "      <td>6</td>\n",
       "      <td>16531</td>\n",
       "      <td>Xanad0</td>\n",
       "      <td>Beedrill</td>\n",
       "      <td>1280.947998</td>\n",
       "      <td>34.832516</td>\n",
       "      <td>1</td>\n",
       "    </tr>\n",
       "    <tr>\n",
       "      <th>4</th>\n",
       "      <td>991.2443</td>\n",
       "      <td>8</td>\n",
       "      <td>9001</td>\n",
       "      <td>Xanad0</td>\n",
       "      <td>Electabuzz</td>\n",
       "      <td>1280.947998</td>\n",
       "      <td>31.069676</td>\n",
       "      <td>1</td>\n",
       "    </tr>\n",
       "    <tr>\n",
       "      <th>...</th>\n",
       "      <td>...</td>\n",
       "      <td>...</td>\n",
       "      <td>...</td>\n",
       "      <td>...</td>\n",
       "      <td>...</td>\n",
       "      <td>...</td>\n",
       "      <td>...</td>\n",
       "      <td>...</td>\n",
       "    </tr>\n",
       "    <tr>\n",
       "      <th>820</th>\n",
       "      <td>221.9673</td>\n",
       "      <td>4</td>\n",
       "      <td>43221</td>\n",
       "      <td>Mestre LpK</td>\n",
       "      <td>Leafeon</td>\n",
       "      <td>3599.999002</td>\n",
       "      <td>12.794729</td>\n",
       "      <td>165</td>\n",
       "    </tr>\n",
       "    <tr>\n",
       "      <th>821</th>\n",
       "      <td>690.0281</td>\n",
       "      <td>16</td>\n",
       "      <td>77111</td>\n",
       "      <td>Mestre LpK</td>\n",
       "      <td>Alakazam</td>\n",
       "      <td>3599.999002</td>\n",
       "      <td>26.498890</td>\n",
       "      <td>165</td>\n",
       "    </tr>\n",
       "    <tr>\n",
       "      <th>822</th>\n",
       "      <td>1501.2180</td>\n",
       "      <td>11</td>\n",
       "      <td>75893</td>\n",
       "      <td>Mestre LpK</td>\n",
       "      <td>Jolteon</td>\n",
       "      <td>3599.999002</td>\n",
       "      <td>36.160514</td>\n",
       "      <td>165</td>\n",
       "    </tr>\n",
       "    <tr>\n",
       "      <th>823</th>\n",
       "      <td>3171.3830</td>\n",
       "      <td>13</td>\n",
       "      <td>0</td>\n",
       "      <td>Mestre LpK</td>\n",
       "      <td>MrMime</td>\n",
       "      <td>3599.999002</td>\n",
       "      <td>0.000000</td>\n",
       "      <td>165</td>\n",
       "    </tr>\n",
       "    <tr>\n",
       "      <th>824</th>\n",
       "      <td>4056.3290</td>\n",
       "      <td>21</td>\n",
       "      <td>0</td>\n",
       "      <td>Mestre LpK</td>\n",
       "      <td>Espeon</td>\n",
       "      <td>3599.999002</td>\n",
       "      <td>-0.000000</td>\n",
       "      <td>165</td>\n",
       "    </tr>\n",
       "  </tbody>\n",
       "</table>\n",
       "<p>825 rows × 8 columns</p>\n",
       "</div>"
      ],
      "text/plain": [
       "     startTime  pokemon  damage        name        nome         time        dps  id_partida\n",
       "0     122.7551        3   12869      Xanad0     Kingler  1280.947998  11.111275           1\n",
       "1     217.8720        0   21683      Xanad0    Arcanine  1280.947998  20.396472           1\n",
       "2     435.9753       19   24401      Xanad0     Umbreon  1280.947998  28.877856           1\n",
       "3     806.3627        6   16531      Xanad0    Beedrill  1280.947998  34.832516           1\n",
       "4     991.2443        8    9001      Xanad0  Electabuzz  1280.947998  31.069676           1\n",
       "..         ...      ...     ...         ...         ...          ...        ...         ...\n",
       "820   221.9673        4   43221  Mestre LpK     Leafeon  3599.999002  12.794729         165\n",
       "821   690.0281       16   77111  Mestre LpK    Alakazam  3599.999002  26.498890         165\n",
       "822  1501.2180       11   75893  Mestre LpK     Jolteon  3599.999002  36.160514         165\n",
       "823  3171.3830       13       0  Mestre LpK      MrMime  3599.999002   0.000000         165\n",
       "824  4056.3290       21       0  Mestre LpK      Espeon  3599.999002  -0.000000         165\n",
       "\n",
       "[825 rows x 8 columns]"
      ]
     },
     "execution_count": 385,
     "metadata": {},
     "output_type": "execute_result"
    }
   ],
   "source": [
    "info_df_id_partida = info_df.copy()\n",
    "\n",
    "# Adicionar uma nova coluna 'id_partida' que representa o ID único para cada linha\n",
    "info_df_id_partida['id_partida'] = info_df_id_partida.index + 1 \n",
    "\n",
    "# Filtrar linhas da coluna 'pokemon'\n",
    "stats_df_id_partidah = stats_df.query('pokemon == -1').reset_index(drop=True)\n",
    "\n",
    "# Adicionar coluna 'hero' e 'id_partida' com os IDs dos heróis repetidos\n",
    "stats_df_id_partidah['hero'] = info_df_id_partida['character'].reset_index(drop=True)\n",
    "stats_df_id_partidah['id_partida'] = info_df_id_partida['id_partida'].reset_index(drop=True)\n",
    "\n",
    "# Adicionar coluna 'hero_nome' com os nomes correspondentes aos heróis\n",
    "stats_df_id_partidah['nome'] = stats_df_id_partidah['hero'].apply(hero_nome_id)\n",
    "\n",
    "\n",
    "stats_df_id_partidas = stats_df.copy()\n",
    "\n",
    "stats_df_id_partidas['id_partida'] = info_df_id_partida['id_partida'].repeat(info_df_id_partida['statistics'].apply(len).tolist()).reset_index(drop=True)\n",
    "\n",
    "# Filtrar linhas da coluna 'pokemon'\n",
    "stats_df_id_partidas = stats_df_id_partidas.query('pokemon != -1').reset_index(drop=True)\n",
    "\n",
    "stats_df_id_partidas\n",
    "\n"
   ]
  },
  {
   "cell_type": "code",
   "execution_count": null,
   "metadata": {},
   "outputs": [],
   "source": []
  }
 ],
 "metadata": {
  "kernelspec": {
   "display_name": "Python 3",
   "language": "python",
   "name": "python3"
  },
  "language_info": {
   "codemirror_mode": {
    "name": "ipython",
    "version": 3
   },
   "file_extension": ".py",
   "mimetype": "text/x-python",
   "name": "python",
   "nbconvert_exporter": "python",
   "pygments_lexer": "ipython3",
   "version": "3.11.5"
  }
 },
 "nbformat": 4,
 "nbformat_minor": 2
}
